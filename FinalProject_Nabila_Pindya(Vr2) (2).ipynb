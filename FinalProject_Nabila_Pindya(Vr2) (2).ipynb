{
  "nbformat": 4,
  "nbformat_minor": 0,
  "metadata": {
    "colab": {
      "name": "FinalProject-Nabila Pindya(Vr2).ipynb",
      "provenance": [],
      "collapsed_sections": [
        "cCH1B-zK0F4R",
        "3MikqEQ-_vWh",
        "IF4AAOmGnFp1",
        "leCEHHos0QWS",
        "bonTT98BIdEY",
        "Z1yBoH58CZgu",
        "-QpmOumRDBWt"
      ]
    },
    "kernelspec": {
      "name": "python3",
      "display_name": "Python 3"
    },
    "language_info": {
      "name": "python"
    }
  },
  "cells": [
    {
      "cell_type": "code",
      "metadata": {
        "id": "Fe1k0rfAin-I",
        "colab": {
          "base_uri": "https://localhost:8080/"
        },
        "outputId": "7fc6e5a2-57b1-4e64-d38a-d7def61bc0fd"
      },
      "source": [
        "from google.colab import drive\n",
        "drive.mount('/content/gdrive')"
      ],
      "execution_count": null,
      "outputs": [
        {
          "output_type": "stream",
          "name": "stdout",
          "text": [
            "Mounted at /content/gdrive\n"
          ]
        }
      ]
    },
    {
      "cell_type": "code",
      "metadata": {
        "colab": {
          "base_uri": "https://localhost:8080/"
        },
        "id": "4CLT7y84i-M5",
        "outputId": "8dec3733-164a-471d-ba0e-2258124a7c33"
      },
      "source": [
        "%cd /content/gdrive/MyDrive/Python/Final Test"
      ],
      "execution_count": null,
      "outputs": [
        {
          "output_type": "stream",
          "name": "stdout",
          "text": [
            "/content/gdrive/MyDrive/Python/Final Test\n"
          ]
        }
      ]
    },
    {
      "cell_type": "code",
      "metadata": {
        "id": "rz9t_q0dnOWP",
        "colab": {
          "base_uri": "https://localhost:8080/"
        },
        "outputId": "7f00e641-d708-4c74-e6fc-2f31fe0140ec"
      },
      "source": [
        "!pip install matplotlib-venn\n",
        "!apt-get -qq install -y libfluidsynth1\n",
        "# https://pypi.python.org/pypi/pydot\n",
        "!apt-get -qq install -y graphviz && pip install pydot\n",
        "import pydot"
      ],
      "execution_count": null,
      "outputs": [
        {
          "output_type": "stream",
          "name": "stdout",
          "text": [
            "Requirement already satisfied: matplotlib-venn in /usr/local/lib/python3.7/dist-packages (0.11.6)\n",
            "Requirement already satisfied: numpy in /usr/local/lib/python3.7/dist-packages (from matplotlib-venn) (1.19.5)\n",
            "Requirement already satisfied: matplotlib in /usr/local/lib/python3.7/dist-packages (from matplotlib-venn) (3.2.2)\n",
            "Requirement already satisfied: scipy in /usr/local/lib/python3.7/dist-packages (from matplotlib-venn) (1.4.1)\n",
            "Requirement already satisfied: kiwisolver>=1.0.1 in /usr/local/lib/python3.7/dist-packages (from matplotlib->matplotlib-venn) (1.3.2)\n",
            "Requirement already satisfied: cycler>=0.10 in /usr/local/lib/python3.7/dist-packages (from matplotlib->matplotlib-venn) (0.10.0)\n",
            "Requirement already satisfied: pyparsing!=2.0.4,!=2.1.2,!=2.1.6,>=2.0.1 in /usr/local/lib/python3.7/dist-packages (from matplotlib->matplotlib-venn) (2.4.7)\n",
            "Requirement already satisfied: python-dateutil>=2.1 in /usr/local/lib/python3.7/dist-packages (from matplotlib->matplotlib-venn) (2.8.2)\n",
            "Requirement already satisfied: six in /usr/local/lib/python3.7/dist-packages (from cycler>=0.10->matplotlib->matplotlib-venn) (1.15.0)\n",
            "Selecting previously unselected package libfluidsynth1:amd64.\n",
            "(Reading database ... 155047 files and directories currently installed.)\n",
            "Preparing to unpack .../libfluidsynth1_1.1.9-1_amd64.deb ...\n",
            "Unpacking libfluidsynth1:amd64 (1.1.9-1) ...\n",
            "Setting up libfluidsynth1:amd64 (1.1.9-1) ...\n",
            "Processing triggers for libc-bin (2.27-3ubuntu1.3) ...\n",
            "/sbin/ldconfig.real: /usr/local/lib/python3.7/dist-packages/ideep4py/lib/libmkldnn.so.0 is not a symbolic link\n",
            "\n",
            "Requirement already satisfied: pydot in /usr/local/lib/python3.7/dist-packages (1.3.0)\n",
            "Requirement already satisfied: pyparsing>=2.1.4 in /usr/local/lib/python3.7/dist-packages (from pydot) (2.4.7)\n"
          ]
        }
      ]
    },
    {
      "cell_type": "code",
      "metadata": {
        "id": "q2aXKiKKnqxo",
        "colab": {
          "base_uri": "https://localhost:8080/"
        },
        "outputId": "ce6f8ca9-b1f3-4523-d5b6-4879cb2ba18e"
      },
      "source": [
        "!pip install chart-studio\n",
        "from chart_studio import plotly"
      ],
      "execution_count": null,
      "outputs": [
        {
          "output_type": "stream",
          "name": "stdout",
          "text": [
            "Collecting chart-studio\n",
            "  Downloading chart_studio-1.1.0-py3-none-any.whl (64 kB)\n",
            "\u001b[?25l\r\u001b[K     |█████                           | 10 kB 29.4 MB/s eta 0:00:01\r\u001b[K     |██████████▏                     | 20 kB 37.1 MB/s eta 0:00:01\r\u001b[K     |███████████████▎                | 30 kB 36.8 MB/s eta 0:00:01\r\u001b[K     |████████████████████▍           | 40 kB 20.8 MB/s eta 0:00:01\r\u001b[K     |█████████████████████████▍      | 51 kB 19.6 MB/s eta 0:00:01\r\u001b[K     |██████████████████████████████▌ | 61 kB 12.6 MB/s eta 0:00:01\r\u001b[K     |████████████████████████████████| 64 kB 2.0 MB/s \n",
            "\u001b[?25hRequirement already satisfied: retrying>=1.3.3 in /usr/local/lib/python3.7/dist-packages (from chart-studio) (1.3.3)\n",
            "Requirement already satisfied: plotly in /usr/local/lib/python3.7/dist-packages (from chart-studio) (4.4.1)\n",
            "Requirement already satisfied: requests in /usr/local/lib/python3.7/dist-packages (from chart-studio) (2.23.0)\n",
            "Requirement already satisfied: six in /usr/local/lib/python3.7/dist-packages (from chart-studio) (1.15.0)\n",
            "Requirement already satisfied: idna<3,>=2.5 in /usr/local/lib/python3.7/dist-packages (from requests->chart-studio) (2.10)\n",
            "Requirement already satisfied: certifi>=2017.4.17 in /usr/local/lib/python3.7/dist-packages (from requests->chart-studio) (2021.5.30)\n",
            "Requirement already satisfied: urllib3!=1.25.0,!=1.25.1,<1.26,>=1.21.1 in /usr/local/lib/python3.7/dist-packages (from requests->chart-studio) (1.24.3)\n",
            "Requirement already satisfied: chardet<4,>=3.0.2 in /usr/local/lib/python3.7/dist-packages (from requests->chart-studio) (3.0.4)\n",
            "Installing collected packages: chart-studio\n",
            "Successfully installed chart-studio-1.1.0\n"
          ]
        }
      ]
    },
    {
      "cell_type": "code",
      "metadata": {
        "colab": {
          "base_uri": "https://localhost:8080/"
        },
        "id": "pd8egOq8-FeE",
        "outputId": "b8733831-77ac-4152-cfff-60ee4e94886a"
      },
      "source": [
        "!pip install --upgrade lifetimes==0.10.1\n",
        "!pip install scikit-learn-extra"
      ],
      "execution_count": null,
      "outputs": [
        {
          "output_type": "stream",
          "name": "stdout",
          "text": [
            "Collecting lifetimes==0.10.1\n",
            "  Downloading Lifetimes-0.10.1-py3-none-any.whl (581 kB)\n",
            "\u001b[?25l\r\u001b[K     |▋                               | 10 kB 29.7 MB/s eta 0:00:01\r\u001b[K     |█▏                              | 20 kB 37.7 MB/s eta 0:00:01\r\u001b[K     |█▊                              | 30 kB 25.5 MB/s eta 0:00:01\r\u001b[K     |██▎                             | 40 kB 21.3 MB/s eta 0:00:01\r\u001b[K     |██▉                             | 51 kB 17.6 MB/s eta 0:00:01\r\u001b[K     |███▍                            | 61 kB 12.9 MB/s eta 0:00:01\r\u001b[K     |████                            | 71 kB 12.6 MB/s eta 0:00:01\r\u001b[K     |████▌                           | 81 kB 13.7 MB/s eta 0:00:01\r\u001b[K     |█████                           | 92 kB 13.2 MB/s eta 0:00:01\r\u001b[K     |█████▋                          | 102 kB 14.1 MB/s eta 0:00:01\r\u001b[K     |██████▏                         | 112 kB 14.1 MB/s eta 0:00:01\r\u001b[K     |██████▊                         | 122 kB 14.1 MB/s eta 0:00:01\r\u001b[K     |███████▎                        | 133 kB 14.1 MB/s eta 0:00:01\r\u001b[K     |███████▉                        | 143 kB 14.1 MB/s eta 0:00:01\r\u001b[K     |████████▌                       | 153 kB 14.1 MB/s eta 0:00:01\r\u001b[K     |█████████                       | 163 kB 14.1 MB/s eta 0:00:01\r\u001b[K     |█████████▋                      | 174 kB 14.1 MB/s eta 0:00:01\r\u001b[K     |██████████▏                     | 184 kB 14.1 MB/s eta 0:00:01\r\u001b[K     |██████████▊                     | 194 kB 14.1 MB/s eta 0:00:01\r\u001b[K     |███████████▎                    | 204 kB 14.1 MB/s eta 0:00:01\r\u001b[K     |███████████▉                    | 215 kB 14.1 MB/s eta 0:00:01\r\u001b[K     |████████████▍                   | 225 kB 14.1 MB/s eta 0:00:01\r\u001b[K     |█████████████                   | 235 kB 14.1 MB/s eta 0:00:01\r\u001b[K     |█████████████▌                  | 245 kB 14.1 MB/s eta 0:00:01\r\u001b[K     |██████████████                  | 256 kB 14.1 MB/s eta 0:00:01\r\u001b[K     |██████████████▋                 | 266 kB 14.1 MB/s eta 0:00:01\r\u001b[K     |███████████████▏                | 276 kB 14.1 MB/s eta 0:00:01\r\u001b[K     |███████████████▊                | 286 kB 14.1 MB/s eta 0:00:01\r\u001b[K     |████████████████▍               | 296 kB 14.1 MB/s eta 0:00:01\r\u001b[K     |█████████████████               | 307 kB 14.1 MB/s eta 0:00:01\r\u001b[K     |█████████████████▌              | 317 kB 14.1 MB/s eta 0:00:01\r\u001b[K     |██████████████████              | 327 kB 14.1 MB/s eta 0:00:01\r\u001b[K     |██████████████████▋             | 337 kB 14.1 MB/s eta 0:00:01\r\u001b[K     |███████████████████▏            | 348 kB 14.1 MB/s eta 0:00:01\r\u001b[K     |███████████████████▊            | 358 kB 14.1 MB/s eta 0:00:01\r\u001b[K     |████████████████████▎           | 368 kB 14.1 MB/s eta 0:00:01\r\u001b[K     |████████████████████▉           | 378 kB 14.1 MB/s eta 0:00:01\r\u001b[K     |█████████████████████▍          | 389 kB 14.1 MB/s eta 0:00:01\r\u001b[K     |██████████████████████          | 399 kB 14.1 MB/s eta 0:00:01\r\u001b[K     |██████████████████████▌         | 409 kB 14.1 MB/s eta 0:00:01\r\u001b[K     |███████████████████████         | 419 kB 14.1 MB/s eta 0:00:01\r\u001b[K     |███████████████████████▋        | 430 kB 14.1 MB/s eta 0:00:01\r\u001b[K     |████████████████████████▎       | 440 kB 14.1 MB/s eta 0:00:01\r\u001b[K     |████████████████████████▉       | 450 kB 14.1 MB/s eta 0:00:01\r\u001b[K     |█████████████████████████▍      | 460 kB 14.1 MB/s eta 0:00:01\r\u001b[K     |██████████████████████████      | 471 kB 14.1 MB/s eta 0:00:01\r\u001b[K     |██████████████████████████▌     | 481 kB 14.1 MB/s eta 0:00:01\r\u001b[K     |███████████████████████████     | 491 kB 14.1 MB/s eta 0:00:01\r\u001b[K     |███████████████████████████▋    | 501 kB 14.1 MB/s eta 0:00:01\r\u001b[K     |████████████████████████████▏   | 512 kB 14.1 MB/s eta 0:00:01\r\u001b[K     |████████████████████████████▊   | 522 kB 14.1 MB/s eta 0:00:01\r\u001b[K     |█████████████████████████████▎  | 532 kB 14.1 MB/s eta 0:00:01\r\u001b[K     |█████████████████████████████▉  | 542 kB 14.1 MB/s eta 0:00:01\r\u001b[K     |██████████████████████████████▍ | 552 kB 14.1 MB/s eta 0:00:01\r\u001b[K     |███████████████████████████████ | 563 kB 14.1 MB/s eta 0:00:01\r\u001b[K     |███████████████████████████████▌| 573 kB 14.1 MB/s eta 0:00:01\r\u001b[K     |████████████████████████████████| 581 kB 14.1 MB/s \n",
            "\u001b[?25hRequirement already satisfied: pandas>=0.19 in /usr/local/lib/python3.7/dist-packages (from lifetimes==0.10.1) (1.1.5)\n",
            "Requirement already satisfied: numpy>=1.10.0 in /usr/local/lib/python3.7/dist-packages (from lifetimes==0.10.1) (1.19.5)\n",
            "Requirement already satisfied: scipy>=1.0.0 in /usr/local/lib/python3.7/dist-packages (from lifetimes==0.10.1) (1.4.1)\n",
            "Requirement already satisfied: dill>=0.2.6 in /usr/local/lib/python3.7/dist-packages (from lifetimes==0.10.1) (0.3.4)\n",
            "Requirement already satisfied: pytz>=2017.2 in /usr/local/lib/python3.7/dist-packages (from pandas>=0.19->lifetimes==0.10.1) (2018.9)\n",
            "Requirement already satisfied: python-dateutil>=2.7.3 in /usr/local/lib/python3.7/dist-packages (from pandas>=0.19->lifetimes==0.10.1) (2.8.2)\n",
            "Requirement already satisfied: six>=1.5 in /usr/local/lib/python3.7/dist-packages (from python-dateutil>=2.7.3->pandas>=0.19->lifetimes==0.10.1) (1.15.0)\n",
            "Installing collected packages: lifetimes\n",
            "Successfully installed lifetimes-0.10.1\n",
            "Collecting scikit-learn-extra\n",
            "  Downloading scikit_learn_extra-0.2.0-cp37-cp37m-manylinux2010_x86_64.whl (1.7 MB)\n",
            "\u001b[K     |████████████████████████████████| 1.7 MB 14.8 MB/s \n",
            "\u001b[?25hRequirement already satisfied: numpy>=1.13.3 in /usr/local/lib/python3.7/dist-packages (from scikit-learn-extra) (1.19.5)\n",
            "Collecting scikit-learn>=0.23.0\n",
            "  Downloading scikit_learn-1.0-cp37-cp37m-manylinux_2_12_x86_64.manylinux2010_x86_64.whl (23.1 MB)\n",
            "\u001b[K     |████████████████████████████████| 23.1 MB 1.3 MB/s \n",
            "\u001b[?25hRequirement already satisfied: scipy>=0.19.1 in /usr/local/lib/python3.7/dist-packages (from scikit-learn-extra) (1.4.1)\n",
            "Collecting threadpoolctl>=2.0.0\n",
            "  Downloading threadpoolctl-3.0.0-py3-none-any.whl (14 kB)\n",
            "Requirement already satisfied: joblib>=0.11 in /usr/local/lib/python3.7/dist-packages (from scikit-learn>=0.23.0->scikit-learn-extra) (1.0.1)\n",
            "Installing collected packages: threadpoolctl, scikit-learn, scikit-learn-extra\n",
            "  Attempting uninstall: scikit-learn\n",
            "    Found existing installation: scikit-learn 0.22.2.post1\n",
            "    Uninstalling scikit-learn-0.22.2.post1:\n",
            "      Successfully uninstalled scikit-learn-0.22.2.post1\n",
            "Successfully installed scikit-learn-1.0 scikit-learn-extra-0.2.0 threadpoolctl-3.0.0\n"
          ]
        }
      ]
    },
    {
      "cell_type": "code",
      "metadata": {
        "id": "ba2_KVCXjRzn"
      },
      "source": [
        "import numpy as np\n",
        "import pandas as pd\n",
        "import seaborn as sns\n",
        "import matplotlib.pyplot as plt\n",
        "import plotly.express as px\n",
        "import datetime\n",
        "import lifetimes\n",
        "from datetime import timedelta\n",
        "from datetime import date\n",
        "from lifetimes.plotting import *\n",
        "from lifetimes.utils import *\n",
        "from lifetimes import BetaGeoFitter\n",
        "from lifetimes import GammaGammaFitter\n",
        "from scipy.stats import gamma, beta\n",
        "from sklearn_extra.cluster import KMedoids\n",
        "import warnings\n",
        "warnings.filterwarnings('ignore')"
      ],
      "execution_count": null,
      "outputs": []
    },
    {
      "cell_type": "code",
      "metadata": {
        "id": "igRPYSunjYmn"
      },
      "source": [
        "df = pd.read_csv('transaction_data.csv')"
      ],
      "execution_count": null,
      "outputs": []
    },
    {
      "cell_type": "code",
      "metadata": {
        "colab": {
          "base_uri": "https://localhost:8080/",
          "height": 416
        },
        "id": "mN_Ha8PnjlR5",
        "outputId": "8adddb0c-e8a8-47eb-a374-0662c015e425"
      },
      "source": [
        "df"
      ],
      "execution_count": null,
      "outputs": [
        {
          "output_type": "execute_result",
          "data": {
            "text/html": [
              "<div>\n",
              "<style scoped>\n",
              "    .dataframe tbody tr th:only-of-type {\n",
              "        vertical-align: middle;\n",
              "    }\n",
              "\n",
              "    .dataframe tbody tr th {\n",
              "        vertical-align: top;\n",
              "    }\n",
              "\n",
              "    .dataframe thead th {\n",
              "        text-align: right;\n",
              "    }\n",
              "</style>\n",
              "<table border=\"1\" class=\"dataframe\">\n",
              "  <thead>\n",
              "    <tr style=\"text-align: right;\">\n",
              "      <th></th>\n",
              "      <th>UserId</th>\n",
              "      <th>TransactionId</th>\n",
              "      <th>TransactionTime</th>\n",
              "      <th>ItemCode</th>\n",
              "      <th>ItemDescription</th>\n",
              "      <th>NumberOfItemsPurchased</th>\n",
              "      <th>CostPerItem</th>\n",
              "      <th>Country</th>\n",
              "      <th>Day</th>\n",
              "      <th>Date</th>\n",
              "      <th>Date2</th>\n",
              "      <th>Time</th>\n",
              "      <th>IST</th>\n",
              "      <th>Year</th>\n",
              "      <th>TransactionTime2</th>\n",
              "      <th>TransactionTime2Month</th>\n",
              "    </tr>\n",
              "  </thead>\n",
              "  <tbody>\n",
              "    <tr>\n",
              "      <th>0</th>\n",
              "      <td>278166</td>\n",
              "      <td>6355745</td>\n",
              "      <td>Sat Feb 02 12:50:00 IST 2019</td>\n",
              "      <td>465549</td>\n",
              "      <td>FAMILY ALBUM WHITE PICTURE FRAME</td>\n",
              "      <td>6</td>\n",
              "      <td>11.73</td>\n",
              "      <td>United Kingdom</td>\n",
              "      <td>Sat</td>\n",
              "      <td>Feb</td>\n",
              "      <td>02</td>\n",
              "      <td>12:50:00</td>\n",
              "      <td>IST</td>\n",
              "      <td>2019</td>\n",
              "      <td>2019-02-02</td>\n",
              "      <td>2019-02</td>\n",
              "    </tr>\n",
              "    <tr>\n",
              "      <th>1</th>\n",
              "      <td>337701</td>\n",
              "      <td>6283376</td>\n",
              "      <td>Wed Dec 26 09:06:00 IST 2018</td>\n",
              "      <td>482370</td>\n",
              "      <td>LONDON BUS COFFEE MUG</td>\n",
              "      <td>3</td>\n",
              "      <td>3.52</td>\n",
              "      <td>United Kingdom</td>\n",
              "      <td>Wed</td>\n",
              "      <td>Dec</td>\n",
              "      <td>26</td>\n",
              "      <td>09:06:00</td>\n",
              "      <td>IST</td>\n",
              "      <td>2018</td>\n",
              "      <td>2018-12-26</td>\n",
              "      <td>2018-12</td>\n",
              "    </tr>\n",
              "    <tr>\n",
              "      <th>2</th>\n",
              "      <td>267099</td>\n",
              "      <td>6385599</td>\n",
              "      <td>Fri Feb 15 09:45:00 IST 2019</td>\n",
              "      <td>490728</td>\n",
              "      <td>SET 12 COLOUR PENCILS DOLLY GIRL</td>\n",
              "      <td>72</td>\n",
              "      <td>0.90</td>\n",
              "      <td>France</td>\n",
              "      <td>Fri</td>\n",
              "      <td>Feb</td>\n",
              "      <td>15</td>\n",
              "      <td>09:45:00</td>\n",
              "      <td>IST</td>\n",
              "      <td>2019</td>\n",
              "      <td>2019-02-15</td>\n",
              "      <td>2019-02</td>\n",
              "    </tr>\n",
              "    <tr>\n",
              "      <th>3</th>\n",
              "      <td>380478</td>\n",
              "      <td>6044973</td>\n",
              "      <td>Fri Jun 22 07:14:00 IST 2018</td>\n",
              "      <td>459186</td>\n",
              "      <td>UNION JACK FLAG LUGGAGE TAG</td>\n",
              "      <td>3</td>\n",
              "      <td>1.73</td>\n",
              "      <td>United Kingdom</td>\n",
              "      <td>Fri</td>\n",
              "      <td>Jun</td>\n",
              "      <td>22</td>\n",
              "      <td>07:14:00</td>\n",
              "      <td>IST</td>\n",
              "      <td>2018</td>\n",
              "      <td>2018-06-22</td>\n",
              "      <td>2018-06</td>\n",
              "    </tr>\n",
              "    <tr>\n",
              "      <th>5</th>\n",
              "      <td>285957</td>\n",
              "      <td>6307136</td>\n",
              "      <td>Fri Jan 11 09:50:00 IST 2019</td>\n",
              "      <td>1787247</td>\n",
              "      <td>CUT GLASS T-LIGHT HOLDER OCTAGON</td>\n",
              "      <td>12</td>\n",
              "      <td>3.52</td>\n",
              "      <td>United Kingdom</td>\n",
              "      <td>Fri</td>\n",
              "      <td>Jan</td>\n",
              "      <td>11</td>\n",
              "      <td>09:50:00</td>\n",
              "      <td>IST</td>\n",
              "      <td>2019</td>\n",
              "      <td>2019-01-11</td>\n",
              "      <td>2019-01</td>\n",
              "    </tr>\n",
              "    <tr>\n",
              "      <th>...</th>\n",
              "      <td>...</td>\n",
              "      <td>...</td>\n",
              "      <td>...</td>\n",
              "      <td>...</td>\n",
              "      <td>...</td>\n",
              "      <td>...</td>\n",
              "      <td>...</td>\n",
              "      <td>...</td>\n",
              "      <td>...</td>\n",
              "      <td>...</td>\n",
              "      <td>...</td>\n",
              "      <td>...</td>\n",
              "      <td>...</td>\n",
              "      <td>...</td>\n",
              "      <td>...</td>\n",
              "      <td>...</td>\n",
              "    </tr>\n",
              "    <tr>\n",
              "      <th>1083812</th>\n",
              "      <td>261681</td>\n",
              "      <td>6153092</td>\n",
              "      <td>Wed Sep 19 06:23:00 IST 2018</td>\n",
              "      <td>477330</td>\n",
              "      <td>ALARM CLOCK BAKELIKE IVORY</td>\n",
              "      <td>12</td>\n",
              "      <td>5.18</td>\n",
              "      <td>Switzerland</td>\n",
              "      <td>Wed</td>\n",
              "      <td>Sep</td>\n",
              "      <td>19</td>\n",
              "      <td>06:23:00</td>\n",
              "      <td>IST</td>\n",
              "      <td>2018</td>\n",
              "      <td>2018-09-19</td>\n",
              "      <td>2018-09</td>\n",
              "    </tr>\n",
              "    <tr>\n",
              "      <th>1083813</th>\n",
              "      <td>313131</td>\n",
              "      <td>6040298</td>\n",
              "      <td>Mon Jun 18 09:18:00 IST 2018</td>\n",
              "      <td>437976</td>\n",
              "      <td>DENIM PATCH PURSE PINK BUTTERFLY</td>\n",
              "      <td>30</td>\n",
              "      <td>2.28</td>\n",
              "      <td>EIRE</td>\n",
              "      <td>Mon</td>\n",
              "      <td>Jun</td>\n",
              "      <td>18</td>\n",
              "      <td>09:18:00</td>\n",
              "      <td>IST</td>\n",
              "      <td>2018</td>\n",
              "      <td>2018-06-18</td>\n",
              "      <td>2018-06</td>\n",
              "    </tr>\n",
              "    <tr>\n",
              "      <th>1083814</th>\n",
              "      <td>295743</td>\n",
              "      <td>6387117</td>\n",
              "      <td>Sat Feb 16 09:14:00 IST 2019</td>\n",
              "      <td>484113</td>\n",
              "      <td>RECYCLED ACAPULCO MAT PINK</td>\n",
              "      <td>6</td>\n",
              "      <td>11.39</td>\n",
              "      <td>United Kingdom</td>\n",
              "      <td>Sat</td>\n",
              "      <td>Feb</td>\n",
              "      <td>16</td>\n",
              "      <td>09:14:00</td>\n",
              "      <td>IST</td>\n",
              "      <td>2019</td>\n",
              "      <td>2019-02-16</td>\n",
              "      <td>2019-02</td>\n",
              "    </tr>\n",
              "    <tr>\n",
              "      <th>1083816</th>\n",
              "      <td>324765</td>\n",
              "      <td>5945500</td>\n",
              "      <td>Fri Mar 23 06:26:00 IST 2018</td>\n",
              "      <td>470883</td>\n",
              "      <td>REGENCY CAKESTAND 3 TIER</td>\n",
              "      <td>48</td>\n",
              "      <td>15.12</td>\n",
              "      <td>United Kingdom</td>\n",
              "      <td>Fri</td>\n",
              "      <td>Mar</td>\n",
              "      <td>23</td>\n",
              "      <td>06:26:00</td>\n",
              "      <td>IST</td>\n",
              "      <td>2018</td>\n",
              "      <td>2018-03-23</td>\n",
              "      <td>2018-03</td>\n",
              "    </tr>\n",
              "    <tr>\n",
              "      <th>1083817</th>\n",
              "      <td>351645</td>\n",
              "      <td>6118145</td>\n",
              "      <td>Tue Aug 21 08:21:00 IST 2018</td>\n",
              "      <td>471849</td>\n",
              "      <td>HEART OF WICKER SMALL</td>\n",
              "      <td>9</td>\n",
              "      <td>2.28</td>\n",
              "      <td>United Kingdom</td>\n",
              "      <td>Tue</td>\n",
              "      <td>Aug</td>\n",
              "      <td>21</td>\n",
              "      <td>08:21:00</td>\n",
              "      <td>IST</td>\n",
              "      <td>2018</td>\n",
              "      <td>2018-08-21</td>\n",
              "      <td>2018-08</td>\n",
              "    </tr>\n",
              "  </tbody>\n",
              "</table>\n",
              "<p>813658 rows × 16 columns</p>\n",
              "</div>"
            ],
            "text/plain": [
              "         UserId  TransactionId  ... TransactionTime2  TransactionTime2Month\n",
              "0        278166        6355745  ...       2019-02-02                2019-02\n",
              "1        337701        6283376  ...       2018-12-26                2018-12\n",
              "2        267099        6385599  ...       2019-02-15                2019-02\n",
              "3        380478        6044973  ...       2018-06-22                2018-06\n",
              "5        285957        6307136  ...       2019-01-11                2019-01\n",
              "...         ...            ...  ...              ...                    ...\n",
              "1083812  261681        6153092  ...       2018-09-19                2018-09\n",
              "1083813  313131        6040298  ...       2018-06-18                2018-06\n",
              "1083814  295743        6387117  ...       2019-02-16                2019-02\n",
              "1083816  324765        5945500  ...       2018-03-23                2018-03\n",
              "1083817  351645        6118145  ...       2018-08-21                2018-08\n",
              "\n",
              "[813658 rows x 16 columns]"
            ]
          },
          "metadata": {},
          "execution_count": 133
        }
      ]
    },
    {
      "cell_type": "markdown",
      "metadata": {
        "id": "cCH1B-zK0F4R"
      },
      "source": [
        "# **Pre-Processing Data**"
      ]
    },
    {
      "cell_type": "code",
      "metadata": {
        "colab": {
          "base_uri": "https://localhost:8080/"
        },
        "id": "B7b7eps4vufq",
        "outputId": "1f137a9e-2498-4687-8588-de49be8f0fae"
      },
      "source": [
        "df.isna().sum()"
      ],
      "execution_count": 166,
      "outputs": [
        {
          "output_type": "execute_result",
          "data": {
            "text/plain": [
              "UserId                    0\n",
              "TransactionId             0\n",
              "TransactionTime           0\n",
              "ItemCode                  0\n",
              "ItemDescription           0\n",
              "NumberOfItemsPurchased    0\n",
              "CostPerItem               0\n",
              "Country                   0\n",
              "Day                       0\n",
              "Date                      0\n",
              "Date2                     0\n",
              "Time                      0\n",
              "IST                       0\n",
              "Year                      0\n",
              "TransactionTime2          0\n",
              "TransactionTime2Month     0\n",
              "dtype: int64"
            ]
          },
          "metadata": {},
          "execution_count": 166
        }
      ]
    },
    {
      "cell_type": "code",
      "metadata": {
        "colab": {
          "base_uri": "https://localhost:8080/"
        },
        "id": "p2ogaLUTvzuk",
        "outputId": "1da83588-cb54-49b8-9ba0-17ec7d89750d"
      },
      "source": [
        "df['ItemDescription'].value_counts()"
      ],
      "execution_count": 167,
      "outputs": [
        {
          "output_type": "execute_result",
          "data": {
            "text/plain": [
              "WHITE HANGING HEART T-LIGHT HOLDER    4140\n",
              "REGENCY CAKESTAND 3 TIER              3810\n",
              "JUMBO BAG RED RETROSPOT               3324\n",
              "ASSORTED COLOUR BIRD ORNAMENT         2836\n",
              "PARTY BUNTING                         2832\n",
              "                                      ... \n",
              "LETTER \"T\" BLING KEY RING                2\n",
              "CRYSTAL CHANDELIER T-LIGHT HOLDER        2\n",
              "DUSTY PINK CHRISTMAS TREE 30CM           2\n",
              "SET 36 COLOURING PENCILS DOILEY          2\n",
              "PINK/WHITE GLASS DEMI CHOKER             2\n",
              "Name: ItemDescription, Length: 3896, dtype: int64"
            ]
          },
          "metadata": {},
          "execution_count": 167
        }
      ]
    },
    {
      "cell_type": "code",
      "metadata": {
        "colab": {
          "base_uri": "https://localhost:8080/"
        },
        "id": "SKTFpq_Xwbfc",
        "outputId": "32d10193-a11a-4788-de05-8611985f71fb"
      },
      "source": [
        "df['ItemDescription'].mode()"
      ],
      "execution_count": 168,
      "outputs": [
        {
          "output_type": "execute_result",
          "data": {
            "text/plain": [
              "0    WHITE HANGING HEART T-LIGHT HOLDER\n",
              "dtype: object"
            ]
          },
          "metadata": {},
          "execution_count": 168
        }
      ]
    },
    {
      "cell_type": "code",
      "metadata": {
        "id": "NjrJwwqEyN7k"
      },
      "source": [
        "df[\"ItemDescription\"].fillna(df[\"ItemDescription\"].mode()[0], inplace=True)"
      ],
      "execution_count": 169,
      "outputs": []
    },
    {
      "cell_type": "code",
      "metadata": {
        "colab": {
          "base_uri": "https://localhost:8080/"
        },
        "id": "FgqkR3usyobT",
        "outputId": "cf519387-e77d-4fc3-a5f3-d3b398eb6da6"
      },
      "source": [
        "df.isna().sum()"
      ],
      "execution_count": 170,
      "outputs": [
        {
          "output_type": "execute_result",
          "data": {
            "text/plain": [
              "UserId                    0\n",
              "TransactionId             0\n",
              "TransactionTime           0\n",
              "ItemCode                  0\n",
              "ItemDescription           0\n",
              "NumberOfItemsPurchased    0\n",
              "CostPerItem               0\n",
              "Country                   0\n",
              "Day                       0\n",
              "Date                      0\n",
              "Date2                     0\n",
              "Time                      0\n",
              "IST                       0\n",
              "Year                      0\n",
              "TransactionTime2          0\n",
              "TransactionTime2Month     0\n",
              "dtype: int64"
            ]
          },
          "metadata": {},
          "execution_count": 170
        }
      ]
    },
    {
      "cell_type": "code",
      "metadata": {
        "colab": {
          "base_uri": "https://localhost:8080/"
        },
        "id": "N5E40Am30ghc",
        "outputId": "901e6968-9822-4ea1-8707-86d95998662e"
      },
      "source": [
        "\n",
        "\n",
        "df['ItemDescription'].value_counts().head(5)"
      ],
      "execution_count": 171,
      "outputs": [
        {
          "output_type": "execute_result",
          "data": {
            "text/plain": [
              "WHITE HANGING HEART T-LIGHT HOLDER    4140\n",
              "REGENCY CAKESTAND 3 TIER              3810\n",
              "JUMBO BAG RED RETROSPOT               3324\n",
              "ASSORTED COLOUR BIRD ORNAMENT         2836\n",
              "PARTY BUNTING                         2832\n",
              "Name: ItemDescription, dtype: int64"
            ]
          },
          "metadata": {},
          "execution_count": 171
        }
      ]
    },
    {
      "cell_type": "code",
      "metadata": {
        "colab": {
          "base_uri": "https://localhost:8080/"
        },
        "id": "2J9pPcW108K_",
        "outputId": "d6e57dfe-6844-4a47-f3fb-7c790c37485a"
      },
      "source": [
        "df['ItemDescription'].value_counts(ascending=False)"
      ],
      "execution_count": 172,
      "outputs": [
        {
          "output_type": "execute_result",
          "data": {
            "text/plain": [
              "WHITE HANGING HEART T-LIGHT HOLDER    4140\n",
              "REGENCY CAKESTAND 3 TIER              3810\n",
              "JUMBO BAG RED RETROSPOT               3324\n",
              "ASSORTED COLOUR BIRD ORNAMENT         2836\n",
              "PARTY BUNTING                         2832\n",
              "                                      ... \n",
              "LETTER \"T\" BLING KEY RING                2\n",
              "CRYSTAL CHANDELIER T-LIGHT HOLDER        2\n",
              "DUSTY PINK CHRISTMAS TREE 30CM           2\n",
              "SET 36 COLOURING PENCILS DOILEY          2\n",
              "PINK/WHITE GLASS DEMI CHOKER             2\n",
              "Name: ItemDescription, Length: 3896, dtype: int64"
            ]
          },
          "metadata": {},
          "execution_count": 172
        }
      ]
    },
    {
      "cell_type": "code",
      "metadata": {
        "colab": {
          "base_uri": "https://localhost:8080/"
        },
        "id": "DHCoj-aG1Ms1",
        "outputId": "5ab66985-906b-457d-9dc8-0bb3c3ddf978"
      },
      "source": [
        "df['UserId'].nunique()"
      ],
      "execution_count": 173,
      "outputs": [
        {
          "output_type": "execute_result",
          "data": {
            "text/plain": [
              "4372"
            ]
          },
          "metadata": {},
          "execution_count": 173
        }
      ]
    },
    {
      "cell_type": "code",
      "metadata": {
        "colab": {
          "base_uri": "https://localhost:8080/",
          "height": 202
        },
        "id": "-Xi7U9Ef2aXb",
        "outputId": "e4a4862b-6cd6-4c89-c052-21d4122c9c9d"
      },
      "source": [
        "\n",
        "df.head(5)"
      ],
      "execution_count": 174,
      "outputs": [
        {
          "output_type": "execute_result",
          "data": {
            "text/html": [
              "<div>\n",
              "<style scoped>\n",
              "    .dataframe tbody tr th:only-of-type {\n",
              "        vertical-align: middle;\n",
              "    }\n",
              "\n",
              "    .dataframe tbody tr th {\n",
              "        vertical-align: top;\n",
              "    }\n",
              "\n",
              "    .dataframe thead th {\n",
              "        text-align: right;\n",
              "    }\n",
              "</style>\n",
              "<table border=\"1\" class=\"dataframe\">\n",
              "  <thead>\n",
              "    <tr style=\"text-align: right;\">\n",
              "      <th></th>\n",
              "      <th>UserId</th>\n",
              "      <th>TransactionId</th>\n",
              "      <th>TransactionTime</th>\n",
              "      <th>ItemCode</th>\n",
              "      <th>ItemDescription</th>\n",
              "      <th>NumberOfItemsPurchased</th>\n",
              "      <th>CostPerItem</th>\n",
              "      <th>Country</th>\n",
              "      <th>Day</th>\n",
              "      <th>Date</th>\n",
              "      <th>Date2</th>\n",
              "      <th>Time</th>\n",
              "      <th>IST</th>\n",
              "      <th>Year</th>\n",
              "      <th>TransactionTime2</th>\n",
              "      <th>TransactionTime2Month</th>\n",
              "    </tr>\n",
              "  </thead>\n",
              "  <tbody>\n",
              "    <tr>\n",
              "      <th>0</th>\n",
              "      <td>278166</td>\n",
              "      <td>6355745</td>\n",
              "      <td>Sat Feb 02 12:50:00 IST 2019</td>\n",
              "      <td>465549</td>\n",
              "      <td>FAMILY ALBUM WHITE PICTURE FRAME</td>\n",
              "      <td>6</td>\n",
              "      <td>11.73</td>\n",
              "      <td>United Kingdom</td>\n",
              "      <td>Sat</td>\n",
              "      <td>Feb</td>\n",
              "      <td>02</td>\n",
              "      <td>12:50:00</td>\n",
              "      <td>IST</td>\n",
              "      <td>2019</td>\n",
              "      <td>2019-02-02</td>\n",
              "      <td>2019-02</td>\n",
              "    </tr>\n",
              "    <tr>\n",
              "      <th>1</th>\n",
              "      <td>337701</td>\n",
              "      <td>6283376</td>\n",
              "      <td>Wed Dec 26 09:06:00 IST 2018</td>\n",
              "      <td>482370</td>\n",
              "      <td>LONDON BUS COFFEE MUG</td>\n",
              "      <td>3</td>\n",
              "      <td>3.52</td>\n",
              "      <td>United Kingdom</td>\n",
              "      <td>Wed</td>\n",
              "      <td>Dec</td>\n",
              "      <td>26</td>\n",
              "      <td>09:06:00</td>\n",
              "      <td>IST</td>\n",
              "      <td>2018</td>\n",
              "      <td>2018-12-26</td>\n",
              "      <td>2018-12</td>\n",
              "    </tr>\n",
              "    <tr>\n",
              "      <th>2</th>\n",
              "      <td>267099</td>\n",
              "      <td>6385599</td>\n",
              "      <td>Fri Feb 15 09:45:00 IST 2019</td>\n",
              "      <td>490728</td>\n",
              "      <td>SET 12 COLOUR PENCILS DOLLY GIRL</td>\n",
              "      <td>72</td>\n",
              "      <td>0.90</td>\n",
              "      <td>France</td>\n",
              "      <td>Fri</td>\n",
              "      <td>Feb</td>\n",
              "      <td>15</td>\n",
              "      <td>09:45:00</td>\n",
              "      <td>IST</td>\n",
              "      <td>2019</td>\n",
              "      <td>2019-02-15</td>\n",
              "      <td>2019-02</td>\n",
              "    </tr>\n",
              "    <tr>\n",
              "      <th>3</th>\n",
              "      <td>380478</td>\n",
              "      <td>6044973</td>\n",
              "      <td>Fri Jun 22 07:14:00 IST 2018</td>\n",
              "      <td>459186</td>\n",
              "      <td>UNION JACK FLAG LUGGAGE TAG</td>\n",
              "      <td>3</td>\n",
              "      <td>1.73</td>\n",
              "      <td>United Kingdom</td>\n",
              "      <td>Fri</td>\n",
              "      <td>Jun</td>\n",
              "      <td>22</td>\n",
              "      <td>07:14:00</td>\n",
              "      <td>IST</td>\n",
              "      <td>2018</td>\n",
              "      <td>2018-06-22</td>\n",
              "      <td>2018-06</td>\n",
              "    </tr>\n",
              "    <tr>\n",
              "      <th>5</th>\n",
              "      <td>285957</td>\n",
              "      <td>6307136</td>\n",
              "      <td>Fri Jan 11 09:50:00 IST 2019</td>\n",
              "      <td>1787247</td>\n",
              "      <td>CUT GLASS T-LIGHT HOLDER OCTAGON</td>\n",
              "      <td>12</td>\n",
              "      <td>3.52</td>\n",
              "      <td>United Kingdom</td>\n",
              "      <td>Fri</td>\n",
              "      <td>Jan</td>\n",
              "      <td>11</td>\n",
              "      <td>09:50:00</td>\n",
              "      <td>IST</td>\n",
              "      <td>2019</td>\n",
              "      <td>2019-01-11</td>\n",
              "      <td>2019-01</td>\n",
              "    </tr>\n",
              "  </tbody>\n",
              "</table>\n",
              "</div>"
            ],
            "text/plain": [
              "   UserId  TransactionId  ... TransactionTime2  TransactionTime2Month\n",
              "0  278166        6355745  ...       2019-02-02                2019-02\n",
              "1  337701        6283376  ...       2018-12-26                2018-12\n",
              "2  267099        6385599  ...       2019-02-15                2019-02\n",
              "3  380478        6044973  ...       2018-06-22                2018-06\n",
              "5  285957        6307136  ...       2019-01-11                2019-01\n",
              "\n",
              "[5 rows x 16 columns]"
            ]
          },
          "metadata": {},
          "execution_count": 174
        }
      ]
    },
    {
      "cell_type": "code",
      "metadata": {
        "colab": {
          "base_uri": "https://localhost:8080/"
        },
        "id": "ElS0Ay-J1X_W",
        "outputId": "d003003d-5682-410e-e7c6-f5e6a85ad181"
      },
      "source": [
        "df.groupby('UserId')['TransactionId'].nunique().sort_values(ascending=False).head()"
      ],
      "execution_count": 175,
      "outputs": [
        {
          "output_type": "execute_result",
          "data": {
            "text/plain": [
              "UserId\n",
              "313131    248\n",
              "267708    224\n",
              "374661    169\n",
              "306726    128\n",
              "274869    118\n",
              "Name: TransactionId, dtype: int64"
            ]
          },
          "metadata": {},
          "execution_count": 175
        }
      ]
    },
    {
      "cell_type": "code",
      "metadata": {
        "colab": {
          "base_uri": "https://localhost:8080/",
          "height": 49
        },
        "id": "pfvTEXMu27jM",
        "outputId": "766e3749-98c7-49ad-8d14-f2d08a40022f"
      },
      "source": [
        "df[df['UserId']==-1].head()"
      ],
      "execution_count": 176,
      "outputs": [
        {
          "output_type": "execute_result",
          "data": {
            "text/html": [
              "<div>\n",
              "<style scoped>\n",
              "    .dataframe tbody tr th:only-of-type {\n",
              "        vertical-align: middle;\n",
              "    }\n",
              "\n",
              "    .dataframe tbody tr th {\n",
              "        vertical-align: top;\n",
              "    }\n",
              "\n",
              "    .dataframe thead th {\n",
              "        text-align: right;\n",
              "    }\n",
              "</style>\n",
              "<table border=\"1\" class=\"dataframe\">\n",
              "  <thead>\n",
              "    <tr style=\"text-align: right;\">\n",
              "      <th></th>\n",
              "      <th>UserId</th>\n",
              "      <th>TransactionId</th>\n",
              "      <th>TransactionTime</th>\n",
              "      <th>ItemCode</th>\n",
              "      <th>ItemDescription</th>\n",
              "      <th>NumberOfItemsPurchased</th>\n",
              "      <th>CostPerItem</th>\n",
              "      <th>Country</th>\n",
              "      <th>Day</th>\n",
              "      <th>Date</th>\n",
              "      <th>Date2</th>\n",
              "      <th>Time</th>\n",
              "      <th>IST</th>\n",
              "      <th>Year</th>\n",
              "      <th>TransactionTime2</th>\n",
              "      <th>TransactionTime2Month</th>\n",
              "    </tr>\n",
              "  </thead>\n",
              "  <tbody>\n",
              "  </tbody>\n",
              "</table>\n",
              "</div>"
            ],
            "text/plain": [
              "Empty DataFrame\n",
              "Columns: [UserId, TransactionId, TransactionTime, ItemCode, ItemDescription, NumberOfItemsPurchased, CostPerItem, Country, Day, Date, Date2, Time, IST, Year, TransactionTime2, TransactionTime2Month]\n",
              "Index: []"
            ]
          },
          "metadata": {},
          "execution_count": 176
        }
      ]
    },
    {
      "cell_type": "code",
      "metadata": {
        "id": "3gRzwzUlCZnk"
      },
      "source": [
        "delete_row = df[df[\"UserId\"]==-1].index\n",
        "df = df.drop(delete_row)"
      ],
      "execution_count": 177,
      "outputs": []
    },
    {
      "cell_type": "code",
      "metadata": {
        "id": "2ohaTbW-EkLs",
        "colab": {
          "base_uri": "https://localhost:8080/"
        },
        "outputId": "21c7c180-fbf2-42df-ed56-2df154be51a5"
      },
      "source": [
        "df.groupby('UserId')['TransactionId'].nunique().sort_values(ascending=False).head(5)"
      ],
      "execution_count": 178,
      "outputs": [
        {
          "output_type": "execute_result",
          "data": {
            "text/plain": [
              "UserId\n",
              "313131    248\n",
              "267708    224\n",
              "374661    169\n",
              "306726    128\n",
              "274869    118\n",
              "Name: TransactionId, dtype: int64"
            ]
          },
          "metadata": {},
          "execution_count": 178
        }
      ]
    },
    {
      "cell_type": "code",
      "metadata": {
        "colab": {
          "base_uri": "https://localhost:8080/"
        },
        "id": "ncn0RmVar5bV",
        "outputId": "3f688b5c-dc51-4bec-a6eb-2dc44a7a1cac"
      },
      "source": [
        "df.dtypes"
      ],
      "execution_count": 179,
      "outputs": [
        {
          "output_type": "execute_result",
          "data": {
            "text/plain": [
              "UserId                             int64\n",
              "TransactionId                      int64\n",
              "TransactionTime                   object\n",
              "ItemCode                           int64\n",
              "ItemDescription                   object\n",
              "NumberOfItemsPurchased             int64\n",
              "CostPerItem                      float64\n",
              "Country                           object\n",
              "Day                               object\n",
              "Date                              object\n",
              "Date2                             object\n",
              "Time                              object\n",
              "IST                               object\n",
              "Year                              object\n",
              "TransactionTime2          datetime64[ns]\n",
              "TransactionTime2Month             object\n",
              "dtype: object"
            ]
          },
          "metadata": {},
          "execution_count": 179
        }
      ]
    },
    {
      "cell_type": "code",
      "metadata": {
        "id": "k0edQfxR5NDn"
      },
      "source": [
        "df2 = df"
      ],
      "execution_count": 180,
      "outputs": []
    },
    {
      "cell_type": "code",
      "metadata": {
        "id": "XMK98ITby5go"
      },
      "source": [
        "new = df2[\"TransactionTime\"].str.split(\" \", n = 0, expand = True)\n",
        "df2[\"Day\"]= new[0]\n",
        "df2[\"Date\"]= new[1]\n",
        "df2[\"Date2\"]= new[2]\n",
        "  \n",
        "# making separate last name column from new data frame\n",
        "df2[\"Time\"]= new[3]\n",
        "df2[\"IST\"]= new[4]\n",
        "df2[\"Year\"]= new[5]"
      ],
      "execution_count": 181,
      "outputs": []
    },
    {
      "cell_type": "code",
      "metadata": {
        "colab": {
          "base_uri": "https://localhost:8080/",
          "height": 416
        },
        "id": "WB6DYxNfz1S0",
        "outputId": "c2d16e51-0792-4ae3-e23d-d5d1eeacd832"
      },
      "source": [
        "df2"
      ],
      "execution_count": 182,
      "outputs": [
        {
          "output_type": "execute_result",
          "data": {
            "text/html": [
              "<div>\n",
              "<style scoped>\n",
              "    .dataframe tbody tr th:only-of-type {\n",
              "        vertical-align: middle;\n",
              "    }\n",
              "\n",
              "    .dataframe tbody tr th {\n",
              "        vertical-align: top;\n",
              "    }\n",
              "\n",
              "    .dataframe thead th {\n",
              "        text-align: right;\n",
              "    }\n",
              "</style>\n",
              "<table border=\"1\" class=\"dataframe\">\n",
              "  <thead>\n",
              "    <tr style=\"text-align: right;\">\n",
              "      <th></th>\n",
              "      <th>UserId</th>\n",
              "      <th>TransactionId</th>\n",
              "      <th>TransactionTime</th>\n",
              "      <th>ItemCode</th>\n",
              "      <th>ItemDescription</th>\n",
              "      <th>NumberOfItemsPurchased</th>\n",
              "      <th>CostPerItem</th>\n",
              "      <th>Country</th>\n",
              "      <th>Day</th>\n",
              "      <th>Date</th>\n",
              "      <th>Date2</th>\n",
              "      <th>Time</th>\n",
              "      <th>IST</th>\n",
              "      <th>Year</th>\n",
              "      <th>TransactionTime2</th>\n",
              "      <th>TransactionTime2Month</th>\n",
              "    </tr>\n",
              "  </thead>\n",
              "  <tbody>\n",
              "    <tr>\n",
              "      <th>0</th>\n",
              "      <td>278166</td>\n",
              "      <td>6355745</td>\n",
              "      <td>Sat Feb 02 12:50:00 IST 2019</td>\n",
              "      <td>465549</td>\n",
              "      <td>FAMILY ALBUM WHITE PICTURE FRAME</td>\n",
              "      <td>6</td>\n",
              "      <td>11.73</td>\n",
              "      <td>United Kingdom</td>\n",
              "      <td>Sat</td>\n",
              "      <td>Feb</td>\n",
              "      <td>02</td>\n",
              "      <td>12:50:00</td>\n",
              "      <td>IST</td>\n",
              "      <td>2019</td>\n",
              "      <td>2019-02-02</td>\n",
              "      <td>2019-02</td>\n",
              "    </tr>\n",
              "    <tr>\n",
              "      <th>1</th>\n",
              "      <td>337701</td>\n",
              "      <td>6283376</td>\n",
              "      <td>Wed Dec 26 09:06:00 IST 2018</td>\n",
              "      <td>482370</td>\n",
              "      <td>LONDON BUS COFFEE MUG</td>\n",
              "      <td>3</td>\n",
              "      <td>3.52</td>\n",
              "      <td>United Kingdom</td>\n",
              "      <td>Wed</td>\n",
              "      <td>Dec</td>\n",
              "      <td>26</td>\n",
              "      <td>09:06:00</td>\n",
              "      <td>IST</td>\n",
              "      <td>2018</td>\n",
              "      <td>2018-12-26</td>\n",
              "      <td>2018-12</td>\n",
              "    </tr>\n",
              "    <tr>\n",
              "      <th>2</th>\n",
              "      <td>267099</td>\n",
              "      <td>6385599</td>\n",
              "      <td>Fri Feb 15 09:45:00 IST 2019</td>\n",
              "      <td>490728</td>\n",
              "      <td>SET 12 COLOUR PENCILS DOLLY GIRL</td>\n",
              "      <td>72</td>\n",
              "      <td>0.90</td>\n",
              "      <td>France</td>\n",
              "      <td>Fri</td>\n",
              "      <td>Feb</td>\n",
              "      <td>15</td>\n",
              "      <td>09:45:00</td>\n",
              "      <td>IST</td>\n",
              "      <td>2019</td>\n",
              "      <td>2019-02-15</td>\n",
              "      <td>2019-02</td>\n",
              "    </tr>\n",
              "    <tr>\n",
              "      <th>3</th>\n",
              "      <td>380478</td>\n",
              "      <td>6044973</td>\n",
              "      <td>Fri Jun 22 07:14:00 IST 2018</td>\n",
              "      <td>459186</td>\n",
              "      <td>UNION JACK FLAG LUGGAGE TAG</td>\n",
              "      <td>3</td>\n",
              "      <td>1.73</td>\n",
              "      <td>United Kingdom</td>\n",
              "      <td>Fri</td>\n",
              "      <td>Jun</td>\n",
              "      <td>22</td>\n",
              "      <td>07:14:00</td>\n",
              "      <td>IST</td>\n",
              "      <td>2018</td>\n",
              "      <td>2018-06-22</td>\n",
              "      <td>2018-06</td>\n",
              "    </tr>\n",
              "    <tr>\n",
              "      <th>5</th>\n",
              "      <td>285957</td>\n",
              "      <td>6307136</td>\n",
              "      <td>Fri Jan 11 09:50:00 IST 2019</td>\n",
              "      <td>1787247</td>\n",
              "      <td>CUT GLASS T-LIGHT HOLDER OCTAGON</td>\n",
              "      <td>12</td>\n",
              "      <td>3.52</td>\n",
              "      <td>United Kingdom</td>\n",
              "      <td>Fri</td>\n",
              "      <td>Jan</td>\n",
              "      <td>11</td>\n",
              "      <td>09:50:00</td>\n",
              "      <td>IST</td>\n",
              "      <td>2019</td>\n",
              "      <td>2019-01-11</td>\n",
              "      <td>2019-01</td>\n",
              "    </tr>\n",
              "    <tr>\n",
              "      <th>...</th>\n",
              "      <td>...</td>\n",
              "      <td>...</td>\n",
              "      <td>...</td>\n",
              "      <td>...</td>\n",
              "      <td>...</td>\n",
              "      <td>...</td>\n",
              "      <td>...</td>\n",
              "      <td>...</td>\n",
              "      <td>...</td>\n",
              "      <td>...</td>\n",
              "      <td>...</td>\n",
              "      <td>...</td>\n",
              "      <td>...</td>\n",
              "      <td>...</td>\n",
              "      <td>...</td>\n",
              "      <td>...</td>\n",
              "    </tr>\n",
              "    <tr>\n",
              "      <th>1083812</th>\n",
              "      <td>261681</td>\n",
              "      <td>6153092</td>\n",
              "      <td>Wed Sep 19 06:23:00 IST 2018</td>\n",
              "      <td>477330</td>\n",
              "      <td>ALARM CLOCK BAKELIKE IVORY</td>\n",
              "      <td>12</td>\n",
              "      <td>5.18</td>\n",
              "      <td>Switzerland</td>\n",
              "      <td>Wed</td>\n",
              "      <td>Sep</td>\n",
              "      <td>19</td>\n",
              "      <td>06:23:00</td>\n",
              "      <td>IST</td>\n",
              "      <td>2018</td>\n",
              "      <td>2018-09-19</td>\n",
              "      <td>2018-09</td>\n",
              "    </tr>\n",
              "    <tr>\n",
              "      <th>1083813</th>\n",
              "      <td>313131</td>\n",
              "      <td>6040298</td>\n",
              "      <td>Mon Jun 18 09:18:00 IST 2018</td>\n",
              "      <td>437976</td>\n",
              "      <td>DENIM PATCH PURSE PINK BUTTERFLY</td>\n",
              "      <td>30</td>\n",
              "      <td>2.28</td>\n",
              "      <td>EIRE</td>\n",
              "      <td>Mon</td>\n",
              "      <td>Jun</td>\n",
              "      <td>18</td>\n",
              "      <td>09:18:00</td>\n",
              "      <td>IST</td>\n",
              "      <td>2018</td>\n",
              "      <td>2018-06-18</td>\n",
              "      <td>2018-06</td>\n",
              "    </tr>\n",
              "    <tr>\n",
              "      <th>1083814</th>\n",
              "      <td>295743</td>\n",
              "      <td>6387117</td>\n",
              "      <td>Sat Feb 16 09:14:00 IST 2019</td>\n",
              "      <td>484113</td>\n",
              "      <td>RECYCLED ACAPULCO MAT PINK</td>\n",
              "      <td>6</td>\n",
              "      <td>11.39</td>\n",
              "      <td>United Kingdom</td>\n",
              "      <td>Sat</td>\n",
              "      <td>Feb</td>\n",
              "      <td>16</td>\n",
              "      <td>09:14:00</td>\n",
              "      <td>IST</td>\n",
              "      <td>2019</td>\n",
              "      <td>2019-02-16</td>\n",
              "      <td>2019-02</td>\n",
              "    </tr>\n",
              "    <tr>\n",
              "      <th>1083816</th>\n",
              "      <td>324765</td>\n",
              "      <td>5945500</td>\n",
              "      <td>Fri Mar 23 06:26:00 IST 2018</td>\n",
              "      <td>470883</td>\n",
              "      <td>REGENCY CAKESTAND 3 TIER</td>\n",
              "      <td>48</td>\n",
              "      <td>15.12</td>\n",
              "      <td>United Kingdom</td>\n",
              "      <td>Fri</td>\n",
              "      <td>Mar</td>\n",
              "      <td>23</td>\n",
              "      <td>06:26:00</td>\n",
              "      <td>IST</td>\n",
              "      <td>2018</td>\n",
              "      <td>2018-03-23</td>\n",
              "      <td>2018-03</td>\n",
              "    </tr>\n",
              "    <tr>\n",
              "      <th>1083817</th>\n",
              "      <td>351645</td>\n",
              "      <td>6118145</td>\n",
              "      <td>Tue Aug 21 08:21:00 IST 2018</td>\n",
              "      <td>471849</td>\n",
              "      <td>HEART OF WICKER SMALL</td>\n",
              "      <td>9</td>\n",
              "      <td>2.28</td>\n",
              "      <td>United Kingdom</td>\n",
              "      <td>Tue</td>\n",
              "      <td>Aug</td>\n",
              "      <td>21</td>\n",
              "      <td>08:21:00</td>\n",
              "      <td>IST</td>\n",
              "      <td>2018</td>\n",
              "      <td>2018-08-21</td>\n",
              "      <td>2018-08</td>\n",
              "    </tr>\n",
              "  </tbody>\n",
              "</table>\n",
              "<p>813658 rows × 16 columns</p>\n",
              "</div>"
            ],
            "text/plain": [
              "         UserId  TransactionId  ... TransactionTime2  TransactionTime2Month\n",
              "0        278166        6355745  ...       2019-02-02                2019-02\n",
              "1        337701        6283376  ...       2018-12-26                2018-12\n",
              "2        267099        6385599  ...       2019-02-15                2019-02\n",
              "3        380478        6044973  ...       2018-06-22                2018-06\n",
              "5        285957        6307136  ...       2019-01-11                2019-01\n",
              "...         ...            ...  ...              ...                    ...\n",
              "1083812  261681        6153092  ...       2018-09-19                2018-09\n",
              "1083813  313131        6040298  ...       2018-06-18                2018-06\n",
              "1083814  295743        6387117  ...       2019-02-16                2019-02\n",
              "1083816  324765        5945500  ...       2018-03-23                2018-03\n",
              "1083817  351645        6118145  ...       2018-08-21                2018-08\n",
              "\n",
              "[813658 rows x 16 columns]"
            ]
          },
          "metadata": {},
          "execution_count": 182
        }
      ]
    },
    {
      "cell_type": "code",
      "metadata": {
        "colab": {
          "base_uri": "https://localhost:8080/"
        },
        "id": "SZk5Mf_aI_QO",
        "outputId": "b26770ef-edac-42cf-d21c-ef097b3b8040"
      },
      "source": [
        "print(\"Sebelum di replace: \\n\", df2['Year'].value_counts())\n",
        "df2['Year'] = df2['Year'].replace(['2028'], '2018')\n",
        "print(\"Setelah di replace: \\n\", df2['Year'].value_counts())"
      ],
      "execution_count": 183,
      "outputs": [
        {
          "output_type": "stream",
          "name": "stdout",
          "text": [
            "Sebelum di replace: \n",
            " 2018    605502\n",
            "2019    205890\n",
            "2028      2266\n",
            "Name: Year, dtype: int64\n",
            "Setelah di replace: \n",
            " 2018    607768\n",
            "2019    205890\n",
            "Name: Year, dtype: int64\n"
          ]
        }
      ]
    },
    {
      "cell_type": "code",
      "metadata": {
        "id": "bx1DnJ9J5awC"
      },
      "source": [
        "df2['TransactionTime2'] = df2['Date'] + '/' + df2['Date2'] + '/' + df2['Year']"
      ],
      "execution_count": 184,
      "outputs": []
    },
    {
      "cell_type": "code",
      "metadata": {
        "colab": {
          "base_uri": "https://localhost:8080/",
          "height": 202
        },
        "id": "X_TcBkcR7ap-",
        "outputId": "0c7b9a89-84d7-45a2-d6a1-050b78079f8b"
      },
      "source": [
        "df2.head()"
      ],
      "execution_count": 185,
      "outputs": [
        {
          "output_type": "execute_result",
          "data": {
            "text/html": [
              "<div>\n",
              "<style scoped>\n",
              "    .dataframe tbody tr th:only-of-type {\n",
              "        vertical-align: middle;\n",
              "    }\n",
              "\n",
              "    .dataframe tbody tr th {\n",
              "        vertical-align: top;\n",
              "    }\n",
              "\n",
              "    .dataframe thead th {\n",
              "        text-align: right;\n",
              "    }\n",
              "</style>\n",
              "<table border=\"1\" class=\"dataframe\">\n",
              "  <thead>\n",
              "    <tr style=\"text-align: right;\">\n",
              "      <th></th>\n",
              "      <th>UserId</th>\n",
              "      <th>TransactionId</th>\n",
              "      <th>TransactionTime</th>\n",
              "      <th>ItemCode</th>\n",
              "      <th>ItemDescription</th>\n",
              "      <th>NumberOfItemsPurchased</th>\n",
              "      <th>CostPerItem</th>\n",
              "      <th>Country</th>\n",
              "      <th>Day</th>\n",
              "      <th>Date</th>\n",
              "      <th>Date2</th>\n",
              "      <th>Time</th>\n",
              "      <th>IST</th>\n",
              "      <th>Year</th>\n",
              "      <th>TransactionTime2</th>\n",
              "      <th>TransactionTime2Month</th>\n",
              "    </tr>\n",
              "  </thead>\n",
              "  <tbody>\n",
              "    <tr>\n",
              "      <th>0</th>\n",
              "      <td>278166</td>\n",
              "      <td>6355745</td>\n",
              "      <td>Sat Feb 02 12:50:00 IST 2019</td>\n",
              "      <td>465549</td>\n",
              "      <td>FAMILY ALBUM WHITE PICTURE FRAME</td>\n",
              "      <td>6</td>\n",
              "      <td>11.73</td>\n",
              "      <td>United Kingdom</td>\n",
              "      <td>Sat</td>\n",
              "      <td>Feb</td>\n",
              "      <td>02</td>\n",
              "      <td>12:50:00</td>\n",
              "      <td>IST</td>\n",
              "      <td>2019</td>\n",
              "      <td>Feb/02/2019</td>\n",
              "      <td>2019-02</td>\n",
              "    </tr>\n",
              "    <tr>\n",
              "      <th>1</th>\n",
              "      <td>337701</td>\n",
              "      <td>6283376</td>\n",
              "      <td>Wed Dec 26 09:06:00 IST 2018</td>\n",
              "      <td>482370</td>\n",
              "      <td>LONDON BUS COFFEE MUG</td>\n",
              "      <td>3</td>\n",
              "      <td>3.52</td>\n",
              "      <td>United Kingdom</td>\n",
              "      <td>Wed</td>\n",
              "      <td>Dec</td>\n",
              "      <td>26</td>\n",
              "      <td>09:06:00</td>\n",
              "      <td>IST</td>\n",
              "      <td>2018</td>\n",
              "      <td>Dec/26/2018</td>\n",
              "      <td>2018-12</td>\n",
              "    </tr>\n",
              "    <tr>\n",
              "      <th>2</th>\n",
              "      <td>267099</td>\n",
              "      <td>6385599</td>\n",
              "      <td>Fri Feb 15 09:45:00 IST 2019</td>\n",
              "      <td>490728</td>\n",
              "      <td>SET 12 COLOUR PENCILS DOLLY GIRL</td>\n",
              "      <td>72</td>\n",
              "      <td>0.90</td>\n",
              "      <td>France</td>\n",
              "      <td>Fri</td>\n",
              "      <td>Feb</td>\n",
              "      <td>15</td>\n",
              "      <td>09:45:00</td>\n",
              "      <td>IST</td>\n",
              "      <td>2019</td>\n",
              "      <td>Feb/15/2019</td>\n",
              "      <td>2019-02</td>\n",
              "    </tr>\n",
              "    <tr>\n",
              "      <th>3</th>\n",
              "      <td>380478</td>\n",
              "      <td>6044973</td>\n",
              "      <td>Fri Jun 22 07:14:00 IST 2018</td>\n",
              "      <td>459186</td>\n",
              "      <td>UNION JACK FLAG LUGGAGE TAG</td>\n",
              "      <td>3</td>\n",
              "      <td>1.73</td>\n",
              "      <td>United Kingdom</td>\n",
              "      <td>Fri</td>\n",
              "      <td>Jun</td>\n",
              "      <td>22</td>\n",
              "      <td>07:14:00</td>\n",
              "      <td>IST</td>\n",
              "      <td>2018</td>\n",
              "      <td>Jun/22/2018</td>\n",
              "      <td>2018-06</td>\n",
              "    </tr>\n",
              "    <tr>\n",
              "      <th>5</th>\n",
              "      <td>285957</td>\n",
              "      <td>6307136</td>\n",
              "      <td>Fri Jan 11 09:50:00 IST 2019</td>\n",
              "      <td>1787247</td>\n",
              "      <td>CUT GLASS T-LIGHT HOLDER OCTAGON</td>\n",
              "      <td>12</td>\n",
              "      <td>3.52</td>\n",
              "      <td>United Kingdom</td>\n",
              "      <td>Fri</td>\n",
              "      <td>Jan</td>\n",
              "      <td>11</td>\n",
              "      <td>09:50:00</td>\n",
              "      <td>IST</td>\n",
              "      <td>2019</td>\n",
              "      <td>Jan/11/2019</td>\n",
              "      <td>2019-01</td>\n",
              "    </tr>\n",
              "  </tbody>\n",
              "</table>\n",
              "</div>"
            ],
            "text/plain": [
              "   UserId  TransactionId  ... TransactionTime2  TransactionTime2Month\n",
              "0  278166        6355745  ...      Feb/02/2019                2019-02\n",
              "1  337701        6283376  ...      Dec/26/2018                2018-12\n",
              "2  267099        6385599  ...      Feb/15/2019                2019-02\n",
              "3  380478        6044973  ...      Jun/22/2018                2018-06\n",
              "5  285957        6307136  ...      Jan/11/2019                2019-01\n",
              "\n",
              "[5 rows x 16 columns]"
            ]
          },
          "metadata": {},
          "execution_count": 185
        }
      ]
    },
    {
      "cell_type": "code",
      "metadata": {
        "id": "TA1RWTVQInIk"
      },
      "source": [
        "df2['TransactionTime2'] = pd.to_datetime(df['TransactionTime2'])\n",
        "df2['TransactionTime2Month'] = df2['TransactionTime2'].dt.strftime('%Y-%m')"
      ],
      "execution_count": 186,
      "outputs": []
    },
    {
      "cell_type": "code",
      "metadata": {
        "colab": {
          "base_uri": "https://localhost:8080/"
        },
        "id": "uzFDXtDMItO6",
        "outputId": "ffe04ea2-a044-4234-b9c6-612f92b07e34"
      },
      "source": [
        "df2.dtypes"
      ],
      "execution_count": 187,
      "outputs": [
        {
          "output_type": "execute_result",
          "data": {
            "text/plain": [
              "UserId                             int64\n",
              "TransactionId                      int64\n",
              "TransactionTime                   object\n",
              "ItemCode                           int64\n",
              "ItemDescription                   object\n",
              "NumberOfItemsPurchased             int64\n",
              "CostPerItem                      float64\n",
              "Country                           object\n",
              "Day                               object\n",
              "Date                              object\n",
              "Date2                             object\n",
              "Time                              object\n",
              "IST                               object\n",
              "Year                              object\n",
              "TransactionTime2          datetime64[ns]\n",
              "TransactionTime2Month             object\n",
              "dtype: object"
            ]
          },
          "metadata": {},
          "execution_count": 187
        }
      ]
    },
    {
      "cell_type": "code",
      "metadata": {
        "id": "mJHde9PdMcnu"
      },
      "source": [
        "df2 = df2.drop(['Date', 'Date2', 'TransactionTime', 'IST', 'Year', 'ItemCode'], axis = 1)"
      ],
      "execution_count": 188,
      "outputs": []
    },
    {
      "cell_type": "code",
      "metadata": {
        "colab": {
          "base_uri": "https://localhost:8080/",
          "height": 202
        },
        "id": "6C1dBId7V3Kg",
        "outputId": "e937d285-f190-4dce-a9c1-ae977eb97c4c"
      },
      "source": [
        "df2.head(5)"
      ],
      "execution_count": 189,
      "outputs": [
        {
          "output_type": "execute_result",
          "data": {
            "text/html": [
              "<div>\n",
              "<style scoped>\n",
              "    .dataframe tbody tr th:only-of-type {\n",
              "        vertical-align: middle;\n",
              "    }\n",
              "\n",
              "    .dataframe tbody tr th {\n",
              "        vertical-align: top;\n",
              "    }\n",
              "\n",
              "    .dataframe thead th {\n",
              "        text-align: right;\n",
              "    }\n",
              "</style>\n",
              "<table border=\"1\" class=\"dataframe\">\n",
              "  <thead>\n",
              "    <tr style=\"text-align: right;\">\n",
              "      <th></th>\n",
              "      <th>UserId</th>\n",
              "      <th>TransactionId</th>\n",
              "      <th>ItemDescription</th>\n",
              "      <th>NumberOfItemsPurchased</th>\n",
              "      <th>CostPerItem</th>\n",
              "      <th>Country</th>\n",
              "      <th>Day</th>\n",
              "      <th>Time</th>\n",
              "      <th>TransactionTime2</th>\n",
              "      <th>TransactionTime2Month</th>\n",
              "    </tr>\n",
              "  </thead>\n",
              "  <tbody>\n",
              "    <tr>\n",
              "      <th>0</th>\n",
              "      <td>278166</td>\n",
              "      <td>6355745</td>\n",
              "      <td>FAMILY ALBUM WHITE PICTURE FRAME</td>\n",
              "      <td>6</td>\n",
              "      <td>11.73</td>\n",
              "      <td>United Kingdom</td>\n",
              "      <td>Sat</td>\n",
              "      <td>12:50:00</td>\n",
              "      <td>2019-02-02</td>\n",
              "      <td>2019-02</td>\n",
              "    </tr>\n",
              "    <tr>\n",
              "      <th>1</th>\n",
              "      <td>337701</td>\n",
              "      <td>6283376</td>\n",
              "      <td>LONDON BUS COFFEE MUG</td>\n",
              "      <td>3</td>\n",
              "      <td>3.52</td>\n",
              "      <td>United Kingdom</td>\n",
              "      <td>Wed</td>\n",
              "      <td>09:06:00</td>\n",
              "      <td>2018-12-26</td>\n",
              "      <td>2018-12</td>\n",
              "    </tr>\n",
              "    <tr>\n",
              "      <th>2</th>\n",
              "      <td>267099</td>\n",
              "      <td>6385599</td>\n",
              "      <td>SET 12 COLOUR PENCILS DOLLY GIRL</td>\n",
              "      <td>72</td>\n",
              "      <td>0.90</td>\n",
              "      <td>France</td>\n",
              "      <td>Fri</td>\n",
              "      <td>09:45:00</td>\n",
              "      <td>2019-02-15</td>\n",
              "      <td>2019-02</td>\n",
              "    </tr>\n",
              "    <tr>\n",
              "      <th>3</th>\n",
              "      <td>380478</td>\n",
              "      <td>6044973</td>\n",
              "      <td>UNION JACK FLAG LUGGAGE TAG</td>\n",
              "      <td>3</td>\n",
              "      <td>1.73</td>\n",
              "      <td>United Kingdom</td>\n",
              "      <td>Fri</td>\n",
              "      <td>07:14:00</td>\n",
              "      <td>2018-06-22</td>\n",
              "      <td>2018-06</td>\n",
              "    </tr>\n",
              "    <tr>\n",
              "      <th>5</th>\n",
              "      <td>285957</td>\n",
              "      <td>6307136</td>\n",
              "      <td>CUT GLASS T-LIGHT HOLDER OCTAGON</td>\n",
              "      <td>12</td>\n",
              "      <td>3.52</td>\n",
              "      <td>United Kingdom</td>\n",
              "      <td>Fri</td>\n",
              "      <td>09:50:00</td>\n",
              "      <td>2019-01-11</td>\n",
              "      <td>2019-01</td>\n",
              "    </tr>\n",
              "  </tbody>\n",
              "</table>\n",
              "</div>"
            ],
            "text/plain": [
              "   UserId  TransactionId  ... TransactionTime2  TransactionTime2Month\n",
              "0  278166        6355745  ...       2019-02-02                2019-02\n",
              "1  337701        6283376  ...       2018-12-26                2018-12\n",
              "2  267099        6385599  ...       2019-02-15                2019-02\n",
              "3  380478        6044973  ...       2018-06-22                2018-06\n",
              "5  285957        6307136  ...       2019-01-11                2019-01\n",
              "\n",
              "[5 rows x 10 columns]"
            ]
          },
          "metadata": {},
          "execution_count": 189
        }
      ]
    },
    {
      "cell_type": "code",
      "metadata": {
        "colab": {
          "base_uri": "https://localhost:8080/",
          "height": 295
        },
        "id": "qdC-cC_mW0Bk",
        "outputId": "78b311be-853c-4ade-af06-aabbba64fe0d"
      },
      "source": [
        "df2.describe()"
      ],
      "execution_count": 190,
      "outputs": [
        {
          "output_type": "execute_result",
          "data": {
            "text/html": [
              "<div>\n",
              "<style scoped>\n",
              "    .dataframe tbody tr th:only-of-type {\n",
              "        vertical-align: middle;\n",
              "    }\n",
              "\n",
              "    .dataframe tbody tr th {\n",
              "        vertical-align: top;\n",
              "    }\n",
              "\n",
              "    .dataframe thead th {\n",
              "        text-align: right;\n",
              "    }\n",
              "</style>\n",
              "<table border=\"1\" class=\"dataframe\">\n",
              "  <thead>\n",
              "    <tr style=\"text-align: right;\">\n",
              "      <th></th>\n",
              "      <th>UserId</th>\n",
              "      <th>TransactionId</th>\n",
              "      <th>NumberOfItemsPurchased</th>\n",
              "      <th>CostPerItem</th>\n",
              "    </tr>\n",
              "  </thead>\n",
              "  <tbody>\n",
              "    <tr>\n",
              "      <th>count</th>\n",
              "      <td>813658.000000</td>\n",
              "      <td>8.136580e+05</td>\n",
              "      <td>813658.000000</td>\n",
              "      <td>8.136580e+05</td>\n",
              "    </tr>\n",
              "    <tr>\n",
              "      <th>mean</th>\n",
              "      <td>321041.501975</td>\n",
              "      <td>6.166399e+06</td>\n",
              "      <td>36.183910</td>\n",
              "      <td>8.950375e+00</td>\n",
              "    </tr>\n",
              "    <tr>\n",
              "      <th>std</th>\n",
              "      <td>35985.584256</td>\n",
              "      <td>1.441598e+05</td>\n",
              "      <td>746.079652</td>\n",
              "      <td>2.661168e+03</td>\n",
              "    </tr>\n",
              "    <tr>\n",
              "      <th>min</th>\n",
              "      <td>259266.000000</td>\n",
              "      <td>5.900015e+06</td>\n",
              "      <td>-242985.000000</td>\n",
              "      <td>0.000000e+00</td>\n",
              "    </tr>\n",
              "    <tr>\n",
              "      <th>25%</th>\n",
              "      <td>293013.000000</td>\n",
              "      <td>6.040430e+06</td>\n",
              "      <td>6.000000</td>\n",
              "      <td>1.730000e+00</td>\n",
              "    </tr>\n",
              "    <tr>\n",
              "      <th>50%</th>\n",
              "      <td>318192.000000</td>\n",
              "      <td>6.180603e+06</td>\n",
              "      <td>15.000000</td>\n",
              "      <td>2.700000e+00</td>\n",
              "    </tr>\n",
              "    <tr>\n",
              "      <th>75%</th>\n",
              "      <td>352611.000000</td>\n",
              "      <td>6.292715e+06</td>\n",
              "      <td>36.000000</td>\n",
              "      <td>5.180000e+00</td>\n",
              "    </tr>\n",
              "    <tr>\n",
              "      <th>max</th>\n",
              "      <td>384027.000000</td>\n",
              "      <td>6.397457e+06</td>\n",
              "      <td>242985.000000</td>\n",
              "      <td>1.696285e+06</td>\n",
              "    </tr>\n",
              "  </tbody>\n",
              "</table>\n",
              "</div>"
            ],
            "text/plain": [
              "              UserId  TransactionId  NumberOfItemsPurchased   CostPerItem\n",
              "count  813658.000000   8.136580e+05           813658.000000  8.136580e+05\n",
              "mean   321041.501975   6.166399e+06               36.183910  8.950375e+00\n",
              "std     35985.584256   1.441598e+05              746.079652  2.661168e+03\n",
              "min    259266.000000   5.900015e+06          -242985.000000  0.000000e+00\n",
              "25%    293013.000000   6.040430e+06                6.000000  1.730000e+00\n",
              "50%    318192.000000   6.180603e+06               15.000000  2.700000e+00\n",
              "75%    352611.000000   6.292715e+06               36.000000  5.180000e+00\n",
              "max    384027.000000   6.397457e+06           242985.000000  1.696285e+06"
            ]
          },
          "metadata": {},
          "execution_count": 190
        }
      ]
    },
    {
      "cell_type": "code",
      "metadata": {
        "colab": {
          "base_uri": "https://localhost:8080/"
        },
        "id": "X87_VzC4ZQHh",
        "outputId": "3316336b-80ad-43d9-e254-f61abe14bc6b"
      },
      "source": [
        "df2.nunique()"
      ],
      "execution_count": 191,
      "outputs": [
        {
          "output_type": "execute_result",
          "data": {
            "text/plain": [
              "UserId                     4372\n",
              "TransactionId             22190\n",
              "ItemDescription            3896\n",
              "NumberOfItemsPurchased      436\n",
              "CostPerItem                 621\n",
              "Country                      37\n",
              "Day                           6\n",
              "Time                        773\n",
              "TransactionTime2            305\n",
              "TransactionTime2Month        13\n",
              "dtype: int64"
            ]
          },
          "metadata": {},
          "execution_count": 191
        }
      ]
    },
    {
      "cell_type": "code",
      "metadata": {
        "id": "Bmx6EBu4ZUGo"
      },
      "source": [
        "# assign variable for column in numeric type\n",
        "numeric_column = ['TransactionId','NumberOfItemsPurchased','CostPerItem']"
      ],
      "execution_count": 192,
      "outputs": []
    },
    {
      "cell_type": "code",
      "metadata": {
        "colab": {
          "base_uri": "https://localhost:8080/",
          "height": 602
        },
        "id": "tZvY8Jd7ZwnT",
        "outputId": "94acd8a7-421d-4af0-ef24-55149aa2e819"
      },
      "source": [
        "fig, axes = plt.subplots(nrows=2, ncols=3,figsize=(20,10))\n",
        "\n",
        "for i,el in enumerate(numeric_column):\n",
        "    a = df2.boxplot(el, ax=axes.flatten()[i],grid=False)\n",
        "\n",
        "fig.delaxes(axes[1][2])\n",
        "plt.show()"
      ],
      "execution_count": 193,
      "outputs": [
        {
          "output_type": "display_data",
          "data": {
            "image/png": "[encoded data removed]",
            "text/plain": [
              "<Figure size 1440x720 with 5 Axes>"
            ]
          },
          "metadata": {
            "needs_background": "light"
          }
        }
      ]
    },
    {
      "cell_type": "code",
      "metadata": {
        "colab": {
          "base_uri": "https://localhost:8080/",
          "height": 622
        },
        "id": "w1Bl6WGTivHn",
        "outputId": "4cb0cdf9-0816-4938-dc5f-cbb5a18eb77d"
      },
      "source": [
        "plt.figure(figsize=(30,10))\n",
        "sns.boxplot(data=df2, x='NumberOfItemsPurchased')"
      ],
      "execution_count": 194,
      "outputs": [
        {
          "output_type": "execute_result",
          "data": {
            "text/plain": [
              "<matplotlib.axes._subplots.AxesSubplot at 0x7f8aaa1e0210>"
            ]
          },
          "metadata": {},
          "execution_count": 194
        },
        {
          "output_type": "display_data",
          "data": {
            "image/png": "[encoded data removed]",
            "text/plain": [
              "<Figure size 2160x720 with 1 Axes>"
            ]
          },
          "metadata": {
            "needs_background": "light"
          }
        }
      ]
    },
    {
      "cell_type": "code",
      "metadata": {
        "colab": {
          "base_uri": "https://localhost:8080/"
        },
        "id": "dn2JYaaIkaYi",
        "outputId": "ad9b2356-6521-45af-96f9-03067d71bff3"
      },
      "source": [
        "df2.shape"
      ],
      "execution_count": 195,
      "outputs": [
        {
          "output_type": "execute_result",
          "data": {
            "text/plain": [
              "(813658, 10)"
            ]
          },
          "metadata": {},
          "execution_count": 195
        }
      ]
    },
    {
      "cell_type": "code",
      "metadata": {
        "colab": {
          "base_uri": "https://localhost:8080/",
          "height": 295
        },
        "id": "Gf2rIFfUZ7tP",
        "outputId": "67dfcd81-85be-4b50-efda-d6de383499ee"
      },
      "source": [
        "#checking the outlier\n",
        "sns.distplot(df2['NumberOfItemsPurchased'])"
      ],
      "execution_count": 196,
      "outputs": [
        {
          "output_type": "execute_result",
          "data": {
            "text/plain": [
              "<matplotlib.axes._subplots.AxesSubplot at 0x7f8aa5bbe510>"
            ]
          },
          "metadata": {},
          "execution_count": 196
        },
        {
          "output_type": "display_data",
          "data": {
            "image/png": "[encoded data removed]",
            "text/plain": [
              "<Figure size 432x288 with 1 Axes>"
            ]
          },
          "metadata": {
            "needs_background": "light"
          }
        }
      ]
    },
    {
      "cell_type": "code",
      "metadata": {
        "colab": {
          "base_uri": "https://localhost:8080/"
        },
        "id": "yUi3GbjUaanH",
        "outputId": "bb3de053-66a1-4d20-a54a-5493b0934ccc"
      },
      "source": [
        "\n",
        "# get IQR for NumberOfItemsPurchased\n",
        "Q1 = df2['NumberOfItemsPurchased'].quantile(0.25)\n",
        "Q3 = df2['NumberOfItemsPurchased'].quantile(0.75)\n",
        "IQR = Q3 - Q1\n",
        "boxplot_min = Q1 - 1.5 * IQR\n",
        "boxplot_max = Q3 + 1.5 * IQR\n",
        "print('Q1:\\n',Q1)\n",
        "print('\\nQ3:\\n',Q3)\n",
        "print('\\nIQR:\\n',IQR)\n",
        "print('\\nMin:\\n',boxplot_min)\n",
        "print('\\nMax:\\n',boxplot_max)"
      ],
      "execution_count": 197,
      "outputs": [
        {
          "output_type": "stream",
          "name": "stdout",
          "text": [
            "Q1:\n",
            " 6.0\n",
            "\n",
            "Q3:\n",
            " 36.0\n",
            "\n",
            "IQR:\n",
            " 30.0\n",
            "\n",
            "Min:\n",
            " -39.0\n",
            "\n",
            "Max:\n",
            " 81.0\n"
          ]
        }
      ]
    },
    {
      "cell_type": "code",
      "metadata": {
        "id": "ElJpTKPNkQE0"
      },
      "source": [
        "df2 = df2[(df2[\"NumberOfItemsPurchased\"] >= boxplot_min)&(df2[\"NumberOfItemsPurchased\"] <= boxplot_max)]"
      ],
      "execution_count": 198,
      "outputs": []
    },
    {
      "cell_type": "code",
      "metadata": {
        "colab": {
          "base_uri": "https://localhost:8080/"
        },
        "id": "_K_A5_j0kdMY",
        "outputId": "5cf15f0f-6654-4550-c82e-2953ae48a9f3"
      },
      "source": [
        "df2.shape"
      ],
      "execution_count": 199,
      "outputs": [
        {
          "output_type": "execute_result",
          "data": {
            "text/plain": [
              "(760294, 10)"
            ]
          },
          "metadata": {},
          "execution_count": 199
        }
      ]
    },
    {
      "cell_type": "code",
      "metadata": {
        "colab": {
          "base_uri": "https://localhost:8080/",
          "height": 622
        },
        "id": "JmehH7XdlXcb",
        "outputId": "34731891-2320-49eb-e6ed-a783e35c3fee"
      },
      "source": [
        "plt.figure(figsize=(20,10))\n",
        "sns.boxplot(data=df2, x='CostPerItem')"
      ],
      "execution_count": 200,
      "outputs": [
        {
          "output_type": "execute_result",
          "data": {
            "text/plain": [
              "<matplotlib.axes._subplots.AxesSubplot at 0x7f8aa5f98910>"
            ]
          },
          "metadata": {},
          "execution_count": 200
        },
        {
          "output_type": "display_data",
          "data": {
            "image/png": "[encoded data removed]",
            "text/plain": [
              "<Figure size 1440x720 with 1 Axes>"
            ]
          },
          "metadata": {
            "needs_background": "light"
          }
        }
      ]
    },
    {
      "cell_type": "code",
      "metadata": {
        "colab": {
          "base_uri": "https://localhost:8080/"
        },
        "id": "jOvvhCfQleJB",
        "outputId": "7a075f99-3b63-4d84-c81c-a672693a904c"
      },
      "source": [
        "df2.shape"
      ],
      "execution_count": 201,
      "outputs": [
        {
          "output_type": "execute_result",
          "data": {
            "text/plain": [
              "(760294, 10)"
            ]
          },
          "metadata": {},
          "execution_count": 201
        }
      ]
    },
    {
      "cell_type": "code",
      "metadata": {
        "colab": {
          "base_uri": "https://localhost:8080/",
          "height": 307
        },
        "id": "_h3wkDselkzy",
        "outputId": "6be66db1-cc84-42b0-e586-8164cf656636"
      },
      "source": [
        "#checking the outlier\n",
        "sns.distplot(df2['CostPerItem'])"
      ],
      "execution_count": 202,
      "outputs": [
        {
          "output_type": "execute_result",
          "data": {
            "text/plain": [
              "<matplotlib.axes._subplots.AxesSubplot at 0x7f8aa60b36d0>"
            ]
          },
          "metadata": {},
          "execution_count": 202
        },
        {
          "output_type": "display_data",
          "data": {
            "image/png": "[encoded data removed]",
            "text/plain": [
              "<Figure size 432x288 with 1 Axes>"
            ]
          },
          "metadata": {
            "needs_background": "light"
          }
        }
      ]
    },
    {
      "cell_type": "code",
      "metadata": {
        "colab": {
          "base_uri": "https://localhost:8080/"
        },
        "id": "m1-VX6XklsAb",
        "outputId": "9ac3aeb2-e50f-4916-fb62-b43bc9c777cb"
      },
      "source": [
        "# get IQR for CostPerItem\n",
        "Q1 = df2['CostPerItem'].quantile(0.25)\n",
        "Q3 = df2['CostPerItem'].quantile(0.75)\n",
        "IQR = Q3 - Q1\n",
        "boxplot_min = Q1 - 1.5 * IQR\n",
        "boxplot_max = Q3 + 1.5 * IQR\n",
        "print('Q1:\\n',Q1)\n",
        "print('\\nQ3:\\n',Q3)\n",
        "print('\\nIQR:\\n',IQR)\n",
        "print('\\nMin:\\n',boxplot_min)\n",
        "print('\\nMax:\\n',boxplot_max)"
      ],
      "execution_count": 203,
      "outputs": [
        {
          "output_type": "stream",
          "name": "stdout",
          "text": [
            "Q1:\n",
            " 1.73\n",
            "\n",
            "Q3:\n",
            " 5.18\n",
            "\n",
            "IQR:\n",
            " 3.4499999999999997\n",
            "\n",
            "Min:\n",
            " -3.445\n",
            "\n",
            "Max:\n",
            " 10.355\n"
          ]
        }
      ]
    },
    {
      "cell_type": "code",
      "metadata": {
        "id": "5eX1rWInl9mN"
      },
      "source": [
        "df2 = df2[(df2[\"CostPerItem\"] >= boxplot_min)&(df2[\"CostPerItem\"] <= boxplot_max)]"
      ],
      "execution_count": 204,
      "outputs": []
    },
    {
      "cell_type": "code",
      "metadata": {
        "colab": {
          "base_uri": "https://localhost:8080/"
        },
        "id": "S5EyUrT7lvvx",
        "outputId": "9dfacc82-4805-4902-a0d8-85717c388318"
      },
      "source": [
        "df2.shape"
      ],
      "execution_count": 205,
      "outputs": [
        {
          "output_type": "execute_result",
          "data": {
            "text/plain": [
              "(688786, 10)"
            ]
          },
          "metadata": {},
          "execution_count": 205
        }
      ]
    },
    {
      "cell_type": "markdown",
      "metadata": {
        "id": "3MikqEQ-_vWh"
      },
      "source": [
        "\n",
        "# **EXPLORING DATA**"
      ]
    },
    {
      "cell_type": "code",
      "metadata": {
        "colab": {
          "base_uri": "https://localhost:8080/",
          "height": 0
        },
        "id": "DjevHTOg_yFM",
        "outputId": "8edcb9e1-1d87-43ba-a9df-5cd2719cf35e"
      },
      "source": [
        "df2.head()"
      ],
      "execution_count": 206,
      "outputs": [
        {
          "output_type": "execute_result",
          "data": {
            "text/html": [
              "<div>\n",
              "<style scoped>\n",
              "    .dataframe tbody tr th:only-of-type {\n",
              "        vertical-align: middle;\n",
              "    }\n",
              "\n",
              "    .dataframe tbody tr th {\n",
              "        vertical-align: top;\n",
              "    }\n",
              "\n",
              "    .dataframe thead th {\n",
              "        text-align: right;\n",
              "    }\n",
              "</style>\n",
              "<table border=\"1\" class=\"dataframe\">\n",
              "  <thead>\n",
              "    <tr style=\"text-align: right;\">\n",
              "      <th></th>\n",
              "      <th>UserId</th>\n",
              "      <th>TransactionId</th>\n",
              "      <th>ItemDescription</th>\n",
              "      <th>NumberOfItemsPurchased</th>\n",
              "      <th>CostPerItem</th>\n",
              "      <th>Country</th>\n",
              "      <th>Day</th>\n",
              "      <th>Time</th>\n",
              "      <th>TransactionTime2</th>\n",
              "      <th>TransactionTime2Month</th>\n",
              "    </tr>\n",
              "  </thead>\n",
              "  <tbody>\n",
              "    <tr>\n",
              "      <th>1</th>\n",
              "      <td>337701</td>\n",
              "      <td>6283376</td>\n",
              "      <td>LONDON BUS COFFEE MUG</td>\n",
              "      <td>3</td>\n",
              "      <td>3.52</td>\n",
              "      <td>United Kingdom</td>\n",
              "      <td>Wed</td>\n",
              "      <td>09:06:00</td>\n",
              "      <td>2018-12-26</td>\n",
              "      <td>2018-12</td>\n",
              "    </tr>\n",
              "    <tr>\n",
              "      <th>2</th>\n",
              "      <td>267099</td>\n",
              "      <td>6385599</td>\n",
              "      <td>SET 12 COLOUR PENCILS DOLLY GIRL</td>\n",
              "      <td>72</td>\n",
              "      <td>0.90</td>\n",
              "      <td>France</td>\n",
              "      <td>Fri</td>\n",
              "      <td>09:45:00</td>\n",
              "      <td>2019-02-15</td>\n",
              "      <td>2019-02</td>\n",
              "    </tr>\n",
              "    <tr>\n",
              "      <th>3</th>\n",
              "      <td>380478</td>\n",
              "      <td>6044973</td>\n",
              "      <td>UNION JACK FLAG LUGGAGE TAG</td>\n",
              "      <td>3</td>\n",
              "      <td>1.73</td>\n",
              "      <td>United Kingdom</td>\n",
              "      <td>Fri</td>\n",
              "      <td>07:14:00</td>\n",
              "      <td>2018-06-22</td>\n",
              "      <td>2018-06</td>\n",
              "    </tr>\n",
              "    <tr>\n",
              "      <th>5</th>\n",
              "      <td>285957</td>\n",
              "      <td>6307136</td>\n",
              "      <td>CUT GLASS T-LIGHT HOLDER OCTAGON</td>\n",
              "      <td>12</td>\n",
              "      <td>3.52</td>\n",
              "      <td>United Kingdom</td>\n",
              "      <td>Fri</td>\n",
              "      <td>09:50:00</td>\n",
              "      <td>2019-01-11</td>\n",
              "      <td>2019-01</td>\n",
              "    </tr>\n",
              "    <tr>\n",
              "      <th>6</th>\n",
              "      <td>345954</td>\n",
              "      <td>6162981</td>\n",
              "      <td>NATURAL SLATE CHALKBOARD LARGE</td>\n",
              "      <td>9</td>\n",
              "      <td>6.84</td>\n",
              "      <td>United Kingdom</td>\n",
              "      <td>Fri</td>\n",
              "      <td>10:51:00</td>\n",
              "      <td>2018-09-28</td>\n",
              "      <td>2018-09</td>\n",
              "    </tr>\n",
              "  </tbody>\n",
              "</table>\n",
              "</div>"
            ],
            "text/plain": [
              "   UserId  TransactionId  ... TransactionTime2  TransactionTime2Month\n",
              "1  337701        6283376  ...       2018-12-26                2018-12\n",
              "2  267099        6385599  ...       2019-02-15                2019-02\n",
              "3  380478        6044973  ...       2018-06-22                2018-06\n",
              "5  285957        6307136  ...       2019-01-11                2019-01\n",
              "6  345954        6162981  ...       2018-09-28                2018-09\n",
              "\n",
              "[5 rows x 10 columns]"
            ]
          },
          "metadata": {},
          "execution_count": 206
        }
      ]
    },
    {
      "cell_type": "markdown",
      "metadata": {
        "id": "faGwPB-ABSi6"
      },
      "source": [
        "### **COUNTRY WITH THE MOST SALES**"
      ]
    },
    {
      "cell_type": "code",
      "metadata": {
        "id": "kaPoUGZHBRtU"
      },
      "source": [
        "df2['TotalSales'] = df2['NumberOfItemsPurchased']*df2['CostPerItem']"
      ],
      "execution_count": 207,
      "outputs": []
    },
    {
      "cell_type": "markdown",
      "metadata": {
        "id": "zVunJxGMMpFn"
      },
      "source": [
        "### **Product Sold Every Month**"
      ]
    },
    {
      "cell_type": "code",
      "metadata": {
        "colab": {
          "base_uri": "https://localhost:8080/",
          "height": 0
        },
        "id": "Y5eXlK0pich0",
        "outputId": "a7d7df82-97a6-4840-cebb-3fcec52259bc"
      },
      "source": [
        "TopCountry = df2.groupby('Country')[['TotalSales']].sum().sort_values('TotalSales', ascending=False).head(10)\n",
        "TopCountry.reset_index(inplace=True)\n",
        "TopCountry"
      ],
      "execution_count": 208,
      "outputs": [
        {
          "output_type": "execute_result",
          "data": {
            "text/html": [
              "<div>\n",
              "<style scoped>\n",
              "    .dataframe tbody tr th:only-of-type {\n",
              "        vertical-align: middle;\n",
              "    }\n",
              "\n",
              "    .dataframe tbody tr th {\n",
              "        vertical-align: top;\n",
              "    }\n",
              "\n",
              "    .dataframe thead th {\n",
              "        text-align: right;\n",
              "    }\n",
              "</style>\n",
              "<table border=\"1\" class=\"dataframe\">\n",
              "  <thead>\n",
              "    <tr style=\"text-align: right;\">\n",
              "      <th></th>\n",
              "      <th>Country</th>\n",
              "      <th>TotalSales</th>\n",
              "    </tr>\n",
              "  </thead>\n",
              "  <tbody>\n",
              "    <tr>\n",
              "      <th>0</th>\n",
              "      <td>United Kingdom</td>\n",
              "      <td>3.035998e+07</td>\n",
              "    </tr>\n",
              "    <tr>\n",
              "      <th>1</th>\n",
              "      <td>Germany</td>\n",
              "      <td>1.126588e+06</td>\n",
              "    </tr>\n",
              "    <tr>\n",
              "      <th>2</th>\n",
              "      <td>France</td>\n",
              "      <td>1.005318e+06</td>\n",
              "    </tr>\n",
              "    <tr>\n",
              "      <th>3</th>\n",
              "      <td>EIRE</td>\n",
              "      <td>8.642146e+05</td>\n",
              "    </tr>\n",
              "    <tr>\n",
              "      <th>4</th>\n",
              "      <td>Spain</td>\n",
              "      <td>2.459551e+05</td>\n",
              "    </tr>\n",
              "    <tr>\n",
              "      <th>5</th>\n",
              "      <td>Switzerland</td>\n",
              "      <td>2.458900e+05</td>\n",
              "    </tr>\n",
              "    <tr>\n",
              "      <th>6</th>\n",
              "      <td>Belgium</td>\n",
              "      <td>2.294548e+05</td>\n",
              "    </tr>\n",
              "    <tr>\n",
              "      <th>7</th>\n",
              "      <td>Portugal</td>\n",
              "      <td>1.686310e+05</td>\n",
              "    </tr>\n",
              "    <tr>\n",
              "      <th>8</th>\n",
              "      <td>Norway</td>\n",
              "      <td>1.489749e+05</td>\n",
              "    </tr>\n",
              "    <tr>\n",
              "      <th>9</th>\n",
              "      <td>Netherlands</td>\n",
              "      <td>1.290653e+05</td>\n",
              "    </tr>\n",
              "  </tbody>\n",
              "</table>\n",
              "</div>"
            ],
            "text/plain": [
              "          Country    TotalSales\n",
              "0  United Kingdom  3.035998e+07\n",
              "1         Germany  1.126588e+06\n",
              "2          France  1.005318e+06\n",
              "3            EIRE  8.642146e+05\n",
              "4           Spain  2.459551e+05\n",
              "5     Switzerland  2.458900e+05\n",
              "6         Belgium  2.294548e+05\n",
              "7        Portugal  1.686310e+05\n",
              "8          Norway  1.489749e+05\n",
              "9     Netherlands  1.290653e+05"
            ]
          },
          "metadata": {},
          "execution_count": 208
        }
      ]
    },
    {
      "cell_type": "code",
      "metadata": {
        "colab": {
          "base_uri": "https://localhost:8080/",
          "height": 0
        },
        "id": "zzvYv6-mmPZK",
        "outputId": "3493761a-892b-44e0-fc1f-abc29de19422"
      },
      "source": [
        "plt.figure(figsize=(20,5))\n",
        "sns.barplot(data=TopCountry, x='TotalSales', y='Country')\n",
        "plt.title(\"TOP 10 Country\", fontsize=30)\n",
        "plt.xlabel(\"Total Sales\", fontsize=15)\n",
        "plt.ylabel(\"Country\", fontsize=15)"
      ],
      "execution_count": 209,
      "outputs": [
        {
          "output_type": "execute_result",
          "data": {
            "text/plain": [
              "Text(0, 0.5, 'Country')"
            ]
          },
          "metadata": {},
          "execution_count": 209
        },
        {
          "output_type": "display_data",
          "data": {
            "image/png": "[encoded data removed]",
            "text/plain": [
              "<Figure size 1440x360 with 1 Axes>"
            ]
          },
          "metadata": {
            "needs_background": "light"
          }
        }
      ]
    },
    {
      "cell_type": "code",
      "metadata": {
        "colab": {
          "base_uri": "https://localhost:8080/",
          "height": 0
        },
        "id": "qJWFOfEzNQJ_",
        "outputId": "0446b5a9-27a0-4300-c8b9-c504a81a3b70"
      },
      "source": [
        "\n",
        "monthlysold = df2.groupby('TransactionTime2Month')[['NumberOfItemsPurchased']].sum()\n",
        "monthlysold = pd.DataFrame(monthlysold)\n",
        "monthlysold = monthlysold.reset_index()\n",
        "monthlysold.head()"
      ],
      "execution_count": 210,
      "outputs": [
        {
          "output_type": "execute_result",
          "data": {
            "text/html": [
              "<div>\n",
              "<style scoped>\n",
              "    .dataframe tbody tr th:only-of-type {\n",
              "        vertical-align: middle;\n",
              "    }\n",
              "\n",
              "    .dataframe tbody tr th {\n",
              "        vertical-align: top;\n",
              "    }\n",
              "\n",
              "    .dataframe thead th {\n",
              "        text-align: right;\n",
              "    }\n",
              "</style>\n",
              "<table border=\"1\" class=\"dataframe\">\n",
              "  <thead>\n",
              "    <tr style=\"text-align: right;\">\n",
              "      <th></th>\n",
              "      <th>TransactionTime2Month</th>\n",
              "      <th>NumberOfItemsPurchased</th>\n",
              "    </tr>\n",
              "  </thead>\n",
              "  <tbody>\n",
              "    <tr>\n",
              "      <th>0</th>\n",
              "      <td>2018-02</td>\n",
              "      <td>810432</td>\n",
              "    </tr>\n",
              "    <tr>\n",
              "      <th>1</th>\n",
              "      <td>2018-03</td>\n",
              "      <td>507648</td>\n",
              "    </tr>\n",
              "    <tr>\n",
              "      <th>2</th>\n",
              "      <td>2018-04</td>\n",
              "      <td>776610</td>\n",
              "    </tr>\n",
              "    <tr>\n",
              "      <th>3</th>\n",
              "      <td>2018-05</td>\n",
              "      <td>924552</td>\n",
              "    </tr>\n",
              "    <tr>\n",
              "      <th>4</th>\n",
              "      <td>2018-06</td>\n",
              "      <td>1056132</td>\n",
              "    </tr>\n",
              "  </tbody>\n",
              "</table>\n",
              "</div>"
            ],
            "text/plain": [
              "  TransactionTime2Month  NumberOfItemsPurchased\n",
              "0               2018-02                  810432\n",
              "1               2018-03                  507648\n",
              "2               2018-04                  776610\n",
              "3               2018-05                  924552\n",
              "4               2018-06                 1056132"
            ]
          },
          "metadata": {},
          "execution_count": 210
        }
      ]
    },
    {
      "cell_type": "code",
      "metadata": {
        "colab": {
          "base_uri": "https://localhost:8080/",
          "height": 0
        },
        "id": "0bZhzrqvSFKH",
        "outputId": "cf73fbde-9638-40dd-f822-849a2fe9bd70"
      },
      "source": [
        "plt.figure(figsize=(20,5))\n",
        "sns.lineplot(data=monthlysold, x='TransactionTime2Month', y='NumberOfItemsPurchased')\n",
        "plt.title(\"Product Sold Monthly\", fontsize=30)\n",
        "plt.xlabel(\"Transaction Time\", fontsize=15)\n",
        "plt.ylabel(\"Number of Product Sold\", fontsize=15)"
      ],
      "execution_count": 211,
      "outputs": [
        {
          "output_type": "execute_result",
          "data": {
            "text/plain": [
              "Text(0, 0.5, 'Number of Product Sold')"
            ]
          },
          "metadata": {},
          "execution_count": 211
        },
        {
          "output_type": "display_data",
          "data": {
            "image/png": "[encoded data removed]",
            "text/plain": [
              "<Figure size 1440x360 with 1 Axes>"
            ]
          },
          "metadata": {
            "needs_background": "light"
          }
        }
      ]
    },
    {
      "cell_type": "code",
      "metadata": {
        "colab": {
          "base_uri": "https://localhost:8080/",
          "height": 0
        },
        "id": "GVyyLSB_ZPYA",
        "outputId": "18821f4d-0dbb-4403-a2fb-f0b95b60945e"
      },
      "source": [
        "monthlysales = df2.groupby('TransactionTime2Month')[['TotalSales']].sum()\n",
        "monthlysales.head()"
      ],
      "execution_count": 212,
      "outputs": [
        {
          "output_type": "execute_result",
          "data": {
            "text/html": [
              "<div>\n",
              "<style scoped>\n",
              "    .dataframe tbody tr th:only-of-type {\n",
              "        vertical-align: middle;\n",
              "    }\n",
              "\n",
              "    .dataframe tbody tr th {\n",
              "        vertical-align: top;\n",
              "    }\n",
              "\n",
              "    .dataframe thead th {\n",
              "        text-align: right;\n",
              "    }\n",
              "</style>\n",
              "<table border=\"1\" class=\"dataframe\">\n",
              "  <thead>\n",
              "    <tr style=\"text-align: right;\">\n",
              "      <th></th>\n",
              "      <th>TotalSales</th>\n",
              "    </tr>\n",
              "    <tr>\n",
              "      <th>TransactionTime2Month</th>\n",
              "      <th></th>\n",
              "    </tr>\n",
              "  </thead>\n",
              "  <tbody>\n",
              "    <tr>\n",
              "      <th>2018-02</th>\n",
              "      <td>2121186.66</td>\n",
              "    </tr>\n",
              "    <tr>\n",
              "      <th>2018-03</th>\n",
              "      <td>1188012.24</td>\n",
              "    </tr>\n",
              "    <tr>\n",
              "      <th>2018-04</th>\n",
              "      <td>1904837.46</td>\n",
              "    </tr>\n",
              "    <tr>\n",
              "      <th>2018-05</th>\n",
              "      <td>2165641.26</td>\n",
              "    </tr>\n",
              "    <tr>\n",
              "      <th>2018-06</th>\n",
              "      <td>2384311.68</td>\n",
              "    </tr>\n",
              "  </tbody>\n",
              "</table>\n",
              "</div>"
            ],
            "text/plain": [
              "                       TotalSales\n",
              "TransactionTime2Month            \n",
              "2018-02                2121186.66\n",
              "2018-03                1188012.24\n",
              "2018-04                1904837.46\n",
              "2018-05                2165641.26\n",
              "2018-06                2384311.68"
            ]
          },
          "metadata": {},
          "execution_count": 212
        }
      ]
    },
    {
      "cell_type": "code",
      "metadata": {
        "colab": {
          "base_uri": "https://localhost:8080/",
          "height": 0
        },
        "id": "2fRQPsauaJmr",
        "outputId": "d9680ed0-5fb6-4a12-8cf8-7bd99429757e"
      },
      "source": [
        "plt.figure(figsize=(20,5))\n",
        "sns.lineplot(data=monthlysales, x='TransactionTime2Month', y='TotalSales')\n",
        "plt.title(\"Monthly Sales\", fontsize=30)\n",
        "plt.xlabel(\"Transaction Time\", fontsize=15)\n",
        "plt.ylabel(\"Total Sales\", fontsize=15)"
      ],
      "execution_count": 213,
      "outputs": [
        {
          "output_type": "execute_result",
          "data": {
            "text/plain": [
              "Text(0, 0.5, 'Total Sales')"
            ]
          },
          "metadata": {},
          "execution_count": 213
        },
        {
          "output_type": "display_data",
          "data": {
            "image/png": "[encoded data removed]",
            "text/plain": [
              "<Figure size 1440x360 with 1 Axes>"
            ]
          },
          "metadata": {
            "needs_background": "light"
          }
        }
      ]
    },
    {
      "cell_type": "code",
      "metadata": {
        "colab": {
          "base_uri": "https://localhost:8080/",
          "height": 0
        },
        "id": "vICWYXwmfDid",
        "outputId": "94355219-8f50-4a28-af2e-9f8ed10abc62"
      },
      "source": [
        "mostproduct = df2.groupby('ItemDescription')[['NumberOfItemsPurchased']].sum().sort_values('NumberOfItemsPurchased', ascending=False).head(10)\n",
        "mostproduct.reset_index(inplace=True)\n",
        "mostproduct"
      ],
      "execution_count": 214,
      "outputs": [
        {
          "output_type": "execute_result",
          "data": {
            "text/html": [
              "<div>\n",
              "<style scoped>\n",
              "    .dataframe tbody tr th:only-of-type {\n",
              "        vertical-align: middle;\n",
              "    }\n",
              "\n",
              "    .dataframe tbody tr th {\n",
              "        vertical-align: top;\n",
              "    }\n",
              "\n",
              "    .dataframe thead th {\n",
              "        text-align: right;\n",
              "    }\n",
              "</style>\n",
              "<table border=\"1\" class=\"dataframe\">\n",
              "  <thead>\n",
              "    <tr style=\"text-align: right;\">\n",
              "      <th></th>\n",
              "      <th>ItemDescription</th>\n",
              "      <th>NumberOfItemsPurchased</th>\n",
              "    </tr>\n",
              "  </thead>\n",
              "  <tbody>\n",
              "    <tr>\n",
              "      <th>0</th>\n",
              "      <td>PACK OF 72 RETROSPOT CAKE CASES</td>\n",
              "      <td>89964</td>\n",
              "    </tr>\n",
              "    <tr>\n",
              "      <th>1</th>\n",
              "      <td>ASSORTED COLOUR BIRD ORNAMENT</td>\n",
              "      <td>81846</td>\n",
              "    </tr>\n",
              "    <tr>\n",
              "      <th>2</th>\n",
              "      <td>JUMBO BAG RED RETROSPOT</td>\n",
              "      <td>72318</td>\n",
              "    </tr>\n",
              "    <tr>\n",
              "      <th>3</th>\n",
              "      <td>WHITE HANGING HEART T-LIGHT HOLDER</td>\n",
              "      <td>64182</td>\n",
              "    </tr>\n",
              "    <tr>\n",
              "      <th>4</th>\n",
              "      <td>LUNCH BAG RED RETROSPOT</td>\n",
              "      <td>58170</td>\n",
              "    </tr>\n",
              "    <tr>\n",
              "      <th>5</th>\n",
              "      <td>JAM MAKING SET PRINTED</td>\n",
              "      <td>51762</td>\n",
              "    </tr>\n",
              "    <tr>\n",
              "      <th>6</th>\n",
              "      <td>PACK OF 60 PINK PAISLEY CAKE CASES</td>\n",
              "      <td>51162</td>\n",
              "    </tr>\n",
              "    <tr>\n",
              "      <th>7</th>\n",
              "      <td>60 TEATIME FAIRY CAKE CASES</td>\n",
              "      <td>50376</td>\n",
              "    </tr>\n",
              "    <tr>\n",
              "      <th>8</th>\n",
              "      <td>VICTORIAN GLASS HANGING T-LIGHT</td>\n",
              "      <td>45228</td>\n",
              "    </tr>\n",
              "    <tr>\n",
              "      <th>9</th>\n",
              "      <td>RED RETROSPOT WRAP</td>\n",
              "      <td>44832</td>\n",
              "    </tr>\n",
              "  </tbody>\n",
              "</table>\n",
              "</div>"
            ],
            "text/plain": [
              "                      ItemDescription  NumberOfItemsPurchased\n",
              "0     PACK OF 72 RETROSPOT CAKE CASES                   89964\n",
              "1       ASSORTED COLOUR BIRD ORNAMENT                   81846\n",
              "2             JUMBO BAG RED RETROSPOT                   72318\n",
              "3  WHITE HANGING HEART T-LIGHT HOLDER                   64182\n",
              "4             LUNCH BAG RED RETROSPOT                   58170\n",
              "5              JAM MAKING SET PRINTED                   51762\n",
              "6  PACK OF 60 PINK PAISLEY CAKE CASES                   51162\n",
              "7         60 TEATIME FAIRY CAKE CASES                   50376\n",
              "8     VICTORIAN GLASS HANGING T-LIGHT                   45228\n",
              "9                 RED RETROSPOT WRAP                    44832"
            ]
          },
          "metadata": {},
          "execution_count": 214
        }
      ]
    },
    {
      "cell_type": "code",
      "metadata": {
        "colab": {
          "base_uri": "https://localhost:8080/",
          "height": 0
        },
        "id": "_8870PtJfuyi",
        "outputId": "9b936585-f7f8-4f5d-a5a5-2d60e35a9196"
      },
      "source": [
        "plt.figure(figsize=(20,5))\n",
        "sns.barplot(data=mostproduct, x='NumberOfItemsPurchased', y='ItemDescription')\n",
        "plt.title(\"TOP 10 Products\", fontsize=30)\n",
        "plt.xlabel(\"Total Product Sold\", fontsize=15)\n",
        "plt.ylabel(\"Product\", fontsize=15)"
      ],
      "execution_count": 215,
      "outputs": [
        {
          "output_type": "execute_result",
          "data": {
            "text/plain": [
              "Text(0, 0.5, 'Product')"
            ]
          },
          "metadata": {},
          "execution_count": 215
        },
        {
          "output_type": "display_data",
          "data": {
            "image/png": "[encoded data removed]",
            "text/plain": [
              "<Figure size 1440x360 with 1 Axes>"
            ]
          },
          "metadata": {
            "needs_background": "light"
          }
        }
      ]
    },
    {
      "cell_type": "markdown",
      "metadata": {
        "id": "IF4AAOmGnFp1"
      },
      "source": [
        "# **RFM**"
      ]
    },
    {
      "cell_type": "code",
      "metadata": {
        "colab": {
          "base_uri": "https://localhost:8080/",
          "height": 202
        },
        "id": "pPW3JFwumBCO",
        "outputId": "70f3633e-4b12-404e-c768-c6f079e7dc01"
      },
      "source": [
        "rfmtable = pd.DataFrame(df2['UserId'].unique())\n",
        "rfmtable.columns = ['UserId']\n",
        "rfmtable.head()"
      ],
      "execution_count": 216,
      "outputs": [
        {
          "output_type": "execute_result",
          "data": {
            "text/html": [
              "<div>\n",
              "<style scoped>\n",
              "    .dataframe tbody tr th:only-of-type {\n",
              "        vertical-align: middle;\n",
              "    }\n",
              "\n",
              "    .dataframe tbody tr th {\n",
              "        vertical-align: top;\n",
              "    }\n",
              "\n",
              "    .dataframe thead th {\n",
              "        text-align: right;\n",
              "    }\n",
              "</style>\n",
              "<table border=\"1\" class=\"dataframe\">\n",
              "  <thead>\n",
              "    <tr style=\"text-align: right;\">\n",
              "      <th></th>\n",
              "      <th>UserId</th>\n",
              "    </tr>\n",
              "  </thead>\n",
              "  <tbody>\n",
              "    <tr>\n",
              "      <th>0</th>\n",
              "      <td>337701</td>\n",
              "    </tr>\n",
              "    <tr>\n",
              "      <th>1</th>\n",
              "      <td>267099</td>\n",
              "    </tr>\n",
              "    <tr>\n",
              "      <th>2</th>\n",
              "      <td>380478</td>\n",
              "    </tr>\n",
              "    <tr>\n",
              "      <th>3</th>\n",
              "      <td>285957</td>\n",
              "    </tr>\n",
              "    <tr>\n",
              "      <th>4</th>\n",
              "      <td>345954</td>\n",
              "    </tr>\n",
              "  </tbody>\n",
              "</table>\n",
              "</div>"
            ],
            "text/plain": [
              "   UserId\n",
              "0  337701\n",
              "1  267099\n",
              "2  380478\n",
              "3  285957\n",
              "4  345954"
            ]
          },
          "metadata": {},
          "execution_count": 216
        }
      ]
    },
    {
      "cell_type": "code",
      "metadata": {
        "id": "kPK9bLTWn3EI",
        "colab": {
          "base_uri": "https://localhost:8080/",
          "height": 202
        },
        "outputId": "3b60eb4a-2b28-4f77-9b19-060dc0e3b6b1"
      },
      "source": [
        "lastestorder = df2.groupby('UserId').TransactionTime2.max().reset_index()\n",
        "lastestorder.columns = ['UserId','LatestOrderDate']\n",
        "lastestorder.head()"
      ],
      "execution_count": 217,
      "outputs": [
        {
          "output_type": "execute_result",
          "data": {
            "text/html": [
              "<div>\n",
              "<style scoped>\n",
              "    .dataframe tbody tr th:only-of-type {\n",
              "        vertical-align: middle;\n",
              "    }\n",
              "\n",
              "    .dataframe tbody tr th {\n",
              "        vertical-align: top;\n",
              "    }\n",
              "\n",
              "    .dataframe thead th {\n",
              "        text-align: right;\n",
              "    }\n",
              "</style>\n",
              "<table border=\"1\" class=\"dataframe\">\n",
              "  <thead>\n",
              "    <tr style=\"text-align: right;\">\n",
              "      <th></th>\n",
              "      <th>UserId</th>\n",
              "      <th>LatestOrderDate</th>\n",
              "    </tr>\n",
              "  </thead>\n",
              "  <tbody>\n",
              "    <tr>\n",
              "      <th>0</th>\n",
              "      <td>259287</td>\n",
              "      <td>2019-02-18</td>\n",
              "    </tr>\n",
              "    <tr>\n",
              "      <th>1</th>\n",
              "      <td>259308</td>\n",
              "      <td>2018-06-17</td>\n",
              "    </tr>\n",
              "    <tr>\n",
              "      <th>2</th>\n",
              "      <td>259329</td>\n",
              "      <td>2019-02-02</td>\n",
              "    </tr>\n",
              "    <tr>\n",
              "      <th>3</th>\n",
              "      <td>259350</td>\n",
              "      <td>2018-04-16</td>\n",
              "    </tr>\n",
              "    <tr>\n",
              "      <th>4</th>\n",
              "      <td>259392</td>\n",
              "      <td>2019-01-15</td>\n",
              "    </tr>\n",
              "  </tbody>\n",
              "</table>\n",
              "</div>"
            ],
            "text/plain": [
              "   UserId LatestOrderDate\n",
              "0  259287      2019-02-18\n",
              "1  259308      2018-06-17\n",
              "2  259329      2019-02-02\n",
              "3  259350      2018-04-16\n",
              "4  259392      2019-01-15"
            ]
          },
          "metadata": {},
          "execution_count": 217
        }
      ]
    },
    {
      "cell_type": "code",
      "metadata": {
        "colab": {
          "base_uri": "https://localhost:8080/",
          "height": 202
        },
        "id": "0sFMZNKduOcF",
        "outputId": "e4a1fa72-0d12-4739-9dce-3b342ca4b78e"
      },
      "source": [
        "# Calculate Recency\n",
        "# Recency = point in time of observation - number of days last purchase\n",
        "lastestorder['Recency'] = (lastestorder['LatestOrderDate'].max() - lastestorder['LatestOrderDate']).dt.days\n",
        "lastestorder.head()"
      ],
      "execution_count": 218,
      "outputs": [
        {
          "output_type": "execute_result",
          "data": {
            "text/html": [
              "<div>\n",
              "<style scoped>\n",
              "    .dataframe tbody tr th:only-of-type {\n",
              "        vertical-align: middle;\n",
              "    }\n",
              "\n",
              "    .dataframe tbody tr th {\n",
              "        vertical-align: top;\n",
              "    }\n",
              "\n",
              "    .dataframe thead th {\n",
              "        text-align: right;\n",
              "    }\n",
              "</style>\n",
              "<table border=\"1\" class=\"dataframe\">\n",
              "  <thead>\n",
              "    <tr style=\"text-align: right;\">\n",
              "      <th></th>\n",
              "      <th>UserId</th>\n",
              "      <th>LatestOrderDate</th>\n",
              "      <th>Recency</th>\n",
              "    </tr>\n",
              "  </thead>\n",
              "  <tbody>\n",
              "    <tr>\n",
              "      <th>0</th>\n",
              "      <td>259287</td>\n",
              "      <td>2019-02-18</td>\n",
              "      <td>2</td>\n",
              "    </tr>\n",
              "    <tr>\n",
              "      <th>1</th>\n",
              "      <td>259308</td>\n",
              "      <td>2018-06-17</td>\n",
              "      <td>248</td>\n",
              "    </tr>\n",
              "    <tr>\n",
              "      <th>2</th>\n",
              "      <td>259329</td>\n",
              "      <td>2019-02-02</td>\n",
              "      <td>18</td>\n",
              "    </tr>\n",
              "    <tr>\n",
              "      <th>3</th>\n",
              "      <td>259350</td>\n",
              "      <td>2018-04-16</td>\n",
              "      <td>310</td>\n",
              "    </tr>\n",
              "    <tr>\n",
              "      <th>4</th>\n",
              "      <td>259392</td>\n",
              "      <td>2019-01-15</td>\n",
              "      <td>36</td>\n",
              "    </tr>\n",
              "  </tbody>\n",
              "</table>\n",
              "</div>"
            ],
            "text/plain": [
              "   UserId LatestOrderDate  Recency\n",
              "0  259287      2019-02-18        2\n",
              "1  259308      2018-06-17      248\n",
              "2  259329      2019-02-02       18\n",
              "3  259350      2018-04-16      310\n",
              "4  259392      2019-01-15       36"
            ]
          },
          "metadata": {},
          "execution_count": 218
        }
      ]
    },
    {
      "cell_type": "code",
      "metadata": {
        "colab": {
          "base_uri": "https://localhost:8080/",
          "height": 202
        },
        "id": "cQUBfFzvyvgV",
        "outputId": "b7507a05-dc85-445a-ffd5-910fdd8ddb50"
      },
      "source": [
        "rfmtable = pd.merge(rfmtable, lastestorder[['UserId', 'Recency']], on='UserId')\n",
        "rfmtable.head()"
      ],
      "execution_count": 219,
      "outputs": [
        {
          "output_type": "execute_result",
          "data": {
            "text/html": [
              "<div>\n",
              "<style scoped>\n",
              "    .dataframe tbody tr th:only-of-type {\n",
              "        vertical-align: middle;\n",
              "    }\n",
              "\n",
              "    .dataframe tbody tr th {\n",
              "        vertical-align: top;\n",
              "    }\n",
              "\n",
              "    .dataframe thead th {\n",
              "        text-align: right;\n",
              "    }\n",
              "</style>\n",
              "<table border=\"1\" class=\"dataframe\">\n",
              "  <thead>\n",
              "    <tr style=\"text-align: right;\">\n",
              "      <th></th>\n",
              "      <th>UserId</th>\n",
              "      <th>Recency</th>\n",
              "    </tr>\n",
              "  </thead>\n",
              "  <tbody>\n",
              "    <tr>\n",
              "      <th>0</th>\n",
              "      <td>337701</td>\n",
              "      <td>56</td>\n",
              "    </tr>\n",
              "    <tr>\n",
              "      <th>1</th>\n",
              "      <td>267099</td>\n",
              "      <td>5</td>\n",
              "    </tr>\n",
              "    <tr>\n",
              "      <th>2</th>\n",
              "      <td>380478</td>\n",
              "      <td>10</td>\n",
              "    </tr>\n",
              "    <tr>\n",
              "      <th>3</th>\n",
              "      <td>285957</td>\n",
              "      <td>40</td>\n",
              "    </tr>\n",
              "    <tr>\n",
              "      <th>4</th>\n",
              "      <td>345954</td>\n",
              "      <td>7</td>\n",
              "    </tr>\n",
              "  </tbody>\n",
              "</table>\n",
              "</div>"
            ],
            "text/plain": [
              "   UserId  Recency\n",
              "0  337701       56\n",
              "1  267099        5\n",
              "2  380478       10\n",
              "3  285957       40\n",
              "4  345954        7"
            ]
          },
          "metadata": {},
          "execution_count": 219
        }
      ]
    },
    {
      "cell_type": "code",
      "metadata": {
        "id": "znDvabXW7sxF",
        "colab": {
          "base_uri": "https://localhost:8080/",
          "height": 313
        },
        "outputId": "76965b29-c180-45fd-c214-64fd71994e65"
      },
      "source": [
        "\n",
        "sns.histplot(rfmtable['Recency'])\n",
        "plt.title('Recency Distribution Value', fontsize=15)"
      ],
      "execution_count": 220,
      "outputs": [
        {
          "output_type": "execute_result",
          "data": {
            "text/plain": [
              "Text(0.5, 1.0, 'Recency Distribution Value')"
            ]
          },
          "metadata": {},
          "execution_count": 220
        },
        {
          "output_type": "display_data",
          "data": {
            "image/png": "[encoded data removed]",
            "text/plain": [
              "<Figure size 432x288 with 1 Axes>"
            ]
          },
          "metadata": {
            "needs_background": "light"
          }
        }
      ]
    },
    {
      "cell_type": "markdown",
      "metadata": {
        "id": "BPlR_NM4FYmn"
      },
      "source": [
        "### **Frequency**"
      ]
    },
    {
      "cell_type": "code",
      "metadata": {
        "colab": {
          "base_uri": "https://localhost:8080/",
          "height": 202
        },
        "id": "TmJgMm9YFSMz",
        "outputId": "8f13ec0a-e2df-4d62-ac2b-231faec73f1c"
      },
      "source": [
        "#Frequency\n",
        "\n",
        "freq = df2.groupby('UserId').TransactionTime2.count().reset_index()\n",
        "freq.columns = ['UserId','Frequency']\n",
        "freq.head()"
      ],
      "execution_count": 221,
      "outputs": [
        {
          "output_type": "execute_result",
          "data": {
            "text/html": [
              "<div>\n",
              "<style scoped>\n",
              "    .dataframe tbody tr th:only-of-type {\n",
              "        vertical-align: middle;\n",
              "    }\n",
              "\n",
              "    .dataframe tbody tr th {\n",
              "        vertical-align: top;\n",
              "    }\n",
              "\n",
              "    .dataframe thead th {\n",
              "        text-align: right;\n",
              "    }\n",
              "</style>\n",
              "<table border=\"1\" class=\"dataframe\">\n",
              "  <thead>\n",
              "    <tr style=\"text-align: right;\">\n",
              "      <th></th>\n",
              "      <th>UserId</th>\n",
              "      <th>Frequency</th>\n",
              "    </tr>\n",
              "  </thead>\n",
              "  <tbody>\n",
              "    <tr>\n",
              "      <th>0</th>\n",
              "      <td>259287</td>\n",
              "      <td>332</td>\n",
              "    </tr>\n",
              "    <tr>\n",
              "      <th>1</th>\n",
              "      <td>259308</td>\n",
              "      <td>12</td>\n",
              "    </tr>\n",
              "    <tr>\n",
              "      <th>2</th>\n",
              "      <td>259329</td>\n",
              "      <td>116</td>\n",
              "    </tr>\n",
              "    <tr>\n",
              "      <th>3</th>\n",
              "      <td>259350</td>\n",
              "      <td>32</td>\n",
              "    </tr>\n",
              "    <tr>\n",
              "      <th>4</th>\n",
              "      <td>259392</td>\n",
              "      <td>146</td>\n",
              "    </tr>\n",
              "  </tbody>\n",
              "</table>\n",
              "</div>"
            ],
            "text/plain": [
              "   UserId  Frequency\n",
              "0  259287        332\n",
              "1  259308         12\n",
              "2  259329        116\n",
              "3  259350         32\n",
              "4  259392        146"
            ]
          },
          "metadata": {},
          "execution_count": 221
        }
      ]
    },
    {
      "cell_type": "code",
      "metadata": {
        "colab": {
          "base_uri": "https://localhost:8080/",
          "height": 202
        },
        "id": "vFQ1-fzoG14g",
        "outputId": "9cbdc465-3c5c-4ad2-cc21-15d9a38b54b4"
      },
      "source": [
        "rfmtable = pd.merge(rfmtable, freq, on='UserId')\n",
        "rfmtable.head()"
      ],
      "execution_count": 222,
      "outputs": [
        {
          "output_type": "execute_result",
          "data": {
            "text/html": [
              "<div>\n",
              "<style scoped>\n",
              "    .dataframe tbody tr th:only-of-type {\n",
              "        vertical-align: middle;\n",
              "    }\n",
              "\n",
              "    .dataframe tbody tr th {\n",
              "        vertical-align: top;\n",
              "    }\n",
              "\n",
              "    .dataframe thead th {\n",
              "        text-align: right;\n",
              "    }\n",
              "</style>\n",
              "<table border=\"1\" class=\"dataframe\">\n",
              "  <thead>\n",
              "    <tr style=\"text-align: right;\">\n",
              "      <th></th>\n",
              "      <th>UserId</th>\n",
              "      <th>Recency</th>\n",
              "      <th>Frequency</th>\n",
              "    </tr>\n",
              "  </thead>\n",
              "  <tbody>\n",
              "    <tr>\n",
              "      <th>0</th>\n",
              "      <td>337701</td>\n",
              "      <td>56</td>\n",
              "      <td>418</td>\n",
              "    </tr>\n",
              "    <tr>\n",
              "      <th>1</th>\n",
              "      <td>267099</td>\n",
              "      <td>5</td>\n",
              "      <td>74</td>\n",
              "    </tr>\n",
              "    <tr>\n",
              "      <th>2</th>\n",
              "      <td>380478</td>\n",
              "      <td>10</td>\n",
              "      <td>2430</td>\n",
              "    </tr>\n",
              "    <tr>\n",
              "      <th>3</th>\n",
              "      <td>285957</td>\n",
              "      <td>40</td>\n",
              "      <td>80</td>\n",
              "    </tr>\n",
              "    <tr>\n",
              "      <th>4</th>\n",
              "      <td>345954</td>\n",
              "      <td>7</td>\n",
              "      <td>712</td>\n",
              "    </tr>\n",
              "  </tbody>\n",
              "</table>\n",
              "</div>"
            ],
            "text/plain": [
              "   UserId  Recency  Frequency\n",
              "0  337701       56        418\n",
              "1  267099        5         74\n",
              "2  380478       10       2430\n",
              "3  285957       40         80\n",
              "4  345954        7        712"
            ]
          },
          "metadata": {},
          "execution_count": 222
        }
      ]
    },
    {
      "cell_type": "code",
      "metadata": {
        "colab": {
          "base_uri": "https://localhost:8080/",
          "height": 312
        },
        "id": "cuMuCuonHaSP",
        "outputId": "e0b4408b-0159-4c18-e0cf-01a5305e0ea7"
      },
      "source": [
        "sns.histplot(rfmtable['Frequency'])\n",
        "plt.title('Frequency Distribution Value')"
      ],
      "execution_count": 223,
      "outputs": [
        {
          "output_type": "execute_result",
          "data": {
            "text/plain": [
              "Text(0.5, 1.0, 'Frequency Distribution Value')"
            ]
          },
          "metadata": {},
          "execution_count": 223
        },
        {
          "output_type": "display_data",
          "data": {
            "image/png": "[encoded data removed]",
            "text/plain": [
              "<Figure size 432x288 with 1 Axes>"
            ]
          },
          "metadata": {
            "needs_background": "light"
          }
        }
      ]
    },
    {
      "cell_type": "markdown",
      "metadata": {
        "id": "2kjAVVSicPht"
      },
      "source": [
        "### **Monetary**"
      ]
    },
    {
      "cell_type": "code",
      "metadata": {
        "colab": {
          "base_uri": "https://localhost:8080/",
          "height": 202
        },
        "id": "roVzgagJcSsW",
        "outputId": "a461aed4-6bf4-4ad3-b00e-13668bbf7b33"
      },
      "source": [
        "monetary = df2.groupby('UserId').TotalSales.sum().reset_index()\n",
        "monetary.columns = ['UserId','Monetary']\n",
        "monetary.head()"
      ],
      "execution_count": 224,
      "outputs": [
        {
          "output_type": "execute_result",
          "data": {
            "text/html": [
              "<div>\n",
              "<style scoped>\n",
              "    .dataframe tbody tr th:only-of-type {\n",
              "        vertical-align: middle;\n",
              "    }\n",
              "\n",
              "    .dataframe tbody tr th {\n",
              "        vertical-align: top;\n",
              "    }\n",
              "\n",
              "    .dataframe thead th {\n",
              "        text-align: right;\n",
              "    }\n",
              "</style>\n",
              "<table border=\"1\" class=\"dataframe\">\n",
              "  <thead>\n",
              "    <tr style=\"text-align: right;\">\n",
              "      <th></th>\n",
              "      <th>UserId</th>\n",
              "      <th>Monetary</th>\n",
              "    </tr>\n",
              "  </thead>\n",
              "  <tbody>\n",
              "    <tr>\n",
              "      <th>0</th>\n",
              "      <td>259287</td>\n",
              "      <td>27499.92</td>\n",
              "    </tr>\n",
              "    <tr>\n",
              "      <th>1</th>\n",
              "      <td>259308</td>\n",
              "      <td>749.28</td>\n",
              "    </tr>\n",
              "    <tr>\n",
              "      <th>2</th>\n",
              "      <td>259329</td>\n",
              "      <td>8288.94</td>\n",
              "    </tr>\n",
              "    <tr>\n",
              "      <th>3</th>\n",
              "      <td>259350</td>\n",
              "      <td>2443.20</td>\n",
              "    </tr>\n",
              "    <tr>\n",
              "      <th>4</th>\n",
              "      <td>259392</td>\n",
              "      <td>8383.80</td>\n",
              "    </tr>\n",
              "  </tbody>\n",
              "</table>\n",
              "</div>"
            ],
            "text/plain": [
              "   UserId  Monetary\n",
              "0  259287  27499.92\n",
              "1  259308    749.28\n",
              "2  259329   8288.94\n",
              "3  259350   2443.20\n",
              "4  259392   8383.80"
            ]
          },
          "metadata": {},
          "execution_count": 224
        }
      ]
    },
    {
      "cell_type": "code",
      "metadata": {
        "colab": {
          "base_uri": "https://localhost:8080/",
          "height": 202
        },
        "id": "pGewuh6KdHs-",
        "outputId": "49382dbd-f80e-4d60-8b8a-109908f3017d"
      },
      "source": [
        "rfmtable = pd.merge(rfmtable, monetary, on='UserId')\n",
        "rfmtable.head()"
      ],
      "execution_count": 225,
      "outputs": [
        {
          "output_type": "execute_result",
          "data": {
            "text/html": [
              "<div>\n",
              "<style scoped>\n",
              "    .dataframe tbody tr th:only-of-type {\n",
              "        vertical-align: middle;\n",
              "    }\n",
              "\n",
              "    .dataframe tbody tr th {\n",
              "        vertical-align: top;\n",
              "    }\n",
              "\n",
              "    .dataframe thead th {\n",
              "        text-align: right;\n",
              "    }\n",
              "</style>\n",
              "<table border=\"1\" class=\"dataframe\">\n",
              "  <thead>\n",
              "    <tr style=\"text-align: right;\">\n",
              "      <th></th>\n",
              "      <th>UserId</th>\n",
              "      <th>Recency</th>\n",
              "      <th>Frequency</th>\n",
              "      <th>Monetary</th>\n",
              "    </tr>\n",
              "  </thead>\n",
              "  <tbody>\n",
              "    <tr>\n",
              "      <th>0</th>\n",
              "      <td>337701</td>\n",
              "      <td>56</td>\n",
              "      <td>418</td>\n",
              "      <td>19331.16</td>\n",
              "    </tr>\n",
              "    <tr>\n",
              "      <th>1</th>\n",
              "      <td>267099</td>\n",
              "      <td>5</td>\n",
              "      <td>74</td>\n",
              "      <td>3831.72</td>\n",
              "    </tr>\n",
              "    <tr>\n",
              "      <th>2</th>\n",
              "      <td>380478</td>\n",
              "      <td>10</td>\n",
              "      <td>2430</td>\n",
              "      <td>38764.14</td>\n",
              "    </tr>\n",
              "    <tr>\n",
              "      <th>3</th>\n",
              "      <td>285957</td>\n",
              "      <td>40</td>\n",
              "      <td>80</td>\n",
              "      <td>3683.58</td>\n",
              "    </tr>\n",
              "    <tr>\n",
              "      <th>4</th>\n",
              "      <td>345954</td>\n",
              "      <td>7</td>\n",
              "      <td>712</td>\n",
              "      <td>13958.88</td>\n",
              "    </tr>\n",
              "  </tbody>\n",
              "</table>\n",
              "</div>"
            ],
            "text/plain": [
              "   UserId  Recency  Frequency  Monetary\n",
              "0  337701       56        418  19331.16\n",
              "1  267099        5         74   3831.72\n",
              "2  380478       10       2430  38764.14\n",
              "3  285957       40         80   3683.58\n",
              "4  345954        7        712  13958.88"
            ]
          },
          "metadata": {},
          "execution_count": 225
        }
      ]
    },
    {
      "cell_type": "code",
      "metadata": {
        "colab": {
          "base_uri": "https://localhost:8080/",
          "height": 312
        },
        "id": "i9b46NBxdUBF",
        "outputId": "2ec6fe8f-b763-47f1-ba6d-df0ace060e18"
      },
      "source": [
        "sns.histplot(rfmtable['Monetary'])\n",
        "plt.title('Monetary Distribution Value')"
      ],
      "execution_count": 226,
      "outputs": [
        {
          "output_type": "execute_result",
          "data": {
            "text/plain": [
              "Text(0.5, 1.0, 'Monetary Distribution Value')"
            ]
          },
          "metadata": {},
          "execution_count": 226
        },
        {
          "output_type": "display_data",
          "data": {
            "image/png": "[encoded data removed]",
            "text/plain": [
              "<Figure size 432x288 with 1 Axes>"
            ]
          },
          "metadata": {
            "needs_background": "light"
          }
        }
      ]
    },
    {
      "cell_type": "markdown",
      "metadata": {
        "id": "PtmzwbmQZj4j"
      },
      "source": [
        "### **RFM SCORE**"
      ]
    },
    {
      "cell_type": "code",
      "metadata": {
        "colab": {
          "base_uri": "https://localhost:8080/",
          "height": 141
        },
        "id": "opXwVlpOhJ7l",
        "outputId": "803981aa-3a31-430f-de6d-ad0db24f641b"
      },
      "source": [
        "quartile = rfmtable.quantile(q=[0.25,0.5,0.75])\n",
        "quartile"
      ],
      "execution_count": 227,
      "outputs": [
        {
          "output_type": "execute_result",
          "data": {
            "text/html": [
              "<div>\n",
              "<style scoped>\n",
              "    .dataframe tbody tr th:only-of-type {\n",
              "        vertical-align: middle;\n",
              "    }\n",
              "\n",
              "    .dataframe tbody tr th {\n",
              "        vertical-align: top;\n",
              "    }\n",
              "\n",
              "    .dataframe thead th {\n",
              "        text-align: right;\n",
              "    }\n",
              "</style>\n",
              "<table border=\"1\" class=\"dataframe\">\n",
              "  <thead>\n",
              "    <tr style=\"text-align: right;\">\n",
              "      <th></th>\n",
              "      <th>UserId</th>\n",
              "      <th>Recency</th>\n",
              "      <th>Frequency</th>\n",
              "      <th>Monetary</th>\n",
              "    </tr>\n",
              "  </thead>\n",
              "  <tbody>\n",
              "    <tr>\n",
              "      <th>0.25</th>\n",
              "      <td>289994.25</td>\n",
              "      <td>17.0</td>\n",
              "      <td>30.0</td>\n",
              "      <td>1667.670</td>\n",
              "    </tr>\n",
              "    <tr>\n",
              "      <th>0.50</th>\n",
              "      <td>321058.50</td>\n",
              "      <td>50.0</td>\n",
              "      <td>72.0</td>\n",
              "      <td>3817.110</td>\n",
              "    </tr>\n",
              "    <tr>\n",
              "      <th>0.75</th>\n",
              "      <td>352222.50</td>\n",
              "      <td>143.0</td>\n",
              "      <td>178.0</td>\n",
              "      <td>9217.785</td>\n",
              "    </tr>\n",
              "  </tbody>\n",
              "</table>\n",
              "</div>"
            ],
            "text/plain": [
              "         UserId  Recency  Frequency  Monetary\n",
              "0.25  289994.25     17.0       30.0  1667.670\n",
              "0.50  321058.50     50.0       72.0  3817.110\n",
              "0.75  352222.50    143.0      178.0  9217.785"
            ]
          },
          "metadata": {},
          "execution_count": 227
        }
      ]
    },
    {
      "cell_type": "code",
      "metadata": {
        "id": "vvTyyR73h4uU"
      },
      "source": [
        "rfmsegmented = rfmtable.copy()"
      ],
      "execution_count": 228,
      "outputs": []
    },
    {
      "cell_type": "code",
      "metadata": {
        "colab": {
          "base_uri": "https://localhost:8080/",
          "height": 202
        },
        "id": "FHb_f4flj1JU",
        "outputId": "7333398a-fd9c-4c88-97b6-60597d2d1141"
      },
      "source": [
        "def scorerecency (data):\n",
        "    if data <= 17:\n",
        "        return 4\n",
        "    elif data <= 50:\n",
        "        return 3\n",
        "    elif data <= 143:\n",
        "        return 2\n",
        "    else:\n",
        "        return 1\n",
        "\n",
        "def scorefreq (data):\n",
        "    if data <= 30:\n",
        "        return 1\n",
        "    elif data <= 72:\n",
        "        return 2\n",
        "    elif data <= 178:\n",
        "        return 3\n",
        "    else:\n",
        "        return 4\n",
        "def monetaryscore (data):\n",
        "    if data <= 1667.670:\n",
        "        return 1\n",
        "    elif data <= 3817.110:\n",
        "        return 2\n",
        "    elif data <= 9217.785:\n",
        "        return 3\n",
        "    else:\n",
        "        return 4\n",
        "\n",
        "rfmsegmented['R'] = rfmsegmented['Recency'].apply(scorerecency )\n",
        "rfmsegmented['F'] = rfmsegmented['Frequency'].apply(scorefreq)\n",
        "rfmsegmented['M'] = rfmsegmented['Monetary'].apply(monetaryscore)\n",
        "rfmsegmented.head()"
      ],
      "execution_count": 229,
      "outputs": [
        {
          "output_type": "execute_result",
          "data": {
            "text/html": [
              "<div>\n",
              "<style scoped>\n",
              "    .dataframe tbody tr th:only-of-type {\n",
              "        vertical-align: middle;\n",
              "    }\n",
              "\n",
              "    .dataframe tbody tr th {\n",
              "        vertical-align: top;\n",
              "    }\n",
              "\n",
              "    .dataframe thead th {\n",
              "        text-align: right;\n",
              "    }\n",
              "</style>\n",
              "<table border=\"1\" class=\"dataframe\">\n",
              "  <thead>\n",
              "    <tr style=\"text-align: right;\">\n",
              "      <th></th>\n",
              "      <th>UserId</th>\n",
              "      <th>Recency</th>\n",
              "      <th>Frequency</th>\n",
              "      <th>Monetary</th>\n",
              "      <th>R</th>\n",
              "      <th>F</th>\n",
              "      <th>M</th>\n",
              "    </tr>\n",
              "  </thead>\n",
              "  <tbody>\n",
              "    <tr>\n",
              "      <th>0</th>\n",
              "      <td>337701</td>\n",
              "      <td>56</td>\n",
              "      <td>418</td>\n",
              "      <td>19331.16</td>\n",
              "      <td>2</td>\n",
              "      <td>4</td>\n",
              "      <td>4</td>\n",
              "    </tr>\n",
              "    <tr>\n",
              "      <th>1</th>\n",
              "      <td>267099</td>\n",
              "      <td>5</td>\n",
              "      <td>74</td>\n",
              "      <td>3831.72</td>\n",
              "      <td>4</td>\n",
              "      <td>3</td>\n",
              "      <td>3</td>\n",
              "    </tr>\n",
              "    <tr>\n",
              "      <th>2</th>\n",
              "      <td>380478</td>\n",
              "      <td>10</td>\n",
              "      <td>2430</td>\n",
              "      <td>38764.14</td>\n",
              "      <td>4</td>\n",
              "      <td>4</td>\n",
              "      <td>4</td>\n",
              "    </tr>\n",
              "    <tr>\n",
              "      <th>3</th>\n",
              "      <td>285957</td>\n",
              "      <td>40</td>\n",
              "      <td>80</td>\n",
              "      <td>3683.58</td>\n",
              "      <td>3</td>\n",
              "      <td>3</td>\n",
              "      <td>2</td>\n",
              "    </tr>\n",
              "    <tr>\n",
              "      <th>4</th>\n",
              "      <td>345954</td>\n",
              "      <td>7</td>\n",
              "      <td>712</td>\n",
              "      <td>13958.88</td>\n",
              "      <td>4</td>\n",
              "      <td>4</td>\n",
              "      <td>4</td>\n",
              "    </tr>\n",
              "  </tbody>\n",
              "</table>\n",
              "</div>"
            ],
            "text/plain": [
              "   UserId  Recency  Frequency  Monetary  R  F  M\n",
              "0  337701       56        418  19331.16  2  4  4\n",
              "1  267099        5         74   3831.72  4  3  3\n",
              "2  380478       10       2430  38764.14  4  4  4\n",
              "3  285957       40         80   3683.58  3  3  2\n",
              "4  345954        7        712  13958.88  4  4  4"
            ]
          },
          "metadata": {},
          "execution_count": 229
        }
      ]
    },
    {
      "cell_type": "markdown",
      "metadata": {
        "id": "eJW1Azv6m8Ld"
      },
      "source": [
        "*   Best Recency score = 4 (purchased very recently)\n",
        "*   Best Frequency score = 4 (highest quantity purchases)\n",
        "*   Best Monetary score = 4 (spent the most)\n",
        "\n",
        "\n"
      ]
    },
    {
      "cell_type": "markdown",
      "metadata": {
        "id": "tuT_zv6OnYct"
      },
      "source": [
        "### **TOTAL RFM SCORE**"
      ]
    },
    {
      "cell_type": "code",
      "metadata": {
        "colab": {
          "base_uri": "https://localhost:8080/",
          "height": 202
        },
        "id": "6JqTgijDnFWi",
        "outputId": "883a3617-3ddb-4816-832d-2c17fd217f87"
      },
      "source": [
        "rfmsegmented['RFMScore'] = rfmsegmented[['R','F','M']].sum(axis=1)\n",
        "rfmsegmented.head()"
      ],
      "execution_count": 230,
      "outputs": [
        {
          "output_type": "execute_result",
          "data": {
            "text/html": [
              "<div>\n",
              "<style scoped>\n",
              "    .dataframe tbody tr th:only-of-type {\n",
              "        vertical-align: middle;\n",
              "    }\n",
              "\n",
              "    .dataframe tbody tr th {\n",
              "        vertical-align: top;\n",
              "    }\n",
              "\n",
              "    .dataframe thead th {\n",
              "        text-align: right;\n",
              "    }\n",
              "</style>\n",
              "<table border=\"1\" class=\"dataframe\">\n",
              "  <thead>\n",
              "    <tr style=\"text-align: right;\">\n",
              "      <th></th>\n",
              "      <th>UserId</th>\n",
              "      <th>Recency</th>\n",
              "      <th>Frequency</th>\n",
              "      <th>Monetary</th>\n",
              "      <th>R</th>\n",
              "      <th>F</th>\n",
              "      <th>M</th>\n",
              "      <th>RFMScore</th>\n",
              "    </tr>\n",
              "  </thead>\n",
              "  <tbody>\n",
              "    <tr>\n",
              "      <th>0</th>\n",
              "      <td>337701</td>\n",
              "      <td>56</td>\n",
              "      <td>418</td>\n",
              "      <td>19331.16</td>\n",
              "      <td>2</td>\n",
              "      <td>4</td>\n",
              "      <td>4</td>\n",
              "      <td>10</td>\n",
              "    </tr>\n",
              "    <tr>\n",
              "      <th>1</th>\n",
              "      <td>267099</td>\n",
              "      <td>5</td>\n",
              "      <td>74</td>\n",
              "      <td>3831.72</td>\n",
              "      <td>4</td>\n",
              "      <td>3</td>\n",
              "      <td>3</td>\n",
              "      <td>10</td>\n",
              "    </tr>\n",
              "    <tr>\n",
              "      <th>2</th>\n",
              "      <td>380478</td>\n",
              "      <td>10</td>\n",
              "      <td>2430</td>\n",
              "      <td>38764.14</td>\n",
              "      <td>4</td>\n",
              "      <td>4</td>\n",
              "      <td>4</td>\n",
              "      <td>12</td>\n",
              "    </tr>\n",
              "    <tr>\n",
              "      <th>3</th>\n",
              "      <td>285957</td>\n",
              "      <td>40</td>\n",
              "      <td>80</td>\n",
              "      <td>3683.58</td>\n",
              "      <td>3</td>\n",
              "      <td>3</td>\n",
              "      <td>2</td>\n",
              "      <td>8</td>\n",
              "    </tr>\n",
              "    <tr>\n",
              "      <th>4</th>\n",
              "      <td>345954</td>\n",
              "      <td>7</td>\n",
              "      <td>712</td>\n",
              "      <td>13958.88</td>\n",
              "      <td>4</td>\n",
              "      <td>4</td>\n",
              "      <td>4</td>\n",
              "      <td>12</td>\n",
              "    </tr>\n",
              "  </tbody>\n",
              "</table>\n",
              "</div>"
            ],
            "text/plain": [
              "   UserId  Recency  Frequency  Monetary  R  F  M  RFMScore\n",
              "0  337701       56        418  19331.16  2  4  4        10\n",
              "1  267099        5         74   3831.72  4  3  3        10\n",
              "2  380478       10       2430  38764.14  4  4  4        12\n",
              "3  285957       40         80   3683.58  3  3  2         8\n",
              "4  345954        7        712  13958.88  4  4  4        12"
            ]
          },
          "metadata": {},
          "execution_count": 230
        }
      ]
    },
    {
      "cell_type": "code",
      "metadata": {
        "colab": {
          "base_uri": "https://localhost:8080/",
          "height": 202
        },
        "id": "svm4gLFEvO-a",
        "outputId": "ea8bfebd-38b8-4ed9-c0a7-63e9f73ffcb2"
      },
      "source": [
        "rfmsegmented['RFMSegment'] = rfmsegmented.R.map(str)+rfmsegmented.F.map(str)+rfmsegmented.M.map(str)\n",
        "rfmsegmented.head()"
      ],
      "execution_count": 231,
      "outputs": [
        {
          "output_type": "execute_result",
          "data": {
            "text/html": [
              "<div>\n",
              "<style scoped>\n",
              "    .dataframe tbody tr th:only-of-type {\n",
              "        vertical-align: middle;\n",
              "    }\n",
              "\n",
              "    .dataframe tbody tr th {\n",
              "        vertical-align: top;\n",
              "    }\n",
              "\n",
              "    .dataframe thead th {\n",
              "        text-align: right;\n",
              "    }\n",
              "</style>\n",
              "<table border=\"1\" class=\"dataframe\">\n",
              "  <thead>\n",
              "    <tr style=\"text-align: right;\">\n",
              "      <th></th>\n",
              "      <th>UserId</th>\n",
              "      <th>Recency</th>\n",
              "      <th>Frequency</th>\n",
              "      <th>Monetary</th>\n",
              "      <th>R</th>\n",
              "      <th>F</th>\n",
              "      <th>M</th>\n",
              "      <th>RFMScore</th>\n",
              "      <th>RFMSegment</th>\n",
              "    </tr>\n",
              "  </thead>\n",
              "  <tbody>\n",
              "    <tr>\n",
              "      <th>0</th>\n",
              "      <td>337701</td>\n",
              "      <td>56</td>\n",
              "      <td>418</td>\n",
              "      <td>19331.16</td>\n",
              "      <td>2</td>\n",
              "      <td>4</td>\n",
              "      <td>4</td>\n",
              "      <td>10</td>\n",
              "      <td>244</td>\n",
              "    </tr>\n",
              "    <tr>\n",
              "      <th>1</th>\n",
              "      <td>267099</td>\n",
              "      <td>5</td>\n",
              "      <td>74</td>\n",
              "      <td>3831.72</td>\n",
              "      <td>4</td>\n",
              "      <td>3</td>\n",
              "      <td>3</td>\n",
              "      <td>10</td>\n",
              "      <td>433</td>\n",
              "    </tr>\n",
              "    <tr>\n",
              "      <th>2</th>\n",
              "      <td>380478</td>\n",
              "      <td>10</td>\n",
              "      <td>2430</td>\n",
              "      <td>38764.14</td>\n",
              "      <td>4</td>\n",
              "      <td>4</td>\n",
              "      <td>4</td>\n",
              "      <td>12</td>\n",
              "      <td>444</td>\n",
              "    </tr>\n",
              "    <tr>\n",
              "      <th>3</th>\n",
              "      <td>285957</td>\n",
              "      <td>40</td>\n",
              "      <td>80</td>\n",
              "      <td>3683.58</td>\n",
              "      <td>3</td>\n",
              "      <td>3</td>\n",
              "      <td>2</td>\n",
              "      <td>8</td>\n",
              "      <td>332</td>\n",
              "    </tr>\n",
              "    <tr>\n",
              "      <th>4</th>\n",
              "      <td>345954</td>\n",
              "      <td>7</td>\n",
              "      <td>712</td>\n",
              "      <td>13958.88</td>\n",
              "      <td>4</td>\n",
              "      <td>4</td>\n",
              "      <td>4</td>\n",
              "      <td>12</td>\n",
              "      <td>444</td>\n",
              "    </tr>\n",
              "  </tbody>\n",
              "</table>\n",
              "</div>"
            ],
            "text/plain": [
              "   UserId  Recency  Frequency  Monetary  R  F  M  RFMScore RFMSegment\n",
              "0  337701       56        418  19331.16  2  4  4        10        244\n",
              "1  267099        5         74   3831.72  4  3  3        10        433\n",
              "2  380478       10       2430  38764.14  4  4  4        12        444\n",
              "3  285957       40         80   3683.58  3  3  2         8        332\n",
              "4  345954        7        712  13958.88  4  4  4        12        444"
            ]
          },
          "metadata": {},
          "execution_count": 231
        }
      ]
    },
    {
      "cell_type": "code",
      "metadata": {
        "colab": {
          "base_uri": "https://localhost:8080/"
        },
        "id": "JTon6lgrB3uJ",
        "outputId": "95f195ee-383f-4540-8d55-4fadbb63978a"
      },
      "source": [
        "rfmsegmented.info()"
      ],
      "execution_count": 232,
      "outputs": [
        {
          "output_type": "stream",
          "name": "stdout",
          "text": [
            "<class 'pandas.core.frame.DataFrame'>\n",
            "Int64Index: 4222 entries, 0 to 4221\n",
            "Data columns (total 9 columns):\n",
            " #   Column      Non-Null Count  Dtype  \n",
            "---  ------      --------------  -----  \n",
            " 0   UserId      4222 non-null   int64  \n",
            " 1   Recency     4222 non-null   int64  \n",
            " 2   Frequency   4222 non-null   int64  \n",
            " 3   Monetary    4222 non-null   float64\n",
            " 4   R           4222 non-null   int64  \n",
            " 5   F           4222 non-null   int64  \n",
            " 6   M           4222 non-null   int64  \n",
            " 7   RFMScore    4222 non-null   int64  \n",
            " 8   RFMSegment  4222 non-null   object \n",
            "dtypes: float64(1), int64(7), object(1)\n",
            "memory usage: 329.8+ KB\n"
          ]
        }
      ]
    },
    {
      "cell_type": "code",
      "metadata": {
        "id": "AApcuDwyO3Up"
      },
      "source": [
        "segt_map = {\n",
        "    r'[1-2][1-2]': 'Hibernating',\n",
        "    r'[1-2][2-3]': 'At risk',\n",
        "    r'[1-2]4': 'Can\\'t loose them',\n",
        "    r'2[1-2]': 'About to sleep',\n",
        "    r'22': 'Need attention',\n",
        "    r'[2-3][3-4]': 'Loyal customers',\n",
        "    r'31': 'Promising',\n",
        "    r'41': 'New customers',\n",
        "    r'[3-4][1-2]': 'Potential loyalists',\n",
        "    r'4[3-4]': 'Champions'\n",
        "}\n",
        "\n",
        "rfmsegmented['Segment'] = rfmsegmented['R'].map(str) + rfmsegmented['F'].map(str)\n",
        "rfmsegmented['Segment'] = rfmsegmented['Segment'].replace(segt_map, regex=True)"
      ],
      "execution_count": 233,
      "outputs": []
    },
    {
      "cell_type": "code",
      "metadata": {
        "colab": {
          "base_uri": "https://localhost:8080/",
          "height": 356
        },
        "id": "hbqqPbj0c-Bn",
        "outputId": "fa4020d4-45db-4e37-b971-a17af2c65160"
      },
      "source": [
        "rfmsegmented.head(10)"
      ],
      "execution_count": 234,
      "outputs": [
        {
          "output_type": "execute_result",
          "data": {
            "text/html": [
              "<div>\n",
              "<style scoped>\n",
              "    .dataframe tbody tr th:only-of-type {\n",
              "        vertical-align: middle;\n",
              "    }\n",
              "\n",
              "    .dataframe tbody tr th {\n",
              "        vertical-align: top;\n",
              "    }\n",
              "\n",
              "    .dataframe thead th {\n",
              "        text-align: right;\n",
              "    }\n",
              "</style>\n",
              "<table border=\"1\" class=\"dataframe\">\n",
              "  <thead>\n",
              "    <tr style=\"text-align: right;\">\n",
              "      <th></th>\n",
              "      <th>UserId</th>\n",
              "      <th>Recency</th>\n",
              "      <th>Frequency</th>\n",
              "      <th>Monetary</th>\n",
              "      <th>R</th>\n",
              "      <th>F</th>\n",
              "      <th>M</th>\n",
              "      <th>RFMScore</th>\n",
              "      <th>RFMSegment</th>\n",
              "      <th>Segment</th>\n",
              "    </tr>\n",
              "  </thead>\n",
              "  <tbody>\n",
              "    <tr>\n",
              "      <th>0</th>\n",
              "      <td>337701</td>\n",
              "      <td>56</td>\n",
              "      <td>418</td>\n",
              "      <td>19331.16</td>\n",
              "      <td>2</td>\n",
              "      <td>4</td>\n",
              "      <td>4</td>\n",
              "      <td>10</td>\n",
              "      <td>244</td>\n",
              "      <td>Can't loose them</td>\n",
              "    </tr>\n",
              "    <tr>\n",
              "      <th>1</th>\n",
              "      <td>267099</td>\n",
              "      <td>5</td>\n",
              "      <td>74</td>\n",
              "      <td>3831.72</td>\n",
              "      <td>4</td>\n",
              "      <td>3</td>\n",
              "      <td>3</td>\n",
              "      <td>10</td>\n",
              "      <td>433</td>\n",
              "      <td>Champions</td>\n",
              "    </tr>\n",
              "    <tr>\n",
              "      <th>2</th>\n",
              "      <td>380478</td>\n",
              "      <td>10</td>\n",
              "      <td>2430</td>\n",
              "      <td>38764.14</td>\n",
              "      <td>4</td>\n",
              "      <td>4</td>\n",
              "      <td>4</td>\n",
              "      <td>12</td>\n",
              "      <td>444</td>\n",
              "      <td>Champions</td>\n",
              "    </tr>\n",
              "    <tr>\n",
              "      <th>3</th>\n",
              "      <td>285957</td>\n",
              "      <td>40</td>\n",
              "      <td>80</td>\n",
              "      <td>3683.58</td>\n",
              "      <td>3</td>\n",
              "      <td>3</td>\n",
              "      <td>2</td>\n",
              "      <td>8</td>\n",
              "      <td>332</td>\n",
              "      <td>Loyal customers</td>\n",
              "    </tr>\n",
              "    <tr>\n",
              "      <th>4</th>\n",
              "      <td>345954</td>\n",
              "      <td>7</td>\n",
              "      <td>712</td>\n",
              "      <td>13958.88</td>\n",
              "      <td>4</td>\n",
              "      <td>4</td>\n",
              "      <td>4</td>\n",
              "      <td>12</td>\n",
              "      <td>444</td>\n",
              "      <td>Champions</td>\n",
              "    </tr>\n",
              "    <tr>\n",
              "      <th>5</th>\n",
              "      <td>339822</td>\n",
              "      <td>72</td>\n",
              "      <td>8</td>\n",
              "      <td>603.84</td>\n",
              "      <td>2</td>\n",
              "      <td>1</td>\n",
              "      <td>1</td>\n",
              "      <td>4</td>\n",
              "      <td>211</td>\n",
              "      <td>Hibernating</td>\n",
              "    </tr>\n",
              "    <tr>\n",
              "      <th>6</th>\n",
              "      <td>328440</td>\n",
              "      <td>4</td>\n",
              "      <td>834</td>\n",
              "      <td>66400.50</td>\n",
              "      <td>4</td>\n",
              "      <td>4</td>\n",
              "      <td>4</td>\n",
              "      <td>12</td>\n",
              "      <td>444</td>\n",
              "      <td>Champions</td>\n",
              "    </tr>\n",
              "    <tr>\n",
              "      <th>7</th>\n",
              "      <td>316848</td>\n",
              "      <td>21</td>\n",
              "      <td>94</td>\n",
              "      <td>6813.30</td>\n",
              "      <td>3</td>\n",
              "      <td>3</td>\n",
              "      <td>3</td>\n",
              "      <td>9</td>\n",
              "      <td>333</td>\n",
              "      <td>Loyal customers</td>\n",
              "    </tr>\n",
              "    <tr>\n",
              "      <th>8</th>\n",
              "      <td>372897</td>\n",
              "      <td>1</td>\n",
              "      <td>1356</td>\n",
              "      <td>35633.28</td>\n",
              "      <td>4</td>\n",
              "      <td>4</td>\n",
              "      <td>4</td>\n",
              "      <td>12</td>\n",
              "      <td>444</td>\n",
              "      <td>Champions</td>\n",
              "    </tr>\n",
              "    <tr>\n",
              "      <th>9</th>\n",
              "      <td>364791</td>\n",
              "      <td>17</td>\n",
              "      <td>152</td>\n",
              "      <td>1746.84</td>\n",
              "      <td>4</td>\n",
              "      <td>3</td>\n",
              "      <td>2</td>\n",
              "      <td>9</td>\n",
              "      <td>432</td>\n",
              "      <td>Champions</td>\n",
              "    </tr>\n",
              "  </tbody>\n",
              "</table>\n",
              "</div>"
            ],
            "text/plain": [
              "   UserId  Recency  Frequency  ...  RFMScore  RFMSegment           Segment\n",
              "0  337701       56        418  ...        10         244  Can't loose them\n",
              "1  267099        5         74  ...        10         433         Champions\n",
              "2  380478       10       2430  ...        12         444         Champions\n",
              "3  285957       40         80  ...         8         332   Loyal customers\n",
              "4  345954        7        712  ...        12         444         Champions\n",
              "5  339822       72          8  ...         4         211       Hibernating\n",
              "6  328440        4        834  ...        12         444         Champions\n",
              "7  316848       21         94  ...         9         333   Loyal customers\n",
              "8  372897        1       1356  ...        12         444         Champions\n",
              "9  364791       17        152  ...         9         432         Champions\n",
              "\n",
              "[10 rows x 10 columns]"
            ]
          },
          "metadata": {},
          "execution_count": 234
        }
      ]
    },
    {
      "cell_type": "code",
      "metadata": {
        "colab": {
          "base_uri": "https://localhost:8080/",
          "height": 295
        },
        "id": "7Gi4zb6dwFVv",
        "outputId": "8fc5b90d-16c8-46da-9218-6597da2731b1"
      },
      "source": [
        "segmentation = rfmsegmented.groupby('Segment')[['RFMSegment']].count().sort_values('RFMSegment', ascending=False)\n",
        "segmentation.reset_index(inplace=True)\n",
        "segmentation"
      ],
      "execution_count": 236,
      "outputs": [
        {
          "output_type": "execute_result",
          "data": {
            "text/html": [
              "<div>\n",
              "<style scoped>\n",
              "    .dataframe tbody tr th:only-of-type {\n",
              "        vertical-align: middle;\n",
              "    }\n",
              "\n",
              "    .dataframe tbody tr th {\n",
              "        vertical-align: top;\n",
              "    }\n",
              "\n",
              "    .dataframe thead th {\n",
              "        text-align: right;\n",
              "    }\n",
              "</style>\n",
              "<table border=\"1\" class=\"dataframe\">\n",
              "  <thead>\n",
              "    <tr style=\"text-align: right;\">\n",
              "      <th></th>\n",
              "      <th>Segment</th>\n",
              "      <th>RFMSegment</th>\n",
              "    </tr>\n",
              "  </thead>\n",
              "  <tbody>\n",
              "    <tr>\n",
              "      <th>0</th>\n",
              "      <td>Hibernating</td>\n",
              "      <td>1435</td>\n",
              "    </tr>\n",
              "    <tr>\n",
              "      <th>1</th>\n",
              "      <td>Champions</td>\n",
              "      <td>841</td>\n",
              "    </tr>\n",
              "    <tr>\n",
              "      <th>2</th>\n",
              "      <td>Loyal customers</td>\n",
              "      <td>612</td>\n",
              "    </tr>\n",
              "    <tr>\n",
              "      <th>3</th>\n",
              "      <td>At risk</td>\n",
              "      <td>435</td>\n",
              "    </tr>\n",
              "    <tr>\n",
              "      <th>4</th>\n",
              "      <td>Potential loyalists</td>\n",
              "      <td>386</td>\n",
              "    </tr>\n",
              "    <tr>\n",
              "      <th>5</th>\n",
              "      <td>Can't loose them</td>\n",
              "      <td>206</td>\n",
              "    </tr>\n",
              "    <tr>\n",
              "      <th>6</th>\n",
              "      <td>Promising</td>\n",
              "      <td>186</td>\n",
              "    </tr>\n",
              "    <tr>\n",
              "      <th>7</th>\n",
              "      <td>New customers</td>\n",
              "      <td>121</td>\n",
              "    </tr>\n",
              "  </tbody>\n",
              "</table>\n",
              "</div>"
            ],
            "text/plain": [
              "               Segment  RFMSegment\n",
              "0          Hibernating        1435\n",
              "1            Champions         841\n",
              "2      Loyal customers         612\n",
              "3              At risk         435\n",
              "4  Potential loyalists         386\n",
              "5     Can't loose them         206\n",
              "6            Promising         186\n",
              "7        New customers         121"
            ]
          },
          "metadata": {},
          "execution_count": 236
        }
      ]
    },
    {
      "cell_type": "code",
      "metadata": {
        "colab": {
          "base_uri": "https://localhost:8080/",
          "height": 542
        },
        "id": "8eEl1owitSF0",
        "outputId": "32a543ca-fb1a-41a1-bb6d-4526eed22ec8"
      },
      "source": [
        "fig = px.pie(segmentation,'Segment','RFMSegment', title=\"Customer Segmentation Distribution\")\n",
        "fig.update_traces(textposition='inside', textinfo='percent+label')"
      ],
      "execution_count": 238,
      "outputs": [
        {
          "output_type": "display_data",
          "data": {
            "text/html": [
              "<html>\n",
              "<head><meta charset=\"utf-8\" /></head>\n",
              "<body>\n",
              "    <div>\n",
              "            <script src=\"https://cdnjs.cloudflare.com/ajax/libs/mathjax/2.7.5/MathJax.js?config=TeX-AMS-MML_SVG\"></script><script type=\"text/javascript\">if (window.MathJax) {MathJax.Hub.Config({SVG: {font: \"STIX-Web\"}});}</script>\n",
              "                <script type=\"text/javascript\">window.PlotlyConfig = {MathJaxConfig: 'local'};</script>\n",
              "        <script src=\"https://cdn.plot.ly/plotly-latest.min.js\"></script>    \n",
              "            <div id=\"91e3351d-941e-4b69-916c-e9c8d177d3b6\" class=\"plotly-graph-div\" style=\"height:525px; width:100%;\"></div>\n",
              "            <script type=\"text/javascript\">\n",
              "                \n",
              "                    window.PLOTLYENV=window.PLOTLYENV || {};\n",
              "                    \n",
              "                if (document.getElementById(\"91e3351d-941e-4b69-916c-e9c8d177d3b6\")) {\n",
              "                    Plotly.newPlot(\n",
              "                        '91e3351d-941e-4b69-916c-e9c8d177d3b6',\n",
              "                        [{\"domain\": {\"x\": [0.0, 1.0], \"y\": [0.0, 1.0]}, \"hoverlabel\": {\"namelength\": 0}, \"hovertemplate\": \"Segment=%{label}<br>RFMSegment=%{value}\", \"labels\": [\"Hibernating\", \"Champions\", \"Loyal customers\", \"At risk\", \"Potential loyalists\", \"Can't loose them\", \"Promising\", \"New customers\"], \"legendgroup\": \"\", \"name\": \"\", \"showlegend\": true, \"textinfo\": \"percent+label\", \"textposition\": \"inside\", \"type\": \"pie\", \"values\": [1435, 841, 612, 435, 386, 206, 186, 121]}],\n",
              "                        {\"legend\": {\"tracegroupgap\": 0}, \"template\": {\"data\": {\"bar\": [{\"error_x\": {\"color\": \"#2a3f5f\"}, \"error_y\": {\"color\": \"#2a3f5f\"}, \"marker\": {\"line\": {\"color\": \"#E5ECF6\", \"width\": 0.5}}, \"type\": \"bar\"}], \"barpolar\": [{\"marker\": {\"line\": {\"color\": \"#E5ECF6\", \"width\": 0.5}}, \"type\": \"barpolar\"}], \"carpet\": [{\"aaxis\": {\"endlinecolor\": \"#2a3f5f\", \"gridcolor\": \"white\", \"linecolor\": \"white\", \"minorgridcolor\": \"white\", \"startlinecolor\": \"#2a3f5f\"}, \"baxis\": {\"endlinecolor\": \"#2a3f5f\", \"gridcolor\": \"white\", \"linecolor\": \"white\", \"minorgridcolor\": \"white\", \"startlinecolor\": \"#2a3f5f\"}, \"type\": \"carpet\"}], \"choropleth\": [{\"colorbar\": {\"outlinewidth\": 0, \"ticks\": \"\"}, \"type\": \"choropleth\"}], \"contour\": [{\"colorbar\": {\"outlinewidth\": 0, \"ticks\": \"\"}, \"colorscale\": [[0.0, \"#0d0887\"], [0.1111111111111111, \"#46039f\"], [0.2222222222222222, \"#7201a8\"], [0.3333333333333333, \"#9c179e\"], [0.4444444444444444, \"#bd3786\"], [0.5555555555555556, \"#d8576b\"], [0.6666666666666666, \"#ed7953\"], [0.7777777777777778, \"#fb9f3a\"], [0.8888888888888888, \"#fdca26\"], [1.0, \"#f0f921\"]], \"type\": \"contour\"}], \"contourcarpet\": [{\"colorbar\": {\"outlinewidth\": 0, \"ticks\": \"\"}, \"type\": \"contourcarpet\"}], \"heatmap\": [{\"colorbar\": {\"outlinewidth\": 0, \"ticks\": \"\"}, \"colorscale\": [[0.0, \"#0d0887\"], [0.1111111111111111, \"#46039f\"], [0.2222222222222222, \"#7201a8\"], [0.3333333333333333, \"#9c179e\"], [0.4444444444444444, \"#bd3786\"], [0.5555555555555556, \"#d8576b\"], [0.6666666666666666, \"#ed7953\"], [0.7777777777777778, \"#fb9f3a\"], [0.8888888888888888, \"#fdca26\"], [1.0, \"#f0f921\"]], \"type\": \"heatmap\"}], \"heatmapgl\": [{\"colorbar\": {\"outlinewidth\": 0, \"ticks\": \"\"}, \"colorscale\": [[0.0, \"#0d0887\"], [0.1111111111111111, \"#46039f\"], [0.2222222222222222, \"#7201a8\"], [0.3333333333333333, \"#9c179e\"], [0.4444444444444444, \"#bd3786\"], [0.5555555555555556, \"#d8576b\"], [0.6666666666666666, \"#ed7953\"], [0.7777777777777778, \"#fb9f3a\"], [0.8888888888888888, \"#fdca26\"], [1.0, \"#f0f921\"]], \"type\": \"heatmapgl\"}], \"histogram\": [{\"marker\": {\"colorbar\": {\"outlinewidth\": 0, \"ticks\": \"\"}}, \"type\": \"histogram\"}], \"histogram2d\": [{\"colorbar\": {\"outlinewidth\": 0, \"ticks\": \"\"}, \"colorscale\": [[0.0, \"#0d0887\"], [0.1111111111111111, \"#46039f\"], [0.2222222222222222, \"#7201a8\"], [0.3333333333333333, \"#9c179e\"], [0.4444444444444444, \"#bd3786\"], [0.5555555555555556, \"#d8576b\"], [0.6666666666666666, \"#ed7953\"], [0.7777777777777778, \"#fb9f3a\"], [0.8888888888888888, \"#fdca26\"], [1.0, \"#f0f921\"]], \"type\": \"histogram2d\"}], \"histogram2dcontour\": [{\"colorbar\": {\"outlinewidth\": 0, \"ticks\": \"\"}, \"colorscale\": [[0.0, \"#0d0887\"], [0.1111111111111111, \"#46039f\"], [0.2222222222222222, \"#7201a8\"], [0.3333333333333333, \"#9c179e\"], [0.4444444444444444, \"#bd3786\"], [0.5555555555555556, \"#d8576b\"], [0.6666666666666666, \"#ed7953\"], [0.7777777777777778, \"#fb9f3a\"], [0.8888888888888888, \"#fdca26\"], [1.0, \"#f0f921\"]], \"type\": \"histogram2dcontour\"}], \"mesh3d\": [{\"colorbar\": {\"outlinewidth\": 0, \"ticks\": \"\"}, \"type\": \"mesh3d\"}], \"parcoords\": [{\"line\": {\"colorbar\": {\"outlinewidth\": 0, \"ticks\": \"\"}}, \"type\": \"parcoords\"}], \"pie\": [{\"automargin\": true, \"type\": \"pie\"}], \"scatter\": [{\"marker\": {\"colorbar\": {\"outlinewidth\": 0, \"ticks\": \"\"}}, \"type\": \"scatter\"}], \"scatter3d\": [{\"line\": {\"colorbar\": {\"outlinewidth\": 0, \"ticks\": \"\"}}, \"marker\": {\"colorbar\": {\"outlinewidth\": 0, \"ticks\": \"\"}}, \"type\": \"scatter3d\"}], \"scattercarpet\": [{\"marker\": {\"colorbar\": {\"outlinewidth\": 0, \"ticks\": \"\"}}, \"type\": \"scattercarpet\"}], \"scattergeo\": [{\"marker\": {\"colorbar\": {\"outlinewidth\": 0, \"ticks\": \"\"}}, \"type\": \"scattergeo\"}], \"scattergl\": [{\"marker\": {\"colorbar\": {\"outlinewidth\": 0, \"ticks\": \"\"}}, \"type\": \"scattergl\"}], \"scattermapbox\": [{\"marker\": {\"colorbar\": {\"outlinewidth\": 0, \"ticks\": \"\"}}, \"type\": \"scattermapbox\"}], \"scatterpolar\": [{\"marker\": {\"colorbar\": {\"outlinewidth\": 0, \"ticks\": \"\"}}, \"type\": \"scatterpolar\"}], \"scatterpolargl\": [{\"marker\": {\"colorbar\": {\"outlinewidth\": 0, \"ticks\": \"\"}}, \"type\": \"scatterpolargl\"}], \"scatterternary\": [{\"marker\": {\"colorbar\": {\"outlinewidth\": 0, \"ticks\": \"\"}}, \"type\": \"scatterternary\"}], \"surface\": [{\"colorbar\": {\"outlinewidth\": 0, \"ticks\": \"\"}, \"colorscale\": [[0.0, \"#0d0887\"], [0.1111111111111111, \"#46039f\"], [0.2222222222222222, \"#7201a8\"], [0.3333333333333333, \"#9c179e\"], [0.4444444444444444, \"#bd3786\"], [0.5555555555555556, \"#d8576b\"], [0.6666666666666666, \"#ed7953\"], [0.7777777777777778, \"#fb9f3a\"], [0.8888888888888888, \"#fdca26\"], [1.0, \"#f0f921\"]], \"type\": \"surface\"}], \"table\": [{\"cells\": {\"fill\": {\"color\": \"#EBF0F8\"}, \"line\": {\"color\": \"white\"}}, \"header\": {\"fill\": {\"color\": \"#C8D4E3\"}, \"line\": {\"color\": \"white\"}}, \"type\": \"table\"}]}, \"layout\": {\"annotationdefaults\": {\"arrowcolor\": \"#2a3f5f\", \"arrowhead\": 0, \"arrowwidth\": 1}, \"coloraxis\": {\"colorbar\": {\"outlinewidth\": 0, \"ticks\": \"\"}}, \"colorscale\": {\"diverging\": [[0, \"#8e0152\"], [0.1, \"#c51b7d\"], [0.2, \"#de77ae\"], [0.3, \"#f1b6da\"], [0.4, \"#fde0ef\"], [0.5, \"#f7f7f7\"], [0.6, \"#e6f5d0\"], [0.7, \"#b8e186\"], [0.8, \"#7fbc41\"], [0.9, \"#4d9221\"], [1, \"#276419\"]], \"sequential\": [[0.0, \"#0d0887\"], [0.1111111111111111, \"#46039f\"], [0.2222222222222222, \"#7201a8\"], [0.3333333333333333, \"#9c179e\"], [0.4444444444444444, \"#bd3786\"], [0.5555555555555556, \"#d8576b\"], [0.6666666666666666, \"#ed7953\"], [0.7777777777777778, \"#fb9f3a\"], [0.8888888888888888, \"#fdca26\"], [1.0, \"#f0f921\"]], \"sequentialminus\": [[0.0, \"#0d0887\"], [0.1111111111111111, \"#46039f\"], [0.2222222222222222, \"#7201a8\"], [0.3333333333333333, \"#9c179e\"], [0.4444444444444444, \"#bd3786\"], [0.5555555555555556, \"#d8576b\"], [0.6666666666666666, \"#ed7953\"], [0.7777777777777778, \"#fb9f3a\"], [0.8888888888888888, \"#fdca26\"], [1.0, \"#f0f921\"]]}, \"colorway\": [\"#636efa\", \"#EF553B\", \"#00cc96\", \"#ab63fa\", \"#FFA15A\", \"#19d3f3\", \"#FF6692\", \"#B6E880\", \"#FF97FF\", \"#FECB52\"], \"font\": {\"color\": \"#2a3f5f\"}, \"geo\": {\"bgcolor\": \"white\", \"lakecolor\": \"white\", \"landcolor\": \"#E5ECF6\", \"showlakes\": true, \"showland\": true, \"subunitcolor\": \"white\"}, \"hoverlabel\": {\"align\": \"left\"}, \"hovermode\": \"closest\", \"mapbox\": {\"style\": \"light\"}, \"paper_bgcolor\": \"white\", \"plot_bgcolor\": \"#E5ECF6\", \"polar\": {\"angularaxis\": {\"gridcolor\": \"white\", \"linecolor\": \"white\", \"ticks\": \"\"}, \"bgcolor\": \"#E5ECF6\", \"radialaxis\": {\"gridcolor\": \"white\", \"linecolor\": \"white\", \"ticks\": \"\"}}, \"scene\": {\"xaxis\": {\"backgroundcolor\": \"#E5ECF6\", \"gridcolor\": \"white\", \"gridwidth\": 2, \"linecolor\": \"white\", \"showbackground\": true, \"ticks\": \"\", \"zerolinecolor\": \"white\"}, \"yaxis\": {\"backgroundcolor\": \"#E5ECF6\", \"gridcolor\": \"white\", \"gridwidth\": 2, \"linecolor\": \"white\", \"showbackground\": true, \"ticks\": \"\", \"zerolinecolor\": \"white\"}, \"zaxis\": {\"backgroundcolor\": \"#E5ECF6\", \"gridcolor\": \"white\", \"gridwidth\": 2, \"linecolor\": \"white\", \"showbackground\": true, \"ticks\": \"\", \"zerolinecolor\": \"white\"}}, \"shapedefaults\": {\"line\": {\"color\": \"#2a3f5f\"}}, \"ternary\": {\"aaxis\": {\"gridcolor\": \"white\", \"linecolor\": \"white\", \"ticks\": \"\"}, \"baxis\": {\"gridcolor\": \"white\", \"linecolor\": \"white\", \"ticks\": \"\"}, \"bgcolor\": \"#E5ECF6\", \"caxis\": {\"gridcolor\": \"white\", \"linecolor\": \"white\", \"ticks\": \"\"}}, \"title\": {\"x\": 0.05}, \"xaxis\": {\"automargin\": true, \"gridcolor\": \"white\", \"linecolor\": \"white\", \"ticks\": \"\", \"title\": {\"standoff\": 15}, \"zerolinecolor\": \"white\", \"zerolinewidth\": 2}, \"yaxis\": {\"automargin\": true, \"gridcolor\": \"white\", \"linecolor\": \"white\", \"ticks\": \"\", \"title\": {\"standoff\": 15}, \"zerolinecolor\": \"white\", \"zerolinewidth\": 2}}}, \"title\": {\"text\": \"Customer Segmentation Distribution\"}},\n",
              "                        {\"responsive\": true}\n",
              "                    ).then(function(){\n",
              "                            \n",
              "var gd = document.getElementById('91e3351d-941e-4b69-916c-e9c8d177d3b6');\n",
              "var x = new MutationObserver(function (mutations, observer) {{\n",
              "        var display = window.getComputedStyle(gd).display;\n",
              "        if (!display || display === 'none') {{\n",
              "            console.log([gd, 'removed!']);\n",
              "            Plotly.purge(gd);\n",
              "            observer.disconnect();\n",
              "        }}\n",
              "}});\n",
              "\n",
              "// Listen for the removal of the full notebook cells\n",
              "var notebookContainer = gd.closest('#notebook-container');\n",
              "if (notebookContainer) {{\n",
              "    x.observe(notebookContainer, {childList: true});\n",
              "}}\n",
              "\n",
              "// Listen for the clearing of the current output cell\n",
              "var outputEl = gd.closest('.output');\n",
              "if (outputEl) {{\n",
              "    x.observe(outputEl, {childList: true});\n",
              "}}\n",
              "\n",
              "                        })\n",
              "                };\n",
              "                \n",
              "            </script>\n",
              "        </div>\n",
              "</body>\n",
              "</html>"
            ]
          },
          "metadata": {}
        }
      ]
    },
    {
      "cell_type": "code",
      "metadata": {
        "colab": {
          "base_uri": "https://localhost:8080/",
          "height": 356
        },
        "id": "Er_127bA0oXr",
        "outputId": "8e9a92dc-818f-4d42-ddf3-eb16c8325310"
      },
      "source": [
        "# Calculate average values for each RFM segment, and return a size of each segment \n",
        "MetricAnalysis = rfmsegmented.groupby('Segment').agg({\n",
        "    'Recency': 'mean',\n",
        "    'Frequency': 'mean',\n",
        "    'Monetary': ['mean', 'count'],\n",
        "}).round(1)\n",
        "# Print the aggregated dataset\n",
        "MetricAnalysis"
      ],
      "execution_count": 239,
      "outputs": [
        {
          "output_type": "execute_result",
          "data": {
            "text/html": [
              "<div>\n",
              "<style scoped>\n",
              "    .dataframe tbody tr th:only-of-type {\n",
              "        vertical-align: middle;\n",
              "    }\n",
              "\n",
              "    .dataframe tbody tr th {\n",
              "        vertical-align: top;\n",
              "    }\n",
              "\n",
              "    .dataframe thead tr th {\n",
              "        text-align: left;\n",
              "    }\n",
              "\n",
              "    .dataframe thead tr:last-of-type th {\n",
              "        text-align: right;\n",
              "    }\n",
              "</style>\n",
              "<table border=\"1\" class=\"dataframe\">\n",
              "  <thead>\n",
              "    <tr>\n",
              "      <th></th>\n",
              "      <th>Recency</th>\n",
              "      <th>Frequency</th>\n",
              "      <th colspan=\"2\" halign=\"left\">Monetary</th>\n",
              "    </tr>\n",
              "    <tr>\n",
              "      <th></th>\n",
              "      <th>mean</th>\n",
              "      <th>mean</th>\n",
              "      <th>mean</th>\n",
              "      <th>count</th>\n",
              "    </tr>\n",
              "    <tr>\n",
              "      <th>Segment</th>\n",
              "      <th></th>\n",
              "      <th></th>\n",
              "      <th></th>\n",
              "      <th></th>\n",
              "    </tr>\n",
              "  </thead>\n",
              "  <tbody>\n",
              "    <tr>\n",
              "      <th>At risk</th>\n",
              "      <td>138.7</td>\n",
              "      <td>112.4</td>\n",
              "      <td>5761.9</td>\n",
              "      <td>435</td>\n",
              "    </tr>\n",
              "    <tr>\n",
              "      <th>Can't loose them</th>\n",
              "      <td>109.0</td>\n",
              "      <td>287.0</td>\n",
              "      <td>12959.8</td>\n",
              "      <td>206</td>\n",
              "    </tr>\n",
              "    <tr>\n",
              "      <th>Champions</th>\n",
              "      <td>7.2</td>\n",
              "      <td>426.5</td>\n",
              "      <td>21545.5</td>\n",
              "      <td>841</td>\n",
              "    </tr>\n",
              "    <tr>\n",
              "      <th>Hibernating</th>\n",
              "      <td>183.5</td>\n",
              "      <td>29.9</td>\n",
              "      <td>2042.4</td>\n",
              "      <td>1435</td>\n",
              "    </tr>\n",
              "    <tr>\n",
              "      <th>Loyal customers</th>\n",
              "      <td>30.5</td>\n",
              "      <td>251.5</td>\n",
              "      <td>12007.2</td>\n",
              "      <td>612</td>\n",
              "    </tr>\n",
              "    <tr>\n",
              "      <th>New customers</th>\n",
              "      <td>8.7</td>\n",
              "      <td>17.4</td>\n",
              "      <td>1549.0</td>\n",
              "      <td>121</td>\n",
              "    </tr>\n",
              "    <tr>\n",
              "      <th>Potential loyalists</th>\n",
              "      <td>23.2</td>\n",
              "      <td>51.8</td>\n",
              "      <td>3613.5</td>\n",
              "      <td>386</td>\n",
              "    </tr>\n",
              "    <tr>\n",
              "      <th>Promising</th>\n",
              "      <td>33.2</td>\n",
              "      <td>16.8</td>\n",
              "      <td>1462.6</td>\n",
              "      <td>186</td>\n",
              "    </tr>\n",
              "  </tbody>\n",
              "</table>\n",
              "</div>"
            ],
            "text/plain": [
              "                    Recency Frequency Monetary      \n",
              "                       mean      mean     mean count\n",
              "Segment                                             \n",
              "At risk               138.7     112.4   5761.9   435\n",
              "Can't loose them      109.0     287.0  12959.8   206\n",
              "Champions               7.2     426.5  21545.5   841\n",
              "Hibernating           183.5      29.9   2042.4  1435\n",
              "Loyal customers        30.5     251.5  12007.2   612\n",
              "New customers           8.7      17.4   1549.0   121\n",
              "Potential loyalists    23.2      51.8   3613.5   386\n",
              "Promising              33.2      16.8   1462.6   186"
            ]
          },
          "metadata": {},
          "execution_count": 239
        }
      ]
    },
    {
      "cell_type": "code",
      "metadata": {
        "id": "tN6Tt15X1Rs6"
      },
      "source": [
        "rfmsegmented2 = rfmsegmented"
      ],
      "execution_count": 240,
      "outputs": []
    },
    {
      "cell_type": "markdown",
      "metadata": {
        "id": "leCEHHos0QWS"
      },
      "source": [
        "# **Calculate CLTV  formula:**\n",
        "*   CLV = ((Average Order Value x Purchase Frequency)/Churn Rate) x Profit margin.\n",
        "*   CLTV = Average Order Value * Purchase Frequency\n",
        "\n"
      ]
    },
    {
      "cell_type": "code",
      "metadata": {
        "colab": {
          "base_uri": "https://localhost:8080/",
          "height": 202
        },
        "id": "TBhVwSEm1fsQ",
        "outputId": "1215c29c-ebe9-49df-8c2e-b0572fc6c295"
      },
      "source": [
        "rfmsegmented2.head(5)"
      ],
      "execution_count": null,
      "outputs": [
        {
          "output_type": "execute_result",
          "data": {
            "text/html": [
              "<div>\n",
              "<style scoped>\n",
              "    .dataframe tbody tr th:only-of-type {\n",
              "        vertical-align: middle;\n",
              "    }\n",
              "\n",
              "    .dataframe tbody tr th {\n",
              "        vertical-align: top;\n",
              "    }\n",
              "\n",
              "    .dataframe thead th {\n",
              "        text-align: right;\n",
              "    }\n",
              "</style>\n",
              "<table border=\"1\" class=\"dataframe\">\n",
              "  <thead>\n",
              "    <tr style=\"text-align: right;\">\n",
              "      <th></th>\n",
              "      <th>UserId</th>\n",
              "      <th>Recency</th>\n",
              "      <th>Frequency</th>\n",
              "      <th>Monetary</th>\n",
              "      <th>R</th>\n",
              "      <th>F</th>\n",
              "      <th>M</th>\n",
              "      <th>RFMScore</th>\n",
              "      <th>RFMSegment</th>\n",
              "      <th>Segment</th>\n",
              "    </tr>\n",
              "  </thead>\n",
              "  <tbody>\n",
              "    <tr>\n",
              "      <th>0</th>\n",
              "      <td>337701</td>\n",
              "      <td>56</td>\n",
              "      <td>418</td>\n",
              "      <td>19331.16</td>\n",
              "      <td>2</td>\n",
              "      <td>4</td>\n",
              "      <td>4</td>\n",
              "      <td>10</td>\n",
              "      <td>244</td>\n",
              "      <td>Can't loose them</td>\n",
              "    </tr>\n",
              "    <tr>\n",
              "      <th>1</th>\n",
              "      <td>267099</td>\n",
              "      <td>5</td>\n",
              "      <td>74</td>\n",
              "      <td>3831.72</td>\n",
              "      <td>4</td>\n",
              "      <td>3</td>\n",
              "      <td>3</td>\n",
              "      <td>10</td>\n",
              "      <td>433</td>\n",
              "      <td>Champions</td>\n",
              "    </tr>\n",
              "    <tr>\n",
              "      <th>2</th>\n",
              "      <td>380478</td>\n",
              "      <td>10</td>\n",
              "      <td>2430</td>\n",
              "      <td>38764.14</td>\n",
              "      <td>4</td>\n",
              "      <td>4</td>\n",
              "      <td>4</td>\n",
              "      <td>12</td>\n",
              "      <td>444</td>\n",
              "      <td>Champions</td>\n",
              "    </tr>\n",
              "    <tr>\n",
              "      <th>3</th>\n",
              "      <td>285957</td>\n",
              "      <td>40</td>\n",
              "      <td>80</td>\n",
              "      <td>3683.58</td>\n",
              "      <td>3</td>\n",
              "      <td>3</td>\n",
              "      <td>2</td>\n",
              "      <td>8</td>\n",
              "      <td>332</td>\n",
              "      <td>Loyal customers</td>\n",
              "    </tr>\n",
              "    <tr>\n",
              "      <th>4</th>\n",
              "      <td>345954</td>\n",
              "      <td>7</td>\n",
              "      <td>712</td>\n",
              "      <td>13958.88</td>\n",
              "      <td>4</td>\n",
              "      <td>4</td>\n",
              "      <td>4</td>\n",
              "      <td>12</td>\n",
              "      <td>444</td>\n",
              "      <td>Champions</td>\n",
              "    </tr>\n",
              "  </tbody>\n",
              "</table>\n",
              "</div>"
            ],
            "text/plain": [
              "   UserId  Recency  Frequency  ...  RFMScore  RFMSegment           Segment\n",
              "0  337701       56        418  ...        10         244  Can't loose them\n",
              "1  267099        5         74  ...        10         433         Champions\n",
              "2  380478       10       2430  ...        12         444         Champions\n",
              "3  285957       40         80  ...         8         332   Loyal customers\n",
              "4  345954        7        712  ...        12         444         Champions\n",
              "\n",
              "[5 rows x 10 columns]"
            ]
          },
          "metadata": {},
          "execution_count": 84
        }
      ]
    },
    {
      "cell_type": "code",
      "metadata": {
        "colab": {
          "base_uri": "https://localhost:8080/",
          "height": 202
        },
        "id": "DggAqtk80fjw",
        "outputId": "bc3edb8b-9a67-43a6-a85a-325925f2685d"
      },
      "source": [
        "rfmsegmented2['AvgOrderValue'] = rfmsegmented2['Monetary']/rfmsegmented2['Frequency']\n",
        "rfmsegmented2.head()"
      ],
      "execution_count": null,
      "outputs": [
        {
          "output_type": "execute_result",
          "data": {
            "text/html": [
              "<div>\n",
              "<style scoped>\n",
              "    .dataframe tbody tr th:only-of-type {\n",
              "        vertical-align: middle;\n",
              "    }\n",
              "\n",
              "    .dataframe tbody tr th {\n",
              "        vertical-align: top;\n",
              "    }\n",
              "\n",
              "    .dataframe thead th {\n",
              "        text-align: right;\n",
              "    }\n",
              "</style>\n",
              "<table border=\"1\" class=\"dataframe\">\n",
              "  <thead>\n",
              "    <tr style=\"text-align: right;\">\n",
              "      <th></th>\n",
              "      <th>UserId</th>\n",
              "      <th>Recency</th>\n",
              "      <th>Frequency</th>\n",
              "      <th>Monetary</th>\n",
              "      <th>R</th>\n",
              "      <th>F</th>\n",
              "      <th>M</th>\n",
              "      <th>RFMScore</th>\n",
              "      <th>RFMSegment</th>\n",
              "      <th>Segment</th>\n",
              "      <th>AvgOrderValue</th>\n",
              "    </tr>\n",
              "  </thead>\n",
              "  <tbody>\n",
              "    <tr>\n",
              "      <th>0</th>\n",
              "      <td>337701</td>\n",
              "      <td>56</td>\n",
              "      <td>418</td>\n",
              "      <td>19331.16</td>\n",
              "      <td>2</td>\n",
              "      <td>4</td>\n",
              "      <td>4</td>\n",
              "      <td>10</td>\n",
              "      <td>244</td>\n",
              "      <td>Can't loose them</td>\n",
              "      <td>46.246794</td>\n",
              "    </tr>\n",
              "    <tr>\n",
              "      <th>1</th>\n",
              "      <td>267099</td>\n",
              "      <td>5</td>\n",
              "      <td>74</td>\n",
              "      <td>3831.72</td>\n",
              "      <td>4</td>\n",
              "      <td>3</td>\n",
              "      <td>3</td>\n",
              "      <td>10</td>\n",
              "      <td>433</td>\n",
              "      <td>Champions</td>\n",
              "      <td>51.780000</td>\n",
              "    </tr>\n",
              "    <tr>\n",
              "      <th>2</th>\n",
              "      <td>380478</td>\n",
              "      <td>10</td>\n",
              "      <td>2430</td>\n",
              "      <td>38764.14</td>\n",
              "      <td>4</td>\n",
              "      <td>4</td>\n",
              "      <td>4</td>\n",
              "      <td>12</td>\n",
              "      <td>444</td>\n",
              "      <td>Champions</td>\n",
              "      <td>15.952321</td>\n",
              "    </tr>\n",
              "    <tr>\n",
              "      <th>3</th>\n",
              "      <td>285957</td>\n",
              "      <td>40</td>\n",
              "      <td>80</td>\n",
              "      <td>3683.58</td>\n",
              "      <td>3</td>\n",
              "      <td>3</td>\n",
              "      <td>2</td>\n",
              "      <td>8</td>\n",
              "      <td>332</td>\n",
              "      <td>Loyal customers</td>\n",
              "      <td>46.044750</td>\n",
              "    </tr>\n",
              "    <tr>\n",
              "      <th>4</th>\n",
              "      <td>345954</td>\n",
              "      <td>7</td>\n",
              "      <td>712</td>\n",
              "      <td>13958.88</td>\n",
              "      <td>4</td>\n",
              "      <td>4</td>\n",
              "      <td>4</td>\n",
              "      <td>12</td>\n",
              "      <td>444</td>\n",
              "      <td>Champions</td>\n",
              "      <td>19.605169</td>\n",
              "    </tr>\n",
              "  </tbody>\n",
              "</table>\n",
              "</div>"
            ],
            "text/plain": [
              "   UserId  Recency  Frequency  ...  RFMSegment           Segment  AvgOrderValue\n",
              "0  337701       56        418  ...         244  Can't loose them      46.246794\n",
              "1  267099        5         74  ...         433         Champions      51.780000\n",
              "2  380478       10       2430  ...         444         Champions      15.952321\n",
              "3  285957       40         80  ...         332   Loyal customers      46.044750\n",
              "4  345954        7        712  ...         444         Champions      19.605169\n",
              "\n",
              "[5 rows x 11 columns]"
            ]
          },
          "metadata": {},
          "execution_count": 85
        }
      ]
    },
    {
      "cell_type": "code",
      "metadata": {
        "colab": {
          "base_uri": "https://localhost:8080/"
        },
        "id": "-aliAYW4Fk-J",
        "outputId": "8daf90de-e1a3-4f42-b4e9-4e4b2664e3bb"
      },
      "source": [
        "rfmsegmented2.Frequency.min()"
      ],
      "execution_count": null,
      "outputs": [
        {
          "output_type": "execute_result",
          "data": {
            "text/plain": [
              "2"
            ]
          },
          "metadata": {},
          "execution_count": 86
        }
      ]
    },
    {
      "cell_type": "code",
      "metadata": {
        "colab": {
          "base_uri": "https://localhost:8080/"
        },
        "id": "sv6p47PrEfrP",
        "outputId": "4a94cb91-6347-4f09-8415-0258858ee0b6"
      },
      "source": [
        "rfmsegmented2.shape[0]"
      ],
      "execution_count": null,
      "outputs": [
        {
          "output_type": "execute_result",
          "data": {
            "text/plain": [
              "4222"
            ]
          },
          "metadata": {},
          "execution_count": 87
        }
      ]
    },
    {
      "cell_type": "code",
      "metadata": {
        "colab": {
          "base_uri": "https://localhost:8080/"
        },
        "id": "SEUxmfI5EvHI",
        "outputId": "706c4a0a-224b-4170-de18-5ec8f7ae06bb"
      },
      "source": [
        "rfmsegmented2[rfmsegmented2.Frequency > 2].shape[0]"
      ],
      "execution_count": null,
      "outputs": [
        {
          "output_type": "execute_result",
          "data": {
            "text/plain": [
              "4148"
            ]
          },
          "metadata": {},
          "execution_count": 88
        }
      ]
    },
    {
      "cell_type": "markdown",
      "metadata": {
        "id": "sv_hkcPu4Pvh"
      },
      "source": [
        "## Calculate Purchase Frequency"
      ]
    },
    {
      "cell_type": "code",
      "metadata": {
        "id": "OF91M_Bm196p"
      },
      "source": [
        "PurchaseFrequency=sum(rfmsegmented2['Frequency'])/rfmsegmented2.shape[0]"
      ],
      "execution_count": null,
      "outputs": []
    },
    {
      "cell_type": "markdown",
      "metadata": {
        "id": "TT7xjReP45X6"
      },
      "source": [
        "## Calculate Repeat Rate and Churn Rate"
      ]
    },
    {
      "cell_type": "code",
      "metadata": {
        "colab": {
          "base_uri": "https://localhost:8080/"
        },
        "id": "KXqKdVsE46e4",
        "outputId": "cdbecc56-249a-4c72-d3df-84030ee2a504"
      },
      "source": [
        "# Repeat Rate\n",
        "RepeatRate=rfmsegmented2[rfmsegmented2.Frequency > 2].shape[0]/rfmsegmented2.shape[0]\n",
        "\n",
        "#Churn Rate\n",
        "ChurnRate=1-RepeatRate\n",
        "PurchaseFrequency,RepeatRate,ChurnRate"
      ],
      "execution_count": null,
      "outputs": [
        {
          "output_type": "execute_result",
          "data": {
            "text/plain": [
              "(163.14211274277594, 0.9824727617243013, 0.017527238275698687)"
            ]
          },
          "metadata": {},
          "execution_count": 90
        }
      ]
    },
    {
      "cell_type": "markdown",
      "metadata": {
        "id": "6vtZbesa6Xu9"
      },
      "source": [
        "## Calculate Profit Margin\n",
        "Profit margin is the commonly used profitability ratio. It represents how much percentage of total sales has earned as the gain. Let's assume our business has approx 5% profit on the total sale."
      ]
    },
    {
      "cell_type": "code",
      "metadata": {
        "colab": {
          "base_uri": "https://localhost:8080/",
          "height": 202
        },
        "id": "hULdSDWw6cPL",
        "outputId": "fa445524-373f-46a3-9846-1db499eec3c3"
      },
      "source": [
        "rfmsegmented2['Profit']= rfmsegmented2['Monetary']*0.05\n",
        "rfmsegmented2.head(5)"
      ],
      "execution_count": null,
      "outputs": [
        {
          "output_type": "execute_result",
          "data": {
            "text/html": [
              "<div>\n",
              "<style scoped>\n",
              "    .dataframe tbody tr th:only-of-type {\n",
              "        vertical-align: middle;\n",
              "    }\n",
              "\n",
              "    .dataframe tbody tr th {\n",
              "        vertical-align: top;\n",
              "    }\n",
              "\n",
              "    .dataframe thead th {\n",
              "        text-align: right;\n",
              "    }\n",
              "</style>\n",
              "<table border=\"1\" class=\"dataframe\">\n",
              "  <thead>\n",
              "    <tr style=\"text-align: right;\">\n",
              "      <th></th>\n",
              "      <th>UserId</th>\n",
              "      <th>Recency</th>\n",
              "      <th>Frequency</th>\n",
              "      <th>Monetary</th>\n",
              "      <th>R</th>\n",
              "      <th>F</th>\n",
              "      <th>M</th>\n",
              "      <th>RFMScore</th>\n",
              "      <th>RFMSegment</th>\n",
              "      <th>Segment</th>\n",
              "      <th>AvgOrderValue</th>\n",
              "      <th>Profit</th>\n",
              "    </tr>\n",
              "  </thead>\n",
              "  <tbody>\n",
              "    <tr>\n",
              "      <th>0</th>\n",
              "      <td>337701</td>\n",
              "      <td>56</td>\n",
              "      <td>418</td>\n",
              "      <td>19331.16</td>\n",
              "      <td>2</td>\n",
              "      <td>4</td>\n",
              "      <td>4</td>\n",
              "      <td>10</td>\n",
              "      <td>244</td>\n",
              "      <td>Can't loose them</td>\n",
              "      <td>46.246794</td>\n",
              "      <td>966.558</td>\n",
              "    </tr>\n",
              "    <tr>\n",
              "      <th>1</th>\n",
              "      <td>267099</td>\n",
              "      <td>5</td>\n",
              "      <td>74</td>\n",
              "      <td>3831.72</td>\n",
              "      <td>4</td>\n",
              "      <td>3</td>\n",
              "      <td>3</td>\n",
              "      <td>10</td>\n",
              "      <td>433</td>\n",
              "      <td>Champions</td>\n",
              "      <td>51.780000</td>\n",
              "      <td>191.586</td>\n",
              "    </tr>\n",
              "    <tr>\n",
              "      <th>2</th>\n",
              "      <td>380478</td>\n",
              "      <td>10</td>\n",
              "      <td>2430</td>\n",
              "      <td>38764.14</td>\n",
              "      <td>4</td>\n",
              "      <td>4</td>\n",
              "      <td>4</td>\n",
              "      <td>12</td>\n",
              "      <td>444</td>\n",
              "      <td>Champions</td>\n",
              "      <td>15.952321</td>\n",
              "      <td>1938.207</td>\n",
              "    </tr>\n",
              "    <tr>\n",
              "      <th>3</th>\n",
              "      <td>285957</td>\n",
              "      <td>40</td>\n",
              "      <td>80</td>\n",
              "      <td>3683.58</td>\n",
              "      <td>3</td>\n",
              "      <td>3</td>\n",
              "      <td>2</td>\n",
              "      <td>8</td>\n",
              "      <td>332</td>\n",
              "      <td>Loyal customers</td>\n",
              "      <td>46.044750</td>\n",
              "      <td>184.179</td>\n",
              "    </tr>\n",
              "    <tr>\n",
              "      <th>4</th>\n",
              "      <td>345954</td>\n",
              "      <td>7</td>\n",
              "      <td>712</td>\n",
              "      <td>13958.88</td>\n",
              "      <td>4</td>\n",
              "      <td>4</td>\n",
              "      <td>4</td>\n",
              "      <td>12</td>\n",
              "      <td>444</td>\n",
              "      <td>Champions</td>\n",
              "      <td>19.605169</td>\n",
              "      <td>697.944</td>\n",
              "    </tr>\n",
              "  </tbody>\n",
              "</table>\n",
              "</div>"
            ],
            "text/plain": [
              "   UserId  Recency  Frequency  ...           Segment  AvgOrderValue    Profit\n",
              "0  337701       56        418  ...  Can't loose them      46.246794   966.558\n",
              "1  267099        5         74  ...         Champions      51.780000   191.586\n",
              "2  380478       10       2430  ...         Champions      15.952321  1938.207\n",
              "3  285957       40         80  ...   Loyal customers      46.044750   184.179\n",
              "4  345954        7        712  ...         Champions      19.605169   697.944\n",
              "\n",
              "[5 rows x 12 columns]"
            ]
          },
          "metadata": {},
          "execution_count": 91
        }
      ]
    },
    {
      "cell_type": "code",
      "metadata": {
        "colab": {
          "base_uri": "https://localhost:8080/"
        },
        "id": "hrAQfIu5_UP6",
        "outputId": "a6b0e26b-3bc3-457e-a2bc-64c3b447a489"
      },
      "source": [
        "FirstProfit = rfmsegmented2['Monetary'].sum()\n",
        "FirstProfit"
      ],
      "execution_count": null,
      "outputs": [
        {
          "output_type": "execute_result",
          "data": {
            "text/plain": [
              "35429409.24000002"
            ]
          },
          "metadata": {},
          "execution_count": 132
        }
      ]
    },
    {
      "cell_type": "code",
      "metadata": {
        "colab": {
          "base_uri": "https://localhost:8080/"
        },
        "id": "Hy2n3oCZ_wSC",
        "outputId": "d7410a13-afd3-45ef-9776-14c85053dc6f"
      },
      "source": [
        "FinalProfit = (rfmsegmented2['Monetary']+rfmsegmented2['Profit']).sum()\n",
        "FinalProfit"
      ],
      "execution_count": null,
      "outputs": [
        {
          "output_type": "execute_result",
          "data": {
            "text/plain": [
              "37200879.70200002"
            ]
          },
          "metadata": {},
          "execution_count": 131
        }
      ]
    },
    {
      "cell_type": "markdown",
      "metadata": {
        "id": "T36mNR8C_5-d"
      },
      "source": [
        "## Calculate Customer Lifetime Value"
      ]
    },
    {
      "cell_type": "code",
      "metadata": {
        "colab": {
          "base_uri": "https://localhost:8080/",
          "height": 202
        },
        "id": "zWy_xmIC7zas",
        "outputId": "afe4e426-1bb8-4a3f-bad5-07c3ac983ca7"
      },
      "source": [
        "rfmsegmented2['CLV'] = ((rfmsegmented2['AvgOrderValue']*PurchaseFrequency)/ChurnRate)*rfmsegmented2['Profit']\n",
        "rfmsegmented2.head(5)"
      ],
      "execution_count": null,
      "outputs": [
        {
          "output_type": "execute_result",
          "data": {
            "text/html": [
              "<div>\n",
              "<style scoped>\n",
              "    .dataframe tbody tr th:only-of-type {\n",
              "        vertical-align: middle;\n",
              "    }\n",
              "\n",
              "    .dataframe tbody tr th {\n",
              "        vertical-align: top;\n",
              "    }\n",
              "\n",
              "    .dataframe thead th {\n",
              "        text-align: right;\n",
              "    }\n",
              "</style>\n",
              "<table border=\"1\" class=\"dataframe\">\n",
              "  <thead>\n",
              "    <tr style=\"text-align: right;\">\n",
              "      <th></th>\n",
              "      <th>UserId</th>\n",
              "      <th>Recency</th>\n",
              "      <th>Frequency</th>\n",
              "      <th>Monetary</th>\n",
              "      <th>R</th>\n",
              "      <th>F</th>\n",
              "      <th>M</th>\n",
              "      <th>RFMScore</th>\n",
              "      <th>RFMSegment</th>\n",
              "      <th>Segment</th>\n",
              "      <th>AvgOrderValue</th>\n",
              "      <th>Profit</th>\n",
              "      <th>CLV</th>\n",
              "    </tr>\n",
              "  </thead>\n",
              "  <tbody>\n",
              "    <tr>\n",
              "      <th>0</th>\n",
              "      <td>337701</td>\n",
              "      <td>56</td>\n",
              "      <td>418</td>\n",
              "      <td>19331.16</td>\n",
              "      <td>2</td>\n",
              "      <td>4</td>\n",
              "      <td>4</td>\n",
              "      <td>10</td>\n",
              "      <td>244</td>\n",
              "      <td>Can't loose them</td>\n",
              "      <td>46.246794</td>\n",
              "      <td>966.558</td>\n",
              "      <td>4.160659e+08</td>\n",
              "    </tr>\n",
              "    <tr>\n",
              "      <th>1</th>\n",
              "      <td>267099</td>\n",
              "      <td>5</td>\n",
              "      <td>74</td>\n",
              "      <td>3831.72</td>\n",
              "      <td>4</td>\n",
              "      <td>3</td>\n",
              "      <td>3</td>\n",
              "      <td>10</td>\n",
              "      <td>433</td>\n",
              "      <td>Champions</td>\n",
              "      <td>51.780000</td>\n",
              "      <td>191.586</td>\n",
              "      <td>9.233756e+07</td>\n",
              "    </tr>\n",
              "    <tr>\n",
              "      <th>2</th>\n",
              "      <td>380478</td>\n",
              "      <td>10</td>\n",
              "      <td>2430</td>\n",
              "      <td>38764.14</td>\n",
              "      <td>4</td>\n",
              "      <td>4</td>\n",
              "      <td>4</td>\n",
              "      <td>12</td>\n",
              "      <td>444</td>\n",
              "      <td>Champions</td>\n",
              "      <td>15.952321</td>\n",
              "      <td>1938.207</td>\n",
              "      <td>2.877906e+08</td>\n",
              "    </tr>\n",
              "    <tr>\n",
              "      <th>3</th>\n",
              "      <td>285957</td>\n",
              "      <td>40</td>\n",
              "      <td>80</td>\n",
              "      <td>3683.58</td>\n",
              "      <td>3</td>\n",
              "      <td>3</td>\n",
              "      <td>2</td>\n",
              "      <td>8</td>\n",
              "      <td>332</td>\n",
              "      <td>Loyal customers</td>\n",
              "      <td>46.044750</td>\n",
              "      <td>184.179</td>\n",
              "      <td>7.893558e+07</td>\n",
              "    </tr>\n",
              "    <tr>\n",
              "      <th>4</th>\n",
              "      <td>345954</td>\n",
              "      <td>7</td>\n",
              "      <td>712</td>\n",
              "      <td>13958.88</td>\n",
              "      <td>4</td>\n",
              "      <td>4</td>\n",
              "      <td>4</td>\n",
              "      <td>12</td>\n",
              "      <td>444</td>\n",
              "      <td>Champions</td>\n",
              "      <td>19.605169</td>\n",
              "      <td>697.944</td>\n",
              "      <td>1.273631e+08</td>\n",
              "    </tr>\n",
              "  </tbody>\n",
              "</table>\n",
              "</div>"
            ],
            "text/plain": [
              "   UserId  Recency  Frequency  ...  AvgOrderValue    Profit           CLV\n",
              "0  337701       56        418  ...      46.246794   966.558  4.160659e+08\n",
              "1  267099        5         74  ...      51.780000   191.586  9.233756e+07\n",
              "2  380478       10       2430  ...      15.952321  1938.207  2.877906e+08\n",
              "3  285957       40         80  ...      46.044750   184.179  7.893558e+07\n",
              "4  345954        7        712  ...      19.605169   697.944  1.273631e+08\n",
              "\n",
              "[5 rows x 13 columns]"
            ]
          },
          "metadata": {},
          "execution_count": 92
        }
      ]
    },
    {
      "cell_type": "markdown",
      "metadata": {
        "id": "bonTT98BIdEY"
      },
      "source": [
        "# **CLTV Model Definition**\n",
        "For the CLTV models, the following nomenclature is used:\n",
        "- Recency : How recently customer did the transaction\n",
        "- Frequency : How often the customer make the transaction\n",
        "- T : Age of the customer (LastTransaction - FirstTransaction)"
      ]
    },
    {
      "cell_type": "code",
      "metadata": {
        "colab": {
          "base_uri": "https://localhost:8080/"
        },
        "id": "wzVd7B4cJl1D",
        "outputId": "11c68b0e-d68b-4055-aa2f-def03e4eff61"
      },
      "source": [
        "df3.dtypes"
      ],
      "execution_count": null,
      "outputs": [
        {
          "output_type": "execute_result",
          "data": {
            "text/plain": [
              "UserId                       int64\n",
              "TransactionTime2    datetime64[ns]\n",
              "TotalSales                 float64\n",
              "dtype: object"
            ]
          },
          "metadata": {},
          "execution_count": 111
        }
      ]
    },
    {
      "cell_type": "code",
      "metadata": {
        "colab": {
          "base_uri": "https://localhost:8080/",
          "height": 202
        },
        "id": "jlfg9K3rJfjn",
        "outputId": "22b2ee73-18dc-4d83-fffa-0cd6fe28cfc4"
      },
      "source": [
        "df3.head()"
      ],
      "execution_count": null,
      "outputs": [
        {
          "output_type": "execute_result",
          "data": {
            "text/html": [
              "<div>\n",
              "<style scoped>\n",
              "    .dataframe tbody tr th:only-of-type {\n",
              "        vertical-align: middle;\n",
              "    }\n",
              "\n",
              "    .dataframe tbody tr th {\n",
              "        vertical-align: top;\n",
              "    }\n",
              "\n",
              "    .dataframe thead th {\n",
              "        text-align: right;\n",
              "    }\n",
              "</style>\n",
              "<table border=\"1\" class=\"dataframe\">\n",
              "  <thead>\n",
              "    <tr style=\"text-align: right;\">\n",
              "      <th></th>\n",
              "      <th>UserId</th>\n",
              "      <th>TransactionTime2</th>\n",
              "      <th>TotalSales</th>\n",
              "    </tr>\n",
              "  </thead>\n",
              "  <tbody>\n",
              "    <tr>\n",
              "      <th>1</th>\n",
              "      <td>337701</td>\n",
              "      <td>2018-12-26</td>\n",
              "      <td>10.56</td>\n",
              "    </tr>\n",
              "    <tr>\n",
              "      <th>2</th>\n",
              "      <td>267099</td>\n",
              "      <td>2019-02-15</td>\n",
              "      <td>64.80</td>\n",
              "    </tr>\n",
              "    <tr>\n",
              "      <th>3</th>\n",
              "      <td>380478</td>\n",
              "      <td>2018-06-22</td>\n",
              "      <td>5.19</td>\n",
              "    </tr>\n",
              "    <tr>\n",
              "      <th>5</th>\n",
              "      <td>285957</td>\n",
              "      <td>2019-01-11</td>\n",
              "      <td>42.24</td>\n",
              "    </tr>\n",
              "    <tr>\n",
              "      <th>6</th>\n",
              "      <td>345954</td>\n",
              "      <td>2018-09-28</td>\n",
              "      <td>61.56</td>\n",
              "    </tr>\n",
              "  </tbody>\n",
              "</table>\n",
              "</div>"
            ],
            "text/plain": [
              "   UserId TransactionTime2  TotalSales\n",
              "1  337701       2018-12-26       10.56\n",
              "2  267099       2019-02-15       64.80\n",
              "3  380478       2018-06-22        5.19\n",
              "5  285957       2019-01-11       42.24\n",
              "6  345954       2018-09-28       61.56"
            ]
          },
          "metadata": {},
          "execution_count": 112
        }
      ]
    },
    {
      "cell_type": "code",
      "metadata": {
        "colab": {
          "base_uri": "https://localhost:8080/"
        },
        "id": "Oo4ZpsiWIdnC",
        "outputId": "e5d78829-924f-470c-e6d5-e7c7b43863bf"
      },
      "source": [
        "df3 = df3[pd.notnull(df3['UserId'])]\n",
        "cols_of_interest = ['UserId', 'TransactionTime2', 'TotalSales']\n",
        "df3 = df3[cols_of_interest]\n",
        "print(df3.head())\n",
        "print(df3['UserId'].nunique())"
      ],
      "execution_count": null,
      "outputs": [
        {
          "output_type": "stream",
          "name": "stdout",
          "text": [
            "   UserId TransactionTime2  TotalSales\n",
            "1  337701       2018-12-26       10.56\n",
            "2  267099       2019-02-15       64.80\n",
            "3  380478       2018-06-22        5.19\n",
            "5  285957       2019-01-11       42.24\n",
            "6  345954       2018-09-28       61.56\n",
            "4222\n"
          ]
        }
      ]
    },
    {
      "cell_type": "code",
      "metadata": {
        "colab": {
          "base_uri": "https://localhost:8080/",
          "height": 202
        },
        "id": "1EkOWCx1Keqk",
        "outputId": "32a56712-5b77-452f-e957-fe0f8edb2e9c"
      },
      "source": [
        "df3.head()"
      ],
      "execution_count": null,
      "outputs": [
        {
          "output_type": "execute_result",
          "data": {
            "text/html": [
              "<div>\n",
              "<style scoped>\n",
              "    .dataframe tbody tr th:only-of-type {\n",
              "        vertical-align: middle;\n",
              "    }\n",
              "\n",
              "    .dataframe tbody tr th {\n",
              "        vertical-align: top;\n",
              "    }\n",
              "\n",
              "    .dataframe thead th {\n",
              "        text-align: right;\n",
              "    }\n",
              "</style>\n",
              "<table border=\"1\" class=\"dataframe\">\n",
              "  <thead>\n",
              "    <tr style=\"text-align: right;\">\n",
              "      <th></th>\n",
              "      <th>UserId</th>\n",
              "      <th>TransactionTime2</th>\n",
              "      <th>TotalSales</th>\n",
              "    </tr>\n",
              "  </thead>\n",
              "  <tbody>\n",
              "    <tr>\n",
              "      <th>1</th>\n",
              "      <td>337701</td>\n",
              "      <td>2018-12-26</td>\n",
              "      <td>10.56</td>\n",
              "    </tr>\n",
              "    <tr>\n",
              "      <th>2</th>\n",
              "      <td>267099</td>\n",
              "      <td>2019-02-15</td>\n",
              "      <td>64.80</td>\n",
              "    </tr>\n",
              "    <tr>\n",
              "      <th>3</th>\n",
              "      <td>380478</td>\n",
              "      <td>2018-06-22</td>\n",
              "      <td>5.19</td>\n",
              "    </tr>\n",
              "    <tr>\n",
              "      <th>5</th>\n",
              "      <td>285957</td>\n",
              "      <td>2019-01-11</td>\n",
              "      <td>42.24</td>\n",
              "    </tr>\n",
              "    <tr>\n",
              "      <th>6</th>\n",
              "      <td>345954</td>\n",
              "      <td>2018-09-28</td>\n",
              "      <td>61.56</td>\n",
              "    </tr>\n",
              "  </tbody>\n",
              "</table>\n",
              "</div>"
            ],
            "text/plain": [
              "   UserId TransactionTime2  TotalSales\n",
              "1  337701       2018-12-26       10.56\n",
              "2  267099       2019-02-15       64.80\n",
              "3  380478       2018-06-22        5.19\n",
              "5  285957       2019-01-11       42.24\n",
              "6  345954       2018-09-28       61.56"
            ]
          },
          "metadata": {},
          "execution_count": 114
        }
      ]
    },
    {
      "cell_type": "code",
      "metadata": {
        "id": "hxdcEXmFKemw",
        "colab": {
          "base_uri": "https://localhost:8080/",
          "height": 234
        },
        "outputId": "85639ecb-c7ba-4249-9293-b26467f7a905"
      },
      "source": [
        "df4 = summary_data_from_transaction_data(df3, 'UserId', 'TransactionTime2', 'TotalSales', observation_period_end='2019-02-21')\n",
        "df4.head()"
      ],
      "execution_count": null,
      "outputs": [
        {
          "output_type": "execute_result",
          "data": {
            "text/html": [
              "<div>\n",
              "<style scoped>\n",
              "    .dataframe tbody tr th:only-of-type {\n",
              "        vertical-align: middle;\n",
              "    }\n",
              "\n",
              "    .dataframe tbody tr th {\n",
              "        vertical-align: top;\n",
              "    }\n",
              "\n",
              "    .dataframe thead th {\n",
              "        text-align: right;\n",
              "    }\n",
              "</style>\n",
              "<table border=\"1\" class=\"dataframe\">\n",
              "  <thead>\n",
              "    <tr style=\"text-align: right;\">\n",
              "      <th></th>\n",
              "      <th>frequency</th>\n",
              "      <th>recency</th>\n",
              "      <th>T</th>\n",
              "      <th>monetary_value</th>\n",
              "    </tr>\n",
              "    <tr>\n",
              "      <th>UserId</th>\n",
              "      <th></th>\n",
              "      <th></th>\n",
              "      <th></th>\n",
              "      <th></th>\n",
              "    </tr>\n",
              "  </thead>\n",
              "  <tbody>\n",
              "    <tr>\n",
              "      <th>259287</th>\n",
              "      <td>6.0</td>\n",
              "      <td>365.0</td>\n",
              "      <td>368.0</td>\n",
              "      <td>3683.78</td>\n",
              "    </tr>\n",
              "    <tr>\n",
              "      <th>259308</th>\n",
              "      <td>2.0</td>\n",
              "      <td>110.0</td>\n",
              "      <td>359.0</td>\n",
              "      <td>155.76</td>\n",
              "    </tr>\n",
              "    <tr>\n",
              "      <th>259329</th>\n",
              "      <td>0.0</td>\n",
              "      <td>0.0</td>\n",
              "      <td>19.0</td>\n",
              "      <td>0.00</td>\n",
              "    </tr>\n",
              "    <tr>\n",
              "      <th>259350</th>\n",
              "      <td>0.0</td>\n",
              "      <td>0.0</td>\n",
              "      <td>311.0</td>\n",
              "      <td>0.00</td>\n",
              "    </tr>\n",
              "    <tr>\n",
              "      <th>259392</th>\n",
              "      <td>6.0</td>\n",
              "      <td>260.0</td>\n",
              "      <td>297.0</td>\n",
              "      <td>1081.48</td>\n",
              "    </tr>\n",
              "  </tbody>\n",
              "</table>\n",
              "</div>"
            ],
            "text/plain": [
              "        frequency  recency      T  monetary_value\n",
              "UserId                                           \n",
              "259287        6.0    365.0  368.0         3683.78\n",
              "259308        2.0    110.0  359.0          155.76\n",
              "259329        0.0      0.0   19.0            0.00\n",
              "259350        0.0      0.0  311.0            0.00\n",
              "259392        6.0    260.0  297.0         1081.48"
            ]
          },
          "metadata": {},
          "execution_count": 115
        }
      ]
    },
    {
      "cell_type": "markdown",
      "metadata": {
        "id": "ZI6AIekJ-KUo"
      },
      "source": [
        "There are 4222 customers in this analysis.\n",
        "UserId 259350 made 1 purchase only, so the frequency and recency are 0, and the age is 311 days"
      ]
    },
    {
      "cell_type": "code",
      "metadata": {
        "colab": {
          "base_uri": "https://localhost:8080/",
          "height": 448
        },
        "id": "atlcMeOK98oQ",
        "outputId": "e821a630-2b68-4f2e-bf9a-ccc6f34a4490"
      },
      "source": [
        "df4['frequency'].plot(kind='hist', bins=50)\n",
        "plt.title('Frequency')\n",
        "print(df4['frequency'].describe())\n",
        "print(sum(df4['frequency'] == 0)/float(len(df3)))"
      ],
      "execution_count": null,
      "outputs": [
        {
          "output_type": "stream",
          "name": "stdout",
          "text": [
            "count    4222.000000\n",
            "mean        3.139270\n",
            "std         6.198717\n",
            "min         0.000000\n",
            "25%         0.000000\n",
            "50%         1.000000\n",
            "75%         4.000000\n",
            "max       143.000000\n",
            "Name: frequency, dtype: float64\n",
            "0.0020383689563957456\n"
          ]
        },
        {
          "output_type": "display_data",
          "data": {
            "image/png": "[encoded data removed]",
            "text/plain": [
              "<Figure size 432x288 with 1 Axes>"
            ]
          },
          "metadata": {
            "needs_background": "light"
          }
        }
      ]
    },
    {
      "cell_type": "markdown",
      "metadata": {
        "id": "zh6BqeVH8Suu"
      },
      "source": [
        "From this graph, we can see that the frequency of purchase were in between 0  to 20."
      ]
    },
    {
      "cell_type": "code",
      "metadata": {
        "colab": {
          "base_uri": "https://localhost:8080/",
          "height": 448
        },
        "id": "yKVcdZMZB5AE",
        "outputId": "02a41129-a532-4041-c082-7a5536d86f71"
      },
      "source": [
        "df4['recency'].plot(kind='hist', bins=50)\n",
        "plt.title('Recency')\n",
        "print(df4['recency'].describe())\n",
        "print(sum(df4['recency'] == 0)/float(len(df3)))"
      ],
      "execution_count": null,
      "outputs": [
        {
          "output_type": "stream",
          "name": "stdout",
          "text": [
            "count    4222.000000\n",
            "mean      130.998342\n",
            "std       132.402700\n",
            "min         0.000000\n",
            "25%         0.000000\n",
            "50%        92.000000\n",
            "75%       252.000000\n",
            "max       373.000000\n",
            "Name: recency, dtype: float64\n",
            "0.0020383689563957456\n"
          ]
        },
        {
          "output_type": "display_data",
          "data": {
            "image/png": "[encoded data removed]",
            "text/plain": [
              "<Figure size 432x288 with 1 Axes>"
            ]
          },
          "metadata": {
            "needs_background": "light"
          }
        }
      ]
    },
    {
      "cell_type": "markdown",
      "metadata": {
        "id": "Z1yBoH58CZgu"
      },
      "source": [
        "more than 35% of the customer only made purchase once.\n",
        "# **Frequency/Recency Analysis Using the BG/NBD Model**"
      ]
    },
    {
      "cell_type": "code",
      "metadata": {
        "colab": {
          "base_uri": "https://localhost:8080/"
        },
        "id": "x4R6kPYFB_gq",
        "outputId": "d7d71d3b-3dcc-4d12-b30c-0788b696d25f"
      },
      "source": [
        "from lifetimes import BetaGeoFitter\n",
        "bgf = BetaGeoFitter(penalizer_coef=0.0)\n",
        "bgf.fit(df4['frequency'], df4['recency'], df4['T'])\n",
        "print(bgf)"
      ],
      "execution_count": null,
      "outputs": [
        {
          "output_type": "stream",
          "name": "stdout",
          "text": [
            "<lifetimes.BetaGeoFitter: fitted with 4222 subjects, a: 0.01, alpha: 62.21, b: 0.27, r: 0.85>\n"
          ]
        }
      ]
    },
    {
      "cell_type": "code",
      "metadata": {
        "colab": {
          "base_uri": "https://localhost:8080/",
          "height": 300
        },
        "id": "b8UFgZlVCqAp",
        "outputId": "c7e6d107-6a5c-4bb7-c295-ed645196e73f"
      },
      "source": [
        "from scipy.stats import gamma, beta\n",
        "bgf = BetaGeoFitter(penalizer_coef=0.0)\n",
        "bgf.fit(df4['frequency'], df4['recency'], df4['T'], )\n",
        "print (bgf)\n",
        "#  \n",
        "# Plot\n",
        "gbd = beta.rvs(bgf.params_['a'], bgf.params_['b'], size = 50000)\n",
        "ggd = gamma.rvs(bgf.params_['r'], scale=1./bgf.params_['alpha'], size = 50000)\n",
        "plt.figure(figsize=(14,4))\n",
        "plt.subplot(121)\n",
        "plt.title('Heterogenity of $p$')\n",
        "temp = plt.hist(gbd, 20,  alpha=0.75)\n",
        "plt.subplot(122) \n",
        "plt.title('Heterogenity of $\\lambda$')\n",
        "temp = plt.hist(ggd, 20,  alpha=0.75)"
      ],
      "execution_count": null,
      "outputs": [
        {
          "output_type": "stream",
          "name": "stdout",
          "text": [
            "<lifetimes.BetaGeoFitter: fitted with 4222 subjects, a: 0.01, alpha: 62.21, b: 0.27, r: 0.85>\n"
          ]
        },
        {
          "output_type": "display_data",
          "data": {
            "image/png": "[encoded data removed]",
            "text/plain": [
              "<Figure size 1008x288 with 2 Axes>"
            ]
          },
          "metadata": {
            "needs_background": "light"
          }
        }
      ]
    },
    {
      "cell_type": "markdown",
      "metadata": {
        "id": "R0gtjEvkC1bo"
      },
      "source": [
        "### Visualizing our frequency/recency matrix\n"
      ]
    },
    {
      "cell_type": "code",
      "metadata": {
        "colab": {
          "base_uri": "https://localhost:8080/",
          "height": 418
        },
        "id": "QduCwUgrC3Na",
        "outputId": "a5e86fde-b5ce-4925-b9e6-cffaa7d33b31"
      },
      "source": [
        "from lifetimes.plotting import plot_frequency_recency_matrix\n",
        "import matplotlib.pyplot as plt\n",
        "fig = plt.figure(figsize=(10,6))\n",
        "plot_frequency_recency_matrix(bgf)\n",
        "plt.show()"
      ],
      "execution_count": null,
      "outputs": [
        {
          "output_type": "display_data",
          "data": {
            "image/png": "[encoded data removed]",
            "text/plain": [
              "<Figure size 720x432 with 2 Axes>"
            ]
          },
          "metadata": {
            "needs_background": "light"
          }
        }
      ]
    },
    {
      "cell_type": "markdown",
      "metadata": {
        "id": "NzbXt9-hC8FT"
      },
      "source": [
        "from this we can see when a customer has made 140 purchases, and their latest purchase was they were approximately 350 days old (Recency: 350 days), then they are our best customer (bottom-right).\n",
        "\n",
        "Customers who have purchased a lot and purchased recently will likely be the best customers in the future.\n",
        "\n",
        "Customers who have purchased a lot but not recently (top-right corner), have probably gone.\n",
        "\n",
        "Another interesting matrix to look at is the probability of still being alive:\n"
      ]
    },
    {
      "cell_type": "code",
      "metadata": {
        "colab": {
          "base_uri": "https://localhost:8080/",
          "height": 418
        },
        "id": "oWJpoEOkC8mi",
        "outputId": "63e1c41a-b344-4191-92da-007b1e4e60c1"
      },
      "source": [
        "from lifetimes.plotting import plot_probability_alive_matrix\n",
        "fig = plt.figure(figsize=(10,6))\n",
        "plot_probability_alive_matrix(bgf)\n",
        "plt.show()"
      ],
      "execution_count": null,
      "outputs": [
        {
          "output_type": "display_data",
          "data": {
            "image/png": "[encoded data removed]",
            "text/plain": [
              "<Figure size 720x432 with 2 Axes>"
            ]
          },
          "metadata": {
            "needs_background": "light"
          }
        }
      ]
    },
    {
      "cell_type": "markdown",
      "metadata": {
        "id": "-QpmOumRDBWt"
      },
      "source": [
        "Customers who have purchased recently are probably “alive”.\n",
        "\n",
        "### Customer transactions predictions\n",
        "Models will predict a customer’s expected purchases in the next period based on their history\n"
      ]
    },
    {
      "cell_type": "code",
      "metadata": {
        "colab": {
          "base_uri": "https://localhost:8080/",
          "height": 387
        },
        "id": "yuBbGCYZDDtt",
        "outputId": "7739a71a-1422-493b-d578-67a52e4ffb85"
      },
      "source": [
        "t = 10\n",
        "df4['predicted_purchases'] = bgf.conditional_expected_number_of_purchases_up_to_time(t, df4['frequency'], df4['recency'], df4['T'])\n",
        "df4.sort_values(by='predicted_purchases').tail(10)"
      ],
      "execution_count": null,
      "outputs": [
        {
          "output_type": "execute_result",
          "data": {
            "text/html": [
              "<div>\n",
              "<style scoped>\n",
              "    .dataframe tbody tr th:only-of-type {\n",
              "        vertical-align: middle;\n",
              "    }\n",
              "\n",
              "    .dataframe tbody tr th {\n",
              "        vertical-align: top;\n",
              "    }\n",
              "\n",
              "    .dataframe thead th {\n",
              "        text-align: right;\n",
              "    }\n",
              "</style>\n",
              "<table border=\"1\" class=\"dataframe\">\n",
              "  <thead>\n",
              "    <tr style=\"text-align: right;\">\n",
              "      <th></th>\n",
              "      <th>frequency</th>\n",
              "      <th>recency</th>\n",
              "      <th>T</th>\n",
              "      <th>monetary_value</th>\n",
              "      <th>predicted_purchases</th>\n",
              "    </tr>\n",
              "    <tr>\n",
              "      <th>UserId</th>\n",
              "      <th></th>\n",
              "      <th></th>\n",
              "      <th></th>\n",
              "      <th></th>\n",
              "      <th></th>\n",
              "    </tr>\n",
              "  </thead>\n",
              "  <tbody>\n",
              "    <tr>\n",
              "      <th>318969</th>\n",
              "      <td>42.0</td>\n",
              "      <td>331.0</td>\n",
              "      <td>333.0</td>\n",
              "      <td>977.914286</td>\n",
              "      <td>1.083883</td>\n",
              "    </tr>\n",
              "    <tr>\n",
              "      <th>281568</th>\n",
              "      <td>48.0</td>\n",
              "      <td>372.0</td>\n",
              "      <td>374.0</td>\n",
              "      <td>1554.508750</td>\n",
              "      <td>1.119551</td>\n",
              "    </tr>\n",
              "    <tr>\n",
              "      <th>305067</th>\n",
              "      <td>53.0</td>\n",
              "      <td>367.0</td>\n",
              "      <td>370.0</td>\n",
              "      <td>651.113208</td>\n",
              "      <td>1.245536</td>\n",
              "    </tr>\n",
              "    <tr>\n",
              "      <th>272391</th>\n",
              "      <td>64.0</td>\n",
              "      <td>369.0</td>\n",
              "      <td>373.0</td>\n",
              "      <td>690.412500</td>\n",
              "      <td>1.489592</td>\n",
              "    </tr>\n",
              "    <tr>\n",
              "      <th>274869</th>\n",
              "      <td>73.0</td>\n",
              "      <td>364.0</td>\n",
              "      <td>369.0</td>\n",
              "      <td>3952.419452</td>\n",
              "      <td>1.711975</td>\n",
              "    </tr>\n",
              "    <tr>\n",
              "      <th>306726</th>\n",
              "      <td>87.0</td>\n",
              "      <td>372.0</td>\n",
              "      <td>374.0</td>\n",
              "      <td>751.895172</td>\n",
              "      <td>2.013458</td>\n",
              "    </tr>\n",
              "    <tr>\n",
              "      <th>321531</th>\n",
              "      <td>89.0</td>\n",
              "      <td>373.0</td>\n",
              "      <td>374.0</td>\n",
              "      <td>1577.221348</td>\n",
              "      <td>2.059362</td>\n",
              "    </tr>\n",
              "    <tr>\n",
              "      <th>267708</th>\n",
              "      <td>110.0</td>\n",
              "      <td>373.0</td>\n",
              "      <td>374.0</td>\n",
              "      <td>1575.798545</td>\n",
              "      <td>2.540711</td>\n",
              "    </tr>\n",
              "    <tr>\n",
              "      <th>374661</th>\n",
              "      <td>112.0</td>\n",
              "      <td>372.0</td>\n",
              "      <td>374.0</td>\n",
              "      <td>2357.964643</td>\n",
              "      <td>2.586469</td>\n",
              "    </tr>\n",
              "    <tr>\n",
              "      <th>313131</th>\n",
              "      <td>143.0</td>\n",
              "      <td>372.0</td>\n",
              "      <td>374.0</td>\n",
              "      <td>4818.553846</td>\n",
              "      <td>3.296994</td>\n",
              "    </tr>\n",
              "  </tbody>\n",
              "</table>\n",
              "</div>"
            ],
            "text/plain": [
              "        frequency  recency      T  monetary_value  predicted_purchases\n",
              "UserId                                                                \n",
              "318969       42.0    331.0  333.0      977.914286             1.083883\n",
              "281568       48.0    372.0  374.0     1554.508750             1.119551\n",
              "305067       53.0    367.0  370.0      651.113208             1.245536\n",
              "272391       64.0    369.0  373.0      690.412500             1.489592\n",
              "274869       73.0    364.0  369.0     3952.419452             1.711975\n",
              "306726       87.0    372.0  374.0      751.895172             2.013458\n",
              "321531       89.0    373.0  374.0     1577.221348             2.059362\n",
              "267708      110.0    373.0  374.0     1575.798545             2.540711\n",
              "374661      112.0    372.0  374.0     2357.964643             2.586469\n",
              "313131      143.0    372.0  374.0     4818.553846             3.296994"
            ]
          },
          "metadata": {},
          "execution_count": 122
        }
      ]
    },
    {
      "cell_type": "markdown",
      "metadata": {
        "id": "3BjH2c0GDKPA"
      },
      "source": [
        "from the table above we can see top 10 customer that expected to make purchases in the next 10 days\n",
        "\n",
        "The predicted_purcahses columns is represent the expected number of purchases that customer will make in the future. The BG/NBD  model believes that the customer will make more purchases in the future since they are our best customer."
      ]
    },
    {
      "cell_type": "code",
      "metadata": {
        "colab": {
          "base_uri": "https://localhost:8080/"
        },
        "id": "aTmA8H2fIRnw",
        "outputId": "b9a96b86-a7da-48a3-bf22-da1fb92a054c"
      },
      "source": [
        "t = 10 #predict purchases in 10 periods \n",
        "individual = df4.loc[318969]\n",
        "# The below function is an alias to `bfg.conditional_expected_number_of_purchases_up_, to_time` \n",
        "bgf.predict(t, individual['frequency'], individual['recency'], individual['T'])"
      ],
      "execution_count": null,
      "outputs": [
        {
          "output_type": "execute_result",
          "data": {
            "text/plain": [
              "1.0838826675640107"
            ]
          },
          "metadata": {},
          "execution_count": 123
        }
      ]
    },
    {
      "cell_type": "markdown",
      "metadata": {
        "id": "E76hAiQWI7qo"
      },
      "source": [
        "Our model predicts that customer 318969's future transaction is 1.083 in 10 days.\n",
        "\n",
        "## the probability of customer being alive"
      ]
    },
    {
      "cell_type": "code",
      "metadata": {
        "colab": {
          "base_uri": "https://localhost:8080/",
          "height": 264
        },
        "id": "8YK-OjAoI9oe",
        "outputId": "d8b00b72-4a6a-476f-fe9d-fd782acf9d36"
      },
      "source": [
        "t = 1\n",
        "df4['predicted_purchases'] = bgf.conditional_expected_number_of_purchases_up_to_time(t, df4['frequency'], df4['recency'], df4['T'])\n",
        "best_projected_cust = df4.sort_values('predicted_purchases').tail(6)\n",
        "df4.sort_values(by='predicted_purchases').tail(6)"
      ],
      "execution_count": null,
      "outputs": [
        {
          "output_type": "execute_result",
          "data": {
            "text/html": [
              "<div>\n",
              "<style scoped>\n",
              "    .dataframe tbody tr th:only-of-type {\n",
              "        vertical-align: middle;\n",
              "    }\n",
              "\n",
              "    .dataframe tbody tr th {\n",
              "        vertical-align: top;\n",
              "    }\n",
              "\n",
              "    .dataframe thead th {\n",
              "        text-align: right;\n",
              "    }\n",
              "</style>\n",
              "<table border=\"1\" class=\"dataframe\">\n",
              "  <thead>\n",
              "    <tr style=\"text-align: right;\">\n",
              "      <th></th>\n",
              "      <th>frequency</th>\n",
              "      <th>recency</th>\n",
              "      <th>T</th>\n",
              "      <th>monetary_value</th>\n",
              "      <th>predicted_purchases</th>\n",
              "    </tr>\n",
              "    <tr>\n",
              "      <th>UserId</th>\n",
              "      <th></th>\n",
              "      <th></th>\n",
              "      <th></th>\n",
              "      <th></th>\n",
              "      <th></th>\n",
              "    </tr>\n",
              "  </thead>\n",
              "  <tbody>\n",
              "    <tr>\n",
              "      <th>274869</th>\n",
              "      <td>73.0</td>\n",
              "      <td>364.0</td>\n",
              "      <td>369.0</td>\n",
              "      <td>3952.419452</td>\n",
              "      <td>0.171215</td>\n",
              "    </tr>\n",
              "    <tr>\n",
              "      <th>306726</th>\n",
              "      <td>87.0</td>\n",
              "      <td>372.0</td>\n",
              "      <td>374.0</td>\n",
              "      <td>751.895172</td>\n",
              "      <td>0.201366</td>\n",
              "    </tr>\n",
              "    <tr>\n",
              "      <th>321531</th>\n",
              "      <td>89.0</td>\n",
              "      <td>373.0</td>\n",
              "      <td>374.0</td>\n",
              "      <td>1577.221348</td>\n",
              "      <td>0.205957</td>\n",
              "    </tr>\n",
              "    <tr>\n",
              "      <th>267708</th>\n",
              "      <td>110.0</td>\n",
              "      <td>373.0</td>\n",
              "      <td>374.0</td>\n",
              "      <td>1575.798545</td>\n",
              "      <td>0.254096</td>\n",
              "    </tr>\n",
              "    <tr>\n",
              "      <th>374661</th>\n",
              "      <td>112.0</td>\n",
              "      <td>372.0</td>\n",
              "      <td>374.0</td>\n",
              "      <td>2357.964643</td>\n",
              "      <td>0.258672</td>\n",
              "    </tr>\n",
              "    <tr>\n",
              "      <th>313131</th>\n",
              "      <td>143.0</td>\n",
              "      <td>372.0</td>\n",
              "      <td>374.0</td>\n",
              "      <td>4818.553846</td>\n",
              "      <td>0.329732</td>\n",
              "    </tr>\n",
              "  </tbody>\n",
              "</table>\n",
              "</div>"
            ],
            "text/plain": [
              "        frequency  recency      T  monetary_value  predicted_purchases\n",
              "UserId                                                                \n",
              "274869       73.0    364.0  369.0     3952.419452             0.171215\n",
              "306726       87.0    372.0  374.0      751.895172             0.201366\n",
              "321531       89.0    373.0  374.0     1577.221348             0.205957\n",
              "267708      110.0    373.0  374.0     1575.798545             0.254096\n",
              "374661      112.0    372.0  374.0     2357.964643             0.258672\n",
              "313131      143.0    372.0  374.0     4818.553846             0.329732"
            ]
          },
          "metadata": {},
          "execution_count": 124
        }
      ]
    },
    {
      "cell_type": "code",
      "metadata": {
        "colab": {
          "base_uri": "https://localhost:8080/",
          "height": 390
        },
        "id": "IdAxRaOnJM8W",
        "outputId": "cd580883-4938-40aa-bc64-a2775917e51d"
      },
      "source": [
        "from lifetimes.plotting import plot_history_alive\n",
        "import matplotlib.pyplot as plt\n",
        "fig = plt.figure(figsize=(10,6))\n",
        "id = 321531\n",
        "days_since_birth = 365\n",
        "sp_trans = df2.loc[df2['UserId'] == id]\n",
        "plot_history_alive(bgf, days_since_birth, sp_trans, 'TransactionTime2')\n",
        "plt.show()"
      ],
      "execution_count": null,
      "outputs": [
        {
          "output_type": "display_data",
          "data": {
            "image/png": "[encoded data removed]",
            "text/plain": [
              "<Figure size 720x432 with 1 Axes>"
            ]
          },
          "metadata": {
            "needs_background": "light"
          }
        }
      ]
    },
    {
      "cell_type": "markdown",
      "metadata": {
        "id": "lgkQoLDwJ5u1"
      },
      "source": [
        "From this plot we can see that our customer with UserId 321531 is being dead"
      ]
    }
  ]
}